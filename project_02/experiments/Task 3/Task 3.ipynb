{
 "cells": [
  {
   "cell_type": "code",
   "execution_count": 1,
   "id": "7d14c6fd-c2ea-4420-9162-71298b23cb21",
   "metadata": {},
   "outputs": [],
   "source": [
    "import numpy as np\n",
    "from sympy import Symbol, diff, sin"
   ]
  },
  {
   "cell_type": "code",
   "execution_count": 2,
   "id": "4f5c2bb3-ee90-44e4-82ff-78563bca780e",
   "metadata": {},
   "outputs": [],
   "source": [
    "m = Symbol(\"m\")\n",
    "c = Symbol(\"c\")\n",
    "k = Symbol(\"k\")\n",
    "\n",
    "a1 = Symbol(\"a1\")\n",
    "a2 = Symbol(\"a2\")\n",
    "a3 = Symbol(\"a3\")\n",
    "w1 = Symbol(\"w1\")\n",
    "w2 = Symbol(\"w2\")\n",
    "w3 = Symbol(\"w3\")\n",
    "\n",
    "t = Symbol(\"t\")"
   ]
  },
  {
   "cell_type": "code",
   "execution_count": 4,
   "id": "8d1b8eab-21db-4a3b-952f-cf90243059a9",
   "metadata": {},
   "outputs": [
    {
     "data": {
      "text/latex": [
       "$\\displaystyle a_{1} \\sin{\\left(t w_{1} \\right)} + a_{2} \\sin{\\left(t w_{2} \\right)} + a_{3} \\sin{\\left(t w_{3} \\right)}$"
      ],
      "text/plain": [
       "a1*sin(t*w1) + a2*sin(t*w2) + a3*sin(t*w3)"
      ]
     },
     "execution_count": 4,
     "metadata": {},
     "output_type": "execute_result"
    }
   ],
   "source": [
    "f = a1*sin(w1*t)+a2*sin(w2*t)+a3*sin(w3*t)\n",
    "f"
   ]
  },
  {
   "cell_type": "code",
   "execution_count": 3,
   "id": "e9c8a67a-7bd8-420f-aa72-8c4fda3220c4",
   "metadata": {},
   "outputs": [],
   "source": [
    "c_dict = {\n",
    "    \"m\": 1,\n",
    "    \"c\": 0.1,\n",
    "    \"k\": 2,\n",
    "    \"a1\": 1,\n",
    "    \"a2\": 2,\n",
    "    \"a3\": 1.5,\n",
    "    \"w1\": 0.05,\n",
    "    \"w2\": 1,\n",
    "    \"w3\": 2\n",
    "}"
   ]
  },
  {
   "cell_type": "code",
   "execution_count": null,
   "id": "933ac09a-59a5-47c1-8928-ff84767028e2",
   "metadata": {},
   "outputs": [],
   "source": []
  }
 ],
 "metadata": {
  "kernelspec": {
   "display_name": "Python 3",
   "language": "python",
   "name": "python3"
  },
  "language_info": {
   "codemirror_mode": {
    "name": "ipython",
    "version": 3
   },
   "file_extension": ".py",
   "mimetype": "text/x-python",
   "name": "python",
   "nbconvert_exporter": "python",
   "pygments_lexer": "ipython3",
   "version": "3.9.7"
  }
 },
 "nbformat": 4,
 "nbformat_minor": 5
}
