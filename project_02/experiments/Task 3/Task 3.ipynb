{
 "cells": [
  {
   "cell_type": "code",
   "execution_count": 27,
   "id": "7d14c6fd-c2ea-4420-9162-71298b23cb21",
   "metadata": {},
   "outputs": [],
   "source": [
    "import numpy as np\n",
    "from sympy import Symbol, diff, sin"
   ]
  },
  {
   "cell_type": "code",
   "execution_count": 28,
   "id": "4f5c2bb3-ee90-44e4-82ff-78563bca780e",
   "metadata": {},
   "outputs": [],
   "source": [
    "m = Symbol(\"m\")\n",
    "c = Symbol(\"c\")\n",
    "k = Symbol(\"k\")\n",
    "\n",
    "a1 = Symbol(\"a1\")\n",
    "a2 = Symbol(\"a2\")\n",
    "a3 = Symbol(\"a3\")\n",
    "w1 = Symbol(\"w1\")\n",
    "w2 = Symbol(\"w2\")\n",
    "w3 = Symbol(\"w3\")\n",
    "\n",
    "t = Symbol(\"t\")\n",
    "y = Symbol(\"y\")\n",
    "dy = Symbol(\"dy\")"
   ]
  },
  {
   "cell_type": "code",
   "execution_count": 29,
   "id": "8055d021-9e59-4bfd-9051-ac708e2666cd",
   "metadata": {},
   "outputs": [
    {
     "data": {
      "text/latex": [
       "$\\displaystyle \\frac{a_{1} \\sin{\\left(t w_{1} \\right)} + a_{2} \\sin{\\left(t w_{2} \\right)} + a_{3} \\sin{\\left(t w_{3} \\right)} - c dy + k y}{m}$"
      ],
      "text/plain": [
       "(a1*sin(t*w1) + a2*sin(t*w2) + a3*sin(t*w3) - c*dy + k*y)/m"
      ]
     },
     "execution_count": 29,
     "metadata": {},
     "output_type": "execute_result"
    }
   ],
   "source": [
    "f = (a1*sin(w1*t)+a2*sin(w2*t)+a3*sin(w3*t) - c*dy + k*y)/m\n",
    "f"
   ]
  },
  {
   "cell_type": "code",
   "execution_count": 30,
   "id": "ae5f42ce-f302-44c7-b971-dfc555b0f497",
   "metadata": {},
   "outputs": [
    {
     "data": {
      "text/latex": [
       "$\\displaystyle - 0.1 dy + 2 y + \\sin{\\left(0.05 t \\right)} + 2 \\sin{\\left(t \\right)} + 1.5 \\sin{\\left(2 t \\right)}$"
      ],
      "text/plain": [
       "-0.1*dy + 2*y + sin(0.05*t) + 2*sin(t) + 1.5*sin(2*t)"
      ]
     },
     "execution_count": 30,
     "metadata": {},
     "output_type": "execute_result"
    }
   ],
   "source": [
    "f = f.subs(c_dict)\n",
    "f"
   ]
  },
  {
   "cell_type": "code",
   "execution_count": 31,
   "id": "e9c8a67a-7bd8-420f-aa72-8c4fda3220c4",
   "metadata": {},
   "outputs": [],
   "source": [
    "c_dict = {\n",
    "    \"m\": 1,\n",
    "    \"c\": 0.1,\n",
    "    \"k\": 2,\n",
    "    \"a1\": 1,\n",
    "    \"a2\": 2,\n",
    "    \"a3\": 1.5,\n",
    "    \"w1\": 0.05,\n",
    "    \"w2\": 1,\n",
    "    \"w3\": 2\n",
    "}\n",
    "\n",
    "delta_t = 0.1\n",
    "y_0 = 0\n",
    "dy_0 = 0"
   ]
  },
  {
   "cell_type": "code",
   "execution_count": 32,
   "id": "f81b30b3-68f8-481c-8f97-c988a7389641",
   "metadata": {},
   "outputs": [],
   "source": [
    "def runge_kutta_nystrom(f, delta, y_0, dy_0, maximum_t = 1):\n",
    "    y_arr = []\n",
    "    y_arr.append(y_0)\n",
    "    \n",
    "    dy_arr = [] \n",
    "    dy_arr.append(dy_0)\n",
    "    \n",
    "    t_ = 0\n",
    "    i = 0\n",
    "    \n",
    "    results = []\n",
    "    results.append([t_, y_0, dy_0])\n",
    "    \n",
    "    while (t_ < maximum_t):\n",
    "        K_1 = delta/2 * f.subs({\"t\": t_, \"y\": y_arr[i], \"dy\": dy_arr[i]})\n",
    "        Q = delta/2 * (dy_arr[i] + K_1/2)\n",
    "        \n",
    "        K_2 = delta/2 * f.subs({\"t\": t_ + delta/2, \"y\": y_arr[i] + Q, \"dy\": dy_arr[i] + K_1})\n",
    "        K_3 = delta/2 * f.subs({\"t\": t_ + delta/2, \"y\": y_arr[i] + Q, \"dy\": dy_arr[i] + K_2})\n",
    "        L = delta * (dy_arr[i] + K_3)\n",
    "        \n",
    "        K_4 = delta/2 * f.subs({\"t\": t_ + delta, \"y\": y_arr[i] + L, \"dy\": dy_arr[i] + 2*K_3})\n",
    "        \n",
    "        y_new = y_arr[i] + delta * (dy_arr[i] + (K_1 + K_2 + K_3)/3)\n",
    "        y_arr.append(y_new)\n",
    "        \n",
    "        dy_new = dy_arr[i] + (K_1 + 2*K_2 + 2*K_3 + K_4)/3\n",
    "        dy_arr.append(dy_new)\n",
    "        \n",
    "        i += 1\n",
    "        t_ = delta * i\n",
    "        \n",
    "        results.append([t_, y_new, dy_new])\n",
    "    \n",
    "    return results"
   ]
  },
  {
   "cell_type": "code",
   "execution_count": 33,
   "id": "933ac09a-59a5-47c1-8928-ff84767028e2",
   "metadata": {},
   "outputs": [],
   "source": [
    "results = runge_kutta_nystrom(f, delta_t, y_0, dy_0, maximum_t = 1)"
   ]
  },
  {
   "cell_type": "code",
   "execution_count": 34,
   "id": "9456ddfb-42ff-428e-8d24-4219383add58",
   "metadata": {},
   "outputs": [],
   "source": [
    "results_new = [[a[0], a[1], a[2], f.subs({\"t\": a[0], \"y\": a[1], \"dy\": a[2]})] for a in results]"
   ]
  },
  {
   "cell_type": "code",
   "execution_count": 35,
   "id": "bf03f3e3-7533-4f39-901f-3b8d6c277c1c",
   "metadata": {},
   "outputs": [
    {
     "data": {
      "text/plain": [
       "[[0, 0, 0, 0],\n",
       " [0.1, 0.000838593132517215, 0.0251497094612266, 0.501833023971853],\n",
       " [0.2, 0.00668814742899667, 0.100071795495472, 0.994835123695711],\n",
       " [0.30000000000000004,\n",
       "  0.0224758150446540,\n",
       "  0.223707422011565,\n",
       "  1.47558444880971],\n",
       " [0.4, 0.0530068502366182, 0.394690072013397, 1.94141418093182],\n",
       " [0.5, 0.102938253691175, 0.611440055029035, 2.39078745221441],\n",
       " [0.6000000000000001, 0.176763686899084, 0.872294811406041, 2.82363696860097],\n",
       " [0.7000000000000001, 0.278813046523087, 1.17567109291402, 3.24166180781718],\n",
       " [0.8, 0.413269662066449, 1.52025443987102, 3.64857580069373],\n",
       " [0.9, 0.584207597885318, 1.90521092729029, 4.05030418265153],\n",
       " [1.0, 0.795651025402516, 2.33041594613657, 4.45512773531637]]"
      ]
     },
     "execution_count": 35,
     "metadata": {},
     "output_type": "execute_result"
    }
   ],
   "source": [
    "results_new"
   ]
  },
  {
   "cell_type": "code",
   "execution_count": 38,
   "id": "59b46ca8-d306-4aca-95a9-519caac8ee63",
   "metadata": {},
   "outputs": [
    {
     "data": {
      "text/html": [
       "<div>\n",
       "<style scoped>\n",
       "    .dataframe tbody tr th:only-of-type {\n",
       "        vertical-align: middle;\n",
       "    }\n",
       "\n",
       "    .dataframe tbody tr th {\n",
       "        vertical-align: top;\n",
       "    }\n",
       "\n",
       "    .dataframe thead th {\n",
       "        text-align: right;\n",
       "    }\n",
       "</style>\n",
       "<table border=\"1\" class=\"dataframe\">\n",
       "  <thead>\n",
       "    <tr style=\"text-align: right;\">\n",
       "      <th></th>\n",
       "      <th>tempo</th>\n",
       "      <th>deslocamento</th>\n",
       "      <th>velocidade</th>\n",
       "      <th>aceleração</th>\n",
       "    </tr>\n",
       "  </thead>\n",
       "  <tbody>\n",
       "    <tr>\n",
       "      <th>0</th>\n",
       "      <td>0.0</td>\n",
       "      <td>0</td>\n",
       "      <td>0</td>\n",
       "      <td>0</td>\n",
       "    </tr>\n",
       "    <tr>\n",
       "      <th>1</th>\n",
       "      <td>0.1</td>\n",
       "      <td>0.000838593132517215</td>\n",
       "      <td>0.0251497094612266</td>\n",
       "      <td>0.501833023971853</td>\n",
       "    </tr>\n",
       "    <tr>\n",
       "      <th>2</th>\n",
       "      <td>0.2</td>\n",
       "      <td>0.00668814742899667</td>\n",
       "      <td>0.100071795495472</td>\n",
       "      <td>0.994835123695711</td>\n",
       "    </tr>\n",
       "    <tr>\n",
       "      <th>3</th>\n",
       "      <td>0.3</td>\n",
       "      <td>0.0224758150446540</td>\n",
       "      <td>0.223707422011565</td>\n",
       "      <td>1.47558444880971</td>\n",
       "    </tr>\n",
       "    <tr>\n",
       "      <th>4</th>\n",
       "      <td>0.4</td>\n",
       "      <td>0.0530068502366182</td>\n",
       "      <td>0.394690072013397</td>\n",
       "      <td>1.94141418093182</td>\n",
       "    </tr>\n",
       "    <tr>\n",
       "      <th>5</th>\n",
       "      <td>0.5</td>\n",
       "      <td>0.102938253691175</td>\n",
       "      <td>0.611440055029035</td>\n",
       "      <td>2.39078745221441</td>\n",
       "    </tr>\n",
       "    <tr>\n",
       "      <th>6</th>\n",
       "      <td>0.6</td>\n",
       "      <td>0.176763686899084</td>\n",
       "      <td>0.872294811406041</td>\n",
       "      <td>2.82363696860097</td>\n",
       "    </tr>\n",
       "    <tr>\n",
       "      <th>7</th>\n",
       "      <td>0.7</td>\n",
       "      <td>0.278813046523087</td>\n",
       "      <td>1.17567109291402</td>\n",
       "      <td>3.24166180781718</td>\n",
       "    </tr>\n",
       "    <tr>\n",
       "      <th>8</th>\n",
       "      <td>0.8</td>\n",
       "      <td>0.413269662066449</td>\n",
       "      <td>1.52025443987102</td>\n",
       "      <td>3.64857580069373</td>\n",
       "    </tr>\n",
       "    <tr>\n",
       "      <th>9</th>\n",
       "      <td>0.9</td>\n",
       "      <td>0.584207597885318</td>\n",
       "      <td>1.90521092729029</td>\n",
       "      <td>4.05030418265153</td>\n",
       "    </tr>\n",
       "    <tr>\n",
       "      <th>10</th>\n",
       "      <td>1.0</td>\n",
       "      <td>0.795651025402516</td>\n",
       "      <td>2.33041594613657</td>\n",
       "      <td>4.45512773531637</td>\n",
       "    </tr>\n",
       "  </tbody>\n",
       "</table>\n",
       "</div>"
      ],
      "text/plain": [
       "    tempo          deslocamento          velocidade         aceleração\n",
       "0     0.0                     0                   0                  0\n",
       "1     0.1  0.000838593132517215  0.0251497094612266  0.501833023971853\n",
       "2     0.2   0.00668814742899667   0.100071795495472  0.994835123695711\n",
       "3     0.3    0.0224758150446540   0.223707422011565   1.47558444880971\n",
       "4     0.4    0.0530068502366182   0.394690072013397   1.94141418093182\n",
       "5     0.5     0.102938253691175   0.611440055029035   2.39078745221441\n",
       "6     0.6     0.176763686899084   0.872294811406041   2.82363696860097\n",
       "7     0.7     0.278813046523087    1.17567109291402   3.24166180781718\n",
       "8     0.8     0.413269662066449    1.52025443987102   3.64857580069373\n",
       "9     0.9     0.584207597885318    1.90521092729029   4.05030418265153\n",
       "10    1.0     0.795651025402516    2.33041594613657   4.45512773531637"
      ]
     },
     "execution_count": 38,
     "metadata": {},
     "output_type": "execute_result"
    }
   ],
   "source": [
    "import pandas as pd\n",
    "pd.DataFrame(results_new, columns=[\"tempo\", \"deslocamento\", \"velocidade\", \"aceleração\"])"
   ]
  },
  {
   "cell_type": "code",
   "execution_count": null,
   "id": "b6775f3e-1071-40b9-a7f8-3dc19a577ed0",
   "metadata": {},
   "outputs": [],
   "source": []
  }
 ],
 "metadata": {
  "kernelspec": {
   "display_name": "Python 3",
   "language": "python",
   "name": "python3"
  },
  "language_info": {
   "codemirror_mode": {
    "name": "ipython",
    "version": 3
   },
   "file_extension": ".py",
   "mimetype": "text/x-python",
   "name": "python",
   "nbconvert_exporter": "python",
   "pygments_lexer": "ipython3",
   "version": "3.9.7"
  }
 },
 "nbformat": 4,
 "nbformat_minor": 5
}
