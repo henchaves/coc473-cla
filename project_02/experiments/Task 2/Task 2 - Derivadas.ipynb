{
 "cells": [
  {
   "cell_type": "code",
   "execution_count": 6,
   "id": "89daa451-c7c0-46e5-877c-09cad90f994d",
   "metadata": {},
   "outputs": [],
   "source": [
    "import numpy as np\n",
    "from sympy import Symbol, exp"
   ]
  },
  {
   "cell_type": "code",
   "execution_count": 2,
   "id": "3e6fc985-fb36-49c4-85ec-07e61680665b",
   "metadata": {},
   "outputs": [],
   "source": [
    "x = Symbol(\"x\")"
   ]
  },
  {
   "cell_type": "code",
   "execution_count": 4,
   "id": "7f9ec9d6-7bc2-47ca-b803-de25dab269a1",
   "metadata": {},
   "outputs": [],
   "source": [
    "c1 = Symbol('c1')\n",
    "c2 = Symbol('c2')\n",
    "c3 = Symbol('c3')\n",
    "c4 = Symbol('c4')"
   ]
  },
  {
   "cell_type": "code",
   "execution_count": 11,
   "id": "da461af0-b80a-447a-a84b-ba7762ead57e",
   "metadata": {},
   "outputs": [],
   "source": [
    "c_dict = {\"c1\": 1, \"c2\": 1, \"c3\": 1, \"c4\": 0}"
   ]
  },
  {
   "cell_type": "code",
   "execution_count": 8,
   "id": "d2f959fd-37a2-40e3-b7d7-f435175515bb",
   "metadata": {},
   "outputs": [
    {
     "data": {
      "text/latex": [
       "$\\displaystyle c_{1} e^{c_{2} x} + c_{3} x^{c_{4}}$"
      ],
      "text/plain": [
       "c1*exp(c2*x) + c3*x**c4"
      ]
     },
     "execution_count": 8,
     "metadata": {},
     "output_type": "execute_result"
    }
   ],
   "source": [
    "f = c1*exp(c2*x)+c3*x**c4\n",
    "f"
   ]
  },
  {
   "cell_type": "code",
   "execution_count": 3,
   "id": "5a66eed8-ac94-456e-a2e5-4e1b77e49fab",
   "metadata": {},
   "outputs": [],
   "source": [
    "x_value = 2\n",
    "delta_x = 0.02"
   ]
  },
  {
   "cell_type": "code",
   "execution_count": 18,
   "id": "b7bad6f9-6cfa-4ae8-a554-de6fb46b96fa",
   "metadata": {},
   "outputs": [],
   "source": [
    "def deriv_central(f, x_value, delta_x, extra_dict={}):\n",
    "    x_mais = x_value + delta_x\n",
    "    f_mais = float(f.subs({\"x\": x_mais} | extra_dict))\n",
    "    x_menos = x_value - delta_x\n",
    "    f_menos = float(f.subs({\"x\": x_menos} | extra_dict))\n",
    "    \n",
    "    f_deriv = (f_mais - f_menos)/(2*delta_x)\n",
    "    return f_deriv"
   ]
  },
  {
   "cell_type": "code",
   "execution_count": 14,
   "id": "742846c5-f44b-4ff5-aae9-6d9e579a5ce1",
   "metadata": {},
   "outputs": [
    {
     "data": {
      "text/plain": [
       "7.389548712522753"
      ]
     },
     "execution_count": 14,
     "metadata": {},
     "output_type": "execute_result"
    }
   ],
   "source": [
    "deriv_central(f, x_value, delta_x, c_dict)"
   ]
  },
  {
   "cell_type": "code",
   "execution_count": 16,
   "id": "aded54e8-db19-4d3f-8bbd-fa053b722db2",
   "metadata": {},
   "outputs": [],
   "source": [
    "def deriv_frente(f, x_value, delta_x, extra_dict={}):\n",
    "    x_mais = x_value + delta_x\n",
    "    f_mais = float(f.subs({\"x\": x_mais} | extra_dict))\n",
    "    f_normal = float(f.subs({\"x\": x_value} | extra_dict))\n",
    "    \n",
    "    f_deriv = (f_mais - f_normal)/delta_x\n",
    "    return f_deriv"
   ]
  },
  {
   "cell_type": "code",
   "execution_count": 17,
   "id": "ba9b3212-7d88-45cf-97e2-35d9513a6b0e",
   "metadata": {},
   "outputs": [
    {
     "data": {
      "text/plain": [
       "7.463441736563592"
      ]
     },
     "execution_count": 17,
     "metadata": {},
     "output_type": "execute_result"
    }
   ],
   "source": [
    "deriv_frente(f, x_value, delta_x, c_dict)"
   ]
  },
  {
   "cell_type": "code",
   "execution_count": 19,
   "id": "6ad17efa-ebf6-49e3-b831-ba5a5bc3f5bc",
   "metadata": {},
   "outputs": [],
   "source": [
    "def deriv_tras(f, x_value, delta_x, extra_dict={}):\n",
    "    f_normal = float(f.subs({\"x\": x_value} | extra_dict))\n",
    "    x_menos = x_value - delta_x\n",
    "    f_menos = float(f.subs({\"x\": x_menos} | extra_dict))\n",
    "    \n",
    "    f_deriv = (f_normal - f_menos)/delta_x\n",
    "    return f_deriv"
   ]
  },
  {
   "cell_type": "code",
   "execution_count": 20,
   "id": "6c62067a-fb49-474b-972b-ed621d1caa58",
   "metadata": {},
   "outputs": [
    {
     "data": {
      "text/plain": [
       "7.315655688481915"
      ]
     },
     "execution_count": 20,
     "metadata": {},
     "output_type": "execute_result"
    }
   ],
   "source": [
    "deriv_tras(f, x_value, delta_x, c_dict)"
   ]
  },
  {
   "cell_type": "code",
   "execution_count": 21,
   "id": "3d83590f-2789-4fcd-bacc-832f56d16bf5",
   "metadata": {},
   "outputs": [],
   "source": [
    "from sympy import sin"
   ]
  },
  {
   "cell_type": "code",
   "execution_count": null,
   "id": "2c5a395d-1ef2-450d-8a2a-c16ee189f16e",
   "metadata": {},
   "outputs": [],
   "source": [
    "f = sin(x)"
   ]
  },
  {
   "cell_type": "code",
   "execution_count": 31,
   "id": "dcadc303-eec7-47f1-97e2-e08952ddc74d",
   "metadata": {},
   "outputs": [],
   "source": [
    "def deriv_richard(f, x_value, delta_x_1, delta_x_2, extra_dict={}):\n",
    "    d_1 = deriv_frente(f, x_value, delta_x_1, extra_dict=extra_dict)\n",
    "    d_2 = deriv_frente(f, x_value, delta_x_2, extra_dict=extra_dict)\n",
    "    q = delta_x_1/delta_x_2\n",
    "    \n",
    "    f_deriv = d_1 + (d_1-d_2)/(np.power(q, -1) - 1)\n",
    "    return f_deriv"
   ]
  },
  {
   "cell_type": "code",
   "execution_count": 32,
   "id": "9396775c-43d8-4cbf-9f12-3897bdc03828",
   "metadata": {},
   "outputs": [
    {
     "data": {
      "text/plain": [
       "0.5480610727892017"
      ]
     },
     "execution_count": 32,
     "metadata": {},
     "output_type": "execute_result"
    }
   ],
   "source": [
    "deriv_richard(f, 1, 0.5, 0.25, extra_dict=c_dict)"
   ]
  },
  {
   "cell_type": "code",
   "execution_count": null,
   "id": "9fd40469-9261-47b2-a0fe-ddcc4f7a1d78",
   "metadata": {},
   "outputs": [],
   "source": []
  }
 ],
 "metadata": {
  "kernelspec": {
   "display_name": "Python 3",
   "language": "python",
   "name": "python3"
  },
  "language_info": {
   "codemirror_mode": {
    "name": "ipython",
    "version": 3
   },
   "file_extension": ".py",
   "mimetype": "text/x-python",
   "name": "python",
   "nbconvert_exporter": "python",
   "pygments_lexer": "ipython3",
   "version": "3.9.7"
  }
 },
 "nbformat": 4,
 "nbformat_minor": 5
}
