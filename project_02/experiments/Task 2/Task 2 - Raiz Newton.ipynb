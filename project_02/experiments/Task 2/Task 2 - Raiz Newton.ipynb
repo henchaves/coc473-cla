{
 "cells": [
  {
   "cell_type": "code",
   "execution_count": 8,
   "id": "b047feb5-8428-445e-b296-744d610099ac",
   "metadata": {},
   "outputs": [],
   "source": [
    "import numpy as np\n",
    "from sympy import Symbol, cos, exp, sin, diff"
   ]
  },
  {
   "cell_type": "code",
   "execution_count": 2,
   "id": "c03d3707-ed61-4079-9c1b-05e0d42a29c9",
   "metadata": {},
   "outputs": [],
   "source": [
    "x = Symbol('x')\n",
    "c1 = Symbol('c1')\n",
    "c2 = Symbol('c2')\n",
    "c3 = Symbol('c3')\n",
    "c4 = Symbol('c4')"
   ]
  },
  {
   "cell_type": "code",
   "execution_count": 32,
   "id": "71fd250e-b4bb-4cc2-9514-e6cc2651e112",
   "metadata": {},
   "outputs": [],
   "source": [
    "c_dict = {\"c1\": 1, \"c2\": 1, \"c3\": 1, \"c4\": 2}"
   ]
  },
  {
   "cell_type": "code",
   "execution_count": 33,
   "id": "b8a8b269-188f-441f-9327-635d2593014a",
   "metadata": {},
   "outputs": [
    {
     "data": {
      "text/latex": [
       "$\\displaystyle c_{1} e^{c_{2} x} + c_{3} x^{c_{4}}$"
      ],
      "text/plain": [
       "c1*exp(c2*x) + c3*x**c4"
      ]
     },
     "execution_count": 33,
     "metadata": {},
     "output_type": "execute_result"
    }
   ],
   "source": [
    "f = c1*exp(c2*x)+c3*x**c4\n",
    "f"
   ]
  },
  {
   "cell_type": "code",
   "execution_count": null,
   "id": "0fd6c56a-8ee3-4892-80e9-40af2852bcc6",
   "metadata": {},
   "outputs": [],
   "source": []
  },
  {
   "cell_type": "code",
   "execution_count": 34,
   "id": "55054991-a054-4e3f-949f-a04aa299e903",
   "metadata": {},
   "outputs": [],
   "source": [
    "# f = x**2 - 4*cos(x)\n",
    "# f"
   ]
  },
  {
   "cell_type": "code",
   "execution_count": 35,
   "id": "8b34a738-5699-463c-8bd1-b719087befe4",
   "metadata": {},
   "outputs": [
    {
     "data": {
      "text/latex": [
       "$\\displaystyle c_{1} c_{2} e^{c_{2} x} + \\frac{c_{3} c_{4} x^{c_{4}}}{x}$"
      ],
      "text/plain": [
       "c1*c2*exp(c2*x) + c3*c4*x**c4/x"
      ]
     },
     "execution_count": 35,
     "metadata": {},
     "output_type": "execute_result"
    }
   ],
   "source": [
    "f_deriv = diff(f, x)\n",
    "f_deriv"
   ]
  },
  {
   "cell_type": "code",
   "execution_count": 36,
   "id": "9245bd45-bc3f-40dc-8bf4-363217c49f16",
   "metadata": {},
   "outputs": [],
   "source": [
    "x_0 = 10\n",
    "tol = 5e-4\n",
    "max_iter = 100"
   ]
  },
  {
   "cell_type": "code",
   "execution_count": 37,
   "id": "86dfc4c3-a90a-4d5c-b854-289e088fb01a",
   "metadata": {},
   "outputs": [],
   "source": [
    "for k in range(1, max_iter):\n",
    "    if k == 1:\n",
    "        x_old = x_0\n",
    "        \n",
    "    x_k = x_old - float(f.subs({\"x\": x_old} | c_dict))/float(f_deriv.subs({\"x\": x_old} | c_dict))\n",
    "    tolk = np.abs(x_k - x_old)\n",
    "    x_old = x_k\n",
    "    if tolk < tol:\n",
    "        break\n",
    "    if k == max_iter:\n",
    "        print(\"Não convergiu\")"
   ]
  },
  {
   "cell_type": "code",
   "execution_count": 38,
   "id": "ac23b48a-405b-4023-9c77-4e7d78a24513",
   "metadata": {},
   "outputs": [
    {
     "data": {
      "text/plain": [
       "-3.374933102361844"
      ]
     },
     "execution_count": 38,
     "metadata": {},
     "output_type": "execute_result"
    }
   ],
   "source": [
    "x_k"
   ]
  }
 ],
 "metadata": {
  "kernelspec": {
   "display_name": "Python 3",
   "language": "python",
   "name": "python3"
  },
  "language_info": {
   "codemirror_mode": {
    "name": "ipython",
    "version": 3
   },
   "file_extension": ".py",
   "mimetype": "text/x-python",
   "name": "python",
   "nbconvert_exporter": "python",
   "pygments_lexer": "ipython3",
   "version": "3.9.7"
  }
 },
 "nbformat": 4,
 "nbformat_minor": 5
}
