{
 "cells": [
  {
   "cell_type": "code",
   "execution_count": 17,
   "id": "56ad613e-e42c-494b-94c5-ee3d1cc40a91",
   "metadata": {},
   "outputs": [],
   "source": [
    "import numpy as np\n",
    "from sympy import Symbol, cos, exp"
   ]
  },
  {
   "cell_type": "code",
   "execution_count": 6,
   "id": "3c8ef69b-805c-4f6d-8a07-e58efd390976",
   "metadata": {},
   "outputs": [],
   "source": [
    "x = Symbol('x')\n",
    "c1 = Symbol('c1')\n",
    "c2 = Symbol('c2')\n",
    "c3 = Symbol('c3')\n",
    "c4 = Symbol('c4')"
   ]
  },
  {
   "cell_type": "code",
   "execution_count": 16,
   "id": "513b7e83-24b1-4735-8405-4ac75d4860fd",
   "metadata": {},
   "outputs": [],
   "source": [
    "c_dict = {\"c1\": 1, \"c2\": 1, \"c3\": 1, \"c4\": 0}"
   ]
  },
  {
   "cell_type": "code",
   "execution_count": 19,
   "id": "4473e93a-3ddb-4884-95a2-703ad25ca3ba",
   "metadata": {},
   "outputs": [],
   "source": [
    "# f = x**2 - 4*cos(x)\n",
    "f = c1*exp(c2*x)+c3*x**c4"
   ]
  },
  {
   "cell_type": "code",
   "execution_count": 21,
   "id": "3ba4d04c-4dc7-4028-8150-b16809ad479f",
   "metadata": {},
   "outputs": [],
   "source": [
    "a = 0\n",
    "b = 10\n",
    "tol = 1e-4\n",
    "\n",
    "while np.abs(b-a) > tol:\n",
    "    x_i = (a+b)/2\n",
    "    f_i = f.subs(c_dict | {\"x\": x_i})\n",
    "    if (f_i > 0):\n",
    "        b = x_i\n",
    "    else:\n",
    "        a = x_i"
   ]
  },
  {
   "cell_type": "code",
   "execution_count": 22,
   "id": "db3aac66-845f-4b26-aa25-a7eb483aaa49",
   "metadata": {},
   "outputs": [
    {
     "data": {
      "text/plain": [
       "7.62939453125e-05"
      ]
     },
     "execution_count": 22,
     "metadata": {},
     "output_type": "execute_result"
    }
   ],
   "source": [
    "x_i"
   ]
  },
  {
   "cell_type": "code",
   "execution_count": null,
   "id": "40f21fb0-7eb3-48a0-abcf-a2992c59d971",
   "metadata": {},
   "outputs": [],
   "source": []
  }
 ],
 "metadata": {
  "kernelspec": {
   "display_name": "Python 3",
   "language": "python",
   "name": "python3"
  },
  "language_info": {
   "codemirror_mode": {
    "name": "ipython",
    "version": 3
   },
   "file_extension": ".py",
   "mimetype": "text/x-python",
   "name": "python",
   "nbconvert_exporter": "python",
   "pygments_lexer": "ipython3",
   "version": "3.9.7"
  }
 },
 "nbformat": 4,
 "nbformat_minor": 5
}
