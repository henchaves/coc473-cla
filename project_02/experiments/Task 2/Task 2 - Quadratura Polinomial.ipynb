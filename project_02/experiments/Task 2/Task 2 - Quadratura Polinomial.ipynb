{
 "cells": [
  {
   "cell_type": "code",
   "execution_count": 1,
   "id": "020c5b3f-3879-42ed-aa90-9411bf480906",
   "metadata": {},
   "outputs": [],
   "source": [
    "import numpy as np\n",
    "from sympy import Symbol, exp"
   ]
  },
  {
   "cell_type": "code",
   "execution_count": 2,
   "id": "adc19fc0-b060-4ef9-b6b4-b6a345819b17",
   "metadata": {},
   "outputs": [],
   "source": [
    "x = Symbol(\"x\")"
   ]
  },
  {
   "cell_type": "code",
   "execution_count": 3,
   "id": "53d7bfd2-af55-493a-a2c0-97f59aed1f28",
   "metadata": {},
   "outputs": [
    {
     "data": {
      "text/latex": [
       "$\\displaystyle e^{- x^{2}}$"
      ],
      "text/plain": [
       "exp(-x**2)"
      ]
     },
     "execution_count": 3,
     "metadata": {},
     "output_type": "execute_result"
    }
   ],
   "source": [
    "f = exp(-x**2)\n",
    "f"
   ]
  },
  {
   "cell_type": "code",
   "execution_count": 4,
   "id": "f13c68ba-7461-4e1a-9265-53fa70600dd1",
   "metadata": {},
   "outputs": [],
   "source": [
    "a = 0\n",
    "b = 1"
   ]
  },
  {
   "cell_type": "code",
   "execution_count": 5,
   "id": "2385e402-73e9-47e5-90d1-993aa3aa96da",
   "metadata": {
    "tags": []
   },
   "outputs": [],
   "source": [
    "def get_polinomial_x(a, b):\n",
    "    polinomial_x = {}\n",
    "\n",
    "    for N in range(2, 11):\n",
    "        delta = delta = (b-a)/(N-1)\n",
    "        polinomial_x[N] = {}\n",
    "\n",
    "        for i in range(1, N+1):\n",
    "            if i == 1:\n",
    "                polinomial_x[N][i] = a\n",
    "            elif i == N:\n",
    "                polinomial_x[N][i] = b\n",
    "            else:\n",
    "                polinomial_x[N][i] = a + (i-1)*delta\n",
    "    \n",
    "    return polinomial_x\n"
   ]
  },
  {
   "cell_type": "code",
   "execution_count": 6,
   "id": "01afe3c8-a881-4b99-a320-c3d3bbb739ea",
   "metadata": {},
   "outputs": [
    {
     "data": {
      "text/plain": [
       "{2: {1: 0, 2: 1},\n",
       " 3: {1: 0, 2: 0.5, 3: 1},\n",
       " 4: {1: 0, 2: 0.3333333333333333, 3: 0.6666666666666666, 4: 1},\n",
       " 5: {1: 0, 2: 0.25, 3: 0.5, 4: 0.75, 5: 1},\n",
       " 6: {1: 0, 2: 0.2, 3: 0.4, 4: 0.6000000000000001, 5: 0.8, 6: 1},\n",
       " 7: {1: 0,\n",
       "  2: 0.16666666666666666,\n",
       "  3: 0.3333333333333333,\n",
       "  4: 0.5,\n",
       "  5: 0.6666666666666666,\n",
       "  6: 0.8333333333333333,\n",
       "  7: 1},\n",
       " 8: {1: 0,\n",
       "  2: 0.14285714285714285,\n",
       "  3: 0.2857142857142857,\n",
       "  4: 0.42857142857142855,\n",
       "  5: 0.5714285714285714,\n",
       "  6: 0.7142857142857142,\n",
       "  7: 0.8571428571428571,\n",
       "  8: 1},\n",
       " 9: {1: 0,\n",
       "  2: 0.125,\n",
       "  3: 0.25,\n",
       "  4: 0.375,\n",
       "  5: 0.5,\n",
       "  6: 0.625,\n",
       "  7: 0.75,\n",
       "  8: 0.875,\n",
       "  9: 1},\n",
       " 10: {1: 0,\n",
       "  2: 0.1111111111111111,\n",
       "  3: 0.2222222222222222,\n",
       "  4: 0.3333333333333333,\n",
       "  5: 0.4444444444444444,\n",
       "  6: 0.5555555555555556,\n",
       "  7: 0.6666666666666666,\n",
       "  8: 0.7777777777777777,\n",
       "  9: 0.8888888888888888,\n",
       "  10: 1}}"
      ]
     },
     "execution_count": 6,
     "metadata": {},
     "output_type": "execute_result"
    }
   ],
   "source": [
    "polinomial_x = get_polinomial_x(a, b)\n",
    "polinomial_x"
   ]
  },
  {
   "cell_type": "code",
   "execution_count": 10,
   "id": "4214196e-e142-4492-89c9-928d2247789d",
   "metadata": {},
   "outputs": [],
   "source": [
    "def get_polinomial_weights():\n",
    "    polinomial_weights = {}\n",
    "    \n",
    "    for N in range(2, 11):\n",
    "        polinomial_weights[N] = {}\n",
    "        A = np.empty((N, N))\n",
    "        B = np.empty((N, 1))\n",
    "        x = np.empty((N, 1))\n",
    "        delta = 1/(N-1)\n",
    "\n",
    "        for i in range(1, N+1):\n",
    "            x[i-1][0] = (i-1)*delta\n",
    "\n",
    "        for i in range(1, N+1):\n",
    "            for j in range(1, N+1):\n",
    "                A[i-1][j-1] = x[j-1]**(i-1)\n",
    "            B[i-1][0] = 1/i\n",
    "        \n",
    "        w = np.dot(np.linalg.inv(A), B)\n",
    "        \n",
    "        for i in range(1, N+1):\n",
    "            polinomial_weights[N][i] = w[i-1][0]\n",
    "    return polinomial_weights"
   ]
  },
  {
   "cell_type": "code",
   "execution_count": 11,
   "id": "ef1b0640-734b-42c1-bd65-aa9d270511e7",
   "metadata": {},
   "outputs": [
    {
     "data": {
      "text/plain": [
       "{2: {1: 0.5, 2: 0.5},\n",
       " 3: {1: 0.16666666666666663, 2: 0.6666666666666667, 3: 0.16666666666666663},\n",
       " 4: {1: 0.12500000000000044,\n",
       "  2: 0.3750000000000009,\n",
       "  3: 0.3749999999999991,\n",
       "  4: 0.12500000000000022},\n",
       " 5: {1: 0.07777777777777439,\n",
       "  2: 0.35555555555555785,\n",
       "  3: 0.1333333333333364,\n",
       "  4: 0.35555555555555607,\n",
       "  5: 0.07777777777777795},\n",
       " 6: {1: 0.06597222222224275,\n",
       "  2: 0.260416666666643,\n",
       "  3: 0.17361111111110006,\n",
       "  4: 0.17361111111110006,\n",
       "  5: 0.2604166666666714,\n",
       "  6: 0.06597222222222143},\n",
       " 7: {1: 0.04880952380941039,\n",
       "  2: 0.25714285714400376,\n",
       "  3: 0.032142857141082004,\n",
       "  4: 0.3238095238104961,\n",
       "  5: 0.03214285714255993,\n",
       "  6: 0.2571428571428811,\n",
       "  7: 0.048809523809522304},\n",
       " 8: {1: 0.04346064814586725,\n",
       "  2: 0.20700231481873743,\n",
       "  3: 0.07656249999854481,\n",
       "  4: 0.17297453703758947,\n",
       "  5: 0.17297453703577048,\n",
       "  6: 0.07656250000127329,\n",
       "  7: 0.2070023148146447,\n",
       "  8: 0.04346064814814099},\n",
       " 9: {1: 0.03488536151537858,\n",
       "  2: 0.20768959450197144,\n",
       "  3: -0.03273368629174911,\n",
       "  4: 0.3702292770722124,\n",
       "  5: -0.16014109355592154,\n",
       "  6: 0.3702292769162341,\n",
       "  7: -0.032733686074379875,\n",
       "  8: 0.20768959435702072,\n",
       "  9: 0.03488536155197863},\n",
       " 10: {1: 0.03188616089568086,\n",
       "  2: 0.1756808030550019,\n",
       "  3: 0.012053571750584524,\n",
       "  4: 0.21589285727532115,\n",
       "  5: 0.06448660698515596,\n",
       "  6: 0.06448660721071064,\n",
       "  7: 0.215892857129802,\n",
       "  8: 0.012053571443175315,\n",
       "  9: 0.1756808035679569,\n",
       "  10: 0.03188616071412298}}"
      ]
     },
     "execution_count": 11,
     "metadata": {},
     "output_type": "execute_result"
    }
   ],
   "source": [
    "polinomial_weights = get_polinomial_weights()\n",
    "polinomial_weights"
   ]
  },
  {
   "cell_type": "code",
   "execution_count": 25,
   "id": "63309185-8076-4bcb-84fe-519fbce236fc",
   "metadata": {},
   "outputs": [],
   "source": [
    "area = 0\n",
    "N = 3\n",
    "\n",
    "for i in range(1, N+1):\n",
    "    w_i = polinomial_weights[N][i]\n",
    "    x_i = polinomial_x[N][i]\n",
    "    f_i = float(f.subs({\"x\": x_i}))\n",
    "    area += f_i*w_i"
   ]
  },
  {
   "cell_type": "code",
   "execution_count": 26,
   "id": "166c06eb-7dd7-492c-b7c5-c1ef7f36246a",
   "metadata": {},
   "outputs": [
    {
     "data": {
      "text/plain": [
       "0.7471804289095104"
      ]
     },
     "execution_count": 26,
     "metadata": {},
     "output_type": "execute_result"
    }
   ],
   "source": [
    "area"
   ]
  }
 ],
 "metadata": {
  "kernelspec": {
   "display_name": "Python 3",
   "language": "python",
   "name": "python3"
  },
  "language_info": {
   "codemirror_mode": {
    "name": "ipython",
    "version": 3
   },
   "file_extension": ".py",
   "mimetype": "text/x-python",
   "name": "python",
   "nbconvert_exporter": "python",
   "pygments_lexer": "ipython3",
   "version": "3.9.7"
  }
 },
 "nbformat": 4,
 "nbformat_minor": 5
}
