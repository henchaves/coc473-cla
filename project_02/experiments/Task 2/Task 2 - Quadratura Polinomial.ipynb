{
 "cells": [
  {
   "cell_type": "code",
   "execution_count": 46,
   "id": "020c5b3f-3879-42ed-aa90-9411bf480906",
   "metadata": {},
   "outputs": [],
   "source": [
    "import numpy as np\n",
    "from sympy import Symbol, exp"
   ]
  },
  {
   "cell_type": "code",
   "execution_count": 47,
   "id": "adc19fc0-b060-4ef9-b6b4-b6a345819b17",
   "metadata": {},
   "outputs": [
    {
     "data": {
      "text/latex": [
       "$\\displaystyle c_{1} e^{c_{2} x} + c_{3} x^{c_{4}}$"
      ],
      "text/plain": [
       "c1*exp(c2*x) + c3*x**c4"
      ]
     },
     "execution_count": 47,
     "metadata": {},
     "output_type": "execute_result"
    }
   ],
   "source": [
    "x = Symbol(\"x\")\n",
    "c1 = Symbol('c1')\n",
    "c2 = Symbol('c2')\n",
    "c3 = Symbol('c3')\n",
    "c4 = Symbol('c4')\n",
    "c_dict = {\"c1\": 1, \"c2\": 1, \"c3\": 1, \"c4\": 0}\n",
    "f = c1*exp(c2*x)+c3*x**c4\n",
    "f"
   ]
  },
  {
   "cell_type": "code",
   "execution_count": 48,
   "id": "2577aaea-d2a7-41fa-bf7c-44dae7fb5d18",
   "metadata": {},
   "outputs": [],
   "source": [
    "# f = exp(-x**2)\n",
    "# f"
   ]
  },
  {
   "cell_type": "code",
   "execution_count": 51,
   "id": "f13c68ba-7461-4e1a-9265-53fa70600dd1",
   "metadata": {},
   "outputs": [],
   "source": [
    "a = 0\n",
    "b = 4"
   ]
  },
  {
   "cell_type": "code",
   "execution_count": 52,
   "id": "2f8957eb-eb40-4b69-90a8-f6702a9849a9",
   "metadata": {},
   "outputs": [],
   "source": [
    "c_dict = {\"c1\": 0.25, \"c2\": 1, \"c3\": -2, \"c4\": 0.6}"
   ]
  },
  {
   "cell_type": "code",
   "execution_count": 53,
   "id": "2385e402-73e9-47e5-90d1-993aa3aa96da",
   "metadata": {
    "tags": []
   },
   "outputs": [],
   "source": [
    "def get_polinomial_x(a, b):\n",
    "    polinomial_x = {}\n",
    "\n",
    "    for N in range(2, 11):\n",
    "        delta = delta = (b-a)/(N-1)\n",
    "        polinomial_x[N] = {}\n",
    "\n",
    "        for i in range(1, N+1):\n",
    "            if i == 1:\n",
    "                polinomial_x[N][i] = a\n",
    "            elif i == N:\n",
    "                polinomial_x[N][i] = b\n",
    "            else:\n",
    "                polinomial_x[N][i] = a + (i-1)*delta\n",
    "    \n",
    "    return polinomial_x\n"
   ]
  },
  {
   "cell_type": "code",
   "execution_count": 54,
   "id": "01afe3c8-a881-4b99-a320-c3d3bbb739ea",
   "metadata": {},
   "outputs": [
    {
     "data": {
      "text/plain": [
       "{2: {1: 0, 2: 4},\n",
       " 3: {1: 0, 2: 2.0, 3: 4},\n",
       " 4: {1: 0, 2: 1.3333333333333333, 3: 2.6666666666666665, 4: 4},\n",
       " 5: {1: 0, 2: 1.0, 3: 2.0, 4: 3.0, 5: 4},\n",
       " 6: {1: 0, 2: 0.8, 3: 1.6, 4: 2.4000000000000004, 5: 3.2, 6: 4},\n",
       " 7: {1: 0,\n",
       "  2: 0.6666666666666666,\n",
       "  3: 1.3333333333333333,\n",
       "  4: 2.0,\n",
       "  5: 2.6666666666666665,\n",
       "  6: 3.333333333333333,\n",
       "  7: 4},\n",
       " 8: {1: 0,\n",
       "  2: 0.5714285714285714,\n",
       "  3: 1.1428571428571428,\n",
       "  4: 1.7142857142857142,\n",
       "  5: 2.2857142857142856,\n",
       "  6: 2.8571428571428568,\n",
       "  7: 3.4285714285714284,\n",
       "  8: 4},\n",
       " 9: {1: 0, 2: 0.5, 3: 1.0, 4: 1.5, 5: 2.0, 6: 2.5, 7: 3.0, 8: 3.5, 9: 4},\n",
       " 10: {1: 0,\n",
       "  2: 0.4444444444444444,\n",
       "  3: 0.8888888888888888,\n",
       "  4: 1.3333333333333333,\n",
       "  5: 1.7777777777777777,\n",
       "  6: 2.2222222222222223,\n",
       "  7: 2.6666666666666665,\n",
       "  8: 3.1111111111111107,\n",
       "  9: 3.5555555555555554,\n",
       "  10: 4}}"
      ]
     },
     "execution_count": 54,
     "metadata": {},
     "output_type": "execute_result"
    }
   ],
   "source": [
    "polinomial_x = get_polinomial_x(a, b)\n",
    "polinomial_x"
   ]
  },
  {
   "cell_type": "code",
   "execution_count": 79,
   "id": "4214196e-e142-4492-89c9-928d2247789d",
   "metadata": {},
   "outputs": [],
   "source": [
    "def get_polinomial_weights():\n",
    "    polinomial_weights = {}\n",
    "    \n",
    "    for N in range(2, 11):\n",
    "        polinomial_weights[N] = {}\n",
    "        A = np.empty((N, N))\n",
    "        B = np.empty((N, 1))\n",
    "        x = np.empty((N, 1))\n",
    "        delta = 1/(N-1)\n",
    "\n",
    "        for i in range(1, N+1):\n",
    "            x[i-1][0] = (i-1)*delta\n",
    "\n",
    "        for i in range(1, N+1):\n",
    "            for j in range(1, N+1):\n",
    "                A[i-1][j-1] = x[j-1][0]**(i-1)\n",
    "            B[i-1][0] = 1/i\n",
    "        \n",
    "        w = np.linalg.inv(A) @ B\n",
    "        \n",
    "        for i in range(1, N+1):\n",
    "            polinomial_weights[N][i] = w[i-1][0]\n",
    "    return polinomial_weights"
   ]
  },
  {
   "cell_type": "code",
   "execution_count": 80,
   "id": "ef1b0640-734b-42c1-bd65-aa9d270511e7",
   "metadata": {},
   "outputs": [
    {
     "data": {
      "text/plain": [
       "{2: {1: 0.5, 2: 0.5},\n",
       " 3: {1: 0.16666666666666663, 2: 0.6666666666666667, 3: 0.16666666666666663},\n",
       " 4: {1: 0.12500000000000044,\n",
       "  2: 0.3750000000000009,\n",
       "  3: 0.3749999999999991,\n",
       "  4: 0.12500000000000022},\n",
       " 5: {1: 0.07777777777777439,\n",
       "  2: 0.35555555555555785,\n",
       "  3: 0.1333333333333364,\n",
       "  4: 0.35555555555555607,\n",
       "  5: 0.07777777777777795},\n",
       " 6: {1: 0.06597222222224275,\n",
       "  2: 0.260416666666643,\n",
       "  3: 0.17361111111110006,\n",
       "  4: 0.17361111111110006,\n",
       "  5: 0.2604166666666714,\n",
       "  6: 0.06597222222222143},\n",
       " 7: {1: 0.04880952380941039,\n",
       "  2: 0.25714285714400376,\n",
       "  3: 0.032142857141082004,\n",
       "  4: 0.3238095238104961,\n",
       "  5: 0.03214285714255993,\n",
       "  6: 0.2571428571428811,\n",
       "  7: 0.048809523809522304},\n",
       " 8: {1: 0.04346064814586725,\n",
       "  2: 0.20700231481873743,\n",
       "  3: 0.07656249999854481,\n",
       "  4: 0.17297453703758947,\n",
       "  5: 0.17297453703577048,\n",
       "  6: 0.07656250000127329,\n",
       "  7: 0.2070023148146447,\n",
       "  8: 0.04346064814814099},\n",
       " 9: {1: 0.03488536151537858,\n",
       "  2: 0.20768959450197144,\n",
       "  3: -0.03273368629174911,\n",
       "  4: 0.3702292770722124,\n",
       "  5: -0.16014109355592154,\n",
       "  6: 0.3702292769162341,\n",
       "  7: -0.032733686074379875,\n",
       "  8: 0.20768959435702072,\n",
       "  9: 0.03488536155197863},\n",
       " 10: {1: 0.03188616089568086,\n",
       "  2: 0.1756808030550019,\n",
       "  3: 0.012053571750584524,\n",
       "  4: 0.21589285727532115,\n",
       "  5: 0.06448660698515596,\n",
       "  6: 0.06448660721071064,\n",
       "  7: 0.215892857129802,\n",
       "  8: 0.012053571443175315,\n",
       "  9: 0.1756808035679569,\n",
       "  10: 0.03188616071412298}}"
      ]
     },
     "execution_count": 80,
     "metadata": {},
     "output_type": "execute_result"
    }
   ],
   "source": [
    "polinomial_weights = get_polinomial_weights()\n",
    "polinomial_weights"
   ]
  },
  {
   "cell_type": "code",
   "execution_count": 81,
   "id": "ed16842a-e9ee-47f1-b15d-3882ee696f7d",
   "metadata": {},
   "outputs": [
    {
     "data": {
      "text/plain": [
       "0.16666666666666663"
      ]
     },
     "execution_count": 81,
     "metadata": {},
     "output_type": "execute_result"
    }
   ],
   "source": [
    "polinomial_weights[3][3]"
   ]
  },
  {
   "cell_type": "code",
   "execution_count": 82,
   "id": "63309185-8076-4bcb-84fe-519fbce236fc",
   "metadata": {},
   "outputs": [],
   "source": [
    "area = 0\n",
    "N = 6\n",
    "\n",
    "for i in range(1, N+1):\n",
    "    L = b - a\n",
    "    w_i = polinomial_weights[N][i]*L\n",
    "    x_i = polinomial_x[N][i]\n",
    "    f_i = float(f.subs({\"x\": x_i} | c_dict))\n",
    "    area += f_i*w_i"
   ]
  },
  {
   "cell_type": "code",
   "execution_count": 83,
   "id": "166c06eb-7dd7-492c-b7c5-c1ef7f36246a",
   "metadata": {},
   "outputs": [
    {
     "data": {
      "text/plain": [
       "1.9986828555723344"
      ]
     },
     "execution_count": 83,
     "metadata": {},
     "output_type": "execute_result"
    }
   ],
   "source": [
    "area"
   ]
  },
  {
   "cell_type": "code",
   "execution_count": null,
   "id": "12c0a113-c7b1-4e7d-bf0f-72eeaed5948e",
   "metadata": {},
   "outputs": [],
   "source": []
  }
 ],
 "metadata": {
  "kernelspec": {
   "display_name": "Python 3",
   "language": "python",
   "name": "python3"
  },
  "language_info": {
   "codemirror_mode": {
    "name": "ipython",
    "version": 3
   },
   "file_extension": ".py",
   "mimetype": "text/x-python",
   "name": "python",
   "nbconvert_exporter": "python",
   "pygments_lexer": "ipython3",
   "version": "3.9.7"
  }
 },
 "nbformat": 4,
 "nbformat_minor": 5
}
