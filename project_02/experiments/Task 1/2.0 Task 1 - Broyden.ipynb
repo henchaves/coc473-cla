{
 "cells": [
  {
   "cell_type": "markdown",
   "id": "2a9bed99-c400-4170-914f-e2232feda0f9",
   "metadata": {},
   "source": [
    "### Método de Newton"
   ]
  },
  {
   "cell_type": "code",
   "execution_count": 26,
   "id": "65ebc19d-e4dc-4725-8e03-a3aec2a784a3",
   "metadata": {},
   "outputs": [],
   "source": [
    "import numpy as np\n",
    "from sympy import Symbol, diff"
   ]
  },
  {
   "cell_type": "code",
   "execution_count": 27,
   "id": "72401e17-79ba-42ed-9289-a62e90deabf0",
   "metadata": {},
   "outputs": [],
   "source": [
    "def create_F(number_of_functions, functions):\n",
    "    F = np.array([[functions[i]] for i in range(number_of_functions)])\n",
    "    return F"
   ]
  },
  {
   "cell_type": "code",
   "execution_count": 28,
   "id": "8ae9d1d9-fb90-4ec5-a990-6fed606607f5",
   "metadata": {},
   "outputs": [],
   "source": [
    "def create_J(number_of_functions, number_of_constants, functions):\n",
    "    J = np.empty((number_of_functions, number_of_constants), dtype=object)\n",
    "    for i in range(number_of_functions):\n",
    "        for j in range(number_of_constants):\n",
    "            J[i][j] = diff(functions[i], f\"c{j+2}\")\n",
    "    return J"
   ]
  },
  {
   "cell_type": "code",
   "execution_count": 29,
   "id": "5f85ab5c-1d31-44bd-93b0-fe8318edfb4a",
   "metadata": {},
   "outputs": [],
   "source": [
    "def update_c_dict(X, extra_dict={}):\n",
    "    c_dict = {f\"c{i+2}\":X[i, 0] for i in range(len(X))}\n",
    "    c_dict.update(extra_dict)\n",
    "    return c_dict"
   ]
  },
  {
   "cell_type": "code",
   "execution_count": 30,
   "id": "46a29c28-9557-408a-8ba5-ae93f518d78f",
   "metadata": {},
   "outputs": [],
   "source": [
    "def sub_F(F, c_dict):\n",
    "    F = F.copy()\n",
    "    for i in range(F.shape[0]):\n",
    "        for j in range(F.shape[1]):\n",
    "            F[i][j] = F[i][j].subs(c_dict)\n",
    "    return F.astype(float)"
   ]
  },
  {
   "cell_type": "code",
   "execution_count": 31,
   "id": "80de37d6-85c2-4b19-a163-46c853e7bfc2",
   "metadata": {},
   "outputs": [],
   "source": [
    "def sub_J(J, c_dict):\n",
    "    J = J.copy()\n",
    "    for i in range(J.shape[0]):\n",
    "        for j in range(J.shape[1]):\n",
    "            J[i][j] = J[i][j].subs(c_dict)\n",
    "    return J.astype(float)"
   ]
  },
  {
   "cell_type": "code",
   "execution_count": 118,
   "id": "4718aa9c-3cac-4ee2-abb3-e0a64f22cb83",
   "metadata": {},
   "outputs": [],
   "source": [
    "c2 = Symbol('c2')\n",
    "c3 = Symbol('c3')\n",
    "c4 = Symbol('c4')\n",
    "θ1 = Symbol('θ1')\n",
    "θ2 = Symbol('θ2')\n",
    "\n",
    "f1 = 2*c3**2+c2**2+6*c4**2-1\n",
    "f2 = 8*c3**3+6*c3*c2**2+36*c3*c2*c4+108*c3*c4**2-θ1\n",
    "f3 = 60*c3**4+60*c3**2*c2**2+576*c3**2*c2*c4+2232*c3**2*c4**2+252*c4**2*c2**2+1296*c4**3*c2+3348*c4**4+24*c2**3*c4+3*c2-θ2\n",
    "\n",
    "fns = [f1, f2, f3]\n",
    "\n",
    "number_of_functions = 3\n",
    "number_of_constants = 3"
   ]
  },
  {
   "cell_type": "code",
   "execution_count": 119,
   "id": "bc926df0-801a-4007-975a-b775358344ce",
   "metadata": {},
   "outputs": [],
   "source": [
    "# c2 = Symbol(\"c2\")\n",
    "# c3 = Symbol(\"c3\")\n",
    "# θ1 = Symbol('θ1')\n",
    "# θ2 = Symbol('θ2')"
   ]
  },
  {
   "cell_type": "code",
   "execution_count": 120,
   "id": "1af58835-ae87-4f36-bfd7-75c847618261",
   "metadata": {},
   "outputs": [],
   "source": [
    "# f1 = c2 + 2*c3 - 2\n",
    "# f1"
   ]
  },
  {
   "cell_type": "code",
   "execution_count": 121,
   "id": "bb96e83a-1a9d-4b75-b51b-5de044142fa7",
   "metadata": {},
   "outputs": [],
   "source": [
    "# f2 = c2**2 + 4*c3**2 - 4\n",
    "# f2"
   ]
  },
  {
   "cell_type": "code",
   "execution_count": 122,
   "id": "6aad91ed-24b3-490d-a815-a7938a1203aa",
   "metadata": {},
   "outputs": [],
   "source": [
    "# fns = [f1, f2]\n",
    "\n",
    "# number_of_functions = 2\n",
    "# number_of_constants = 2\n"
   ]
  },
  {
   "cell_type": "code",
   "execution_count": 161,
   "id": "d371c453-a00b-4849-b16b-351aa46062c2",
   "metadata": {},
   "outputs": [],
   "source": [
    "max_iter = 100\n",
    "max_tol = 1e-6\n",
    "theta_dict = {\"θ1\": 0, \"θ2\": 3}"
   ]
  },
  {
   "cell_type": "code",
   "execution_count": 131,
   "id": "cf32b3e9-cbf1-4627-8bcd-f4724ff013d3",
   "metadata": {},
   "outputs": [
    {
     "data": {
      "text/plain": [
       "(3, 1)"
      ]
     },
     "execution_count": 131,
     "metadata": {},
     "output_type": "execute_result"
    }
   ],
   "source": [
    "F = create_F(number_of_functions, fns)\n",
    "F.shape"
   ]
  },
  {
   "cell_type": "code",
   "execution_count": 132,
   "id": "ca5edf78-071a-4888-bfe4-48a2f216a237",
   "metadata": {},
   "outputs": [
    {
     "data": {
      "text/plain": [
       "(3, 3)"
      ]
     },
     "execution_count": 132,
     "metadata": {},
     "output_type": "execute_result"
    }
   ],
   "source": [
    "J = create_J(number_of_functions, number_of_constants, fns)\n",
    "J.shape"
   ]
  },
  {
   "cell_type": "code",
   "execution_count": 133,
   "id": "c2c21c8f-d455-44d8-9f46-e2a36a2920bc",
   "metadata": {},
   "outputs": [
    {
     "data": {
      "text/plain": [
       "array([[2*c2, 4*c3, 12*c4],\n",
       "       [12*c2*c3 + 36*c3*c4, 6*c2**2 + 36*c2*c4 + 24*c3**2 + 108*c4**2,\n",
       "        36*c2*c3 + 216*c3*c4],\n",
       "       [72*c2**2*c4 + 120*c2*c3**2 + 504*c2*c4**2 + 576*c3**2*c4 + 1296*c4**3 + 3,\n",
       "        120*c2**2*c3 + 1152*c2*c3*c4 + 240*c3**3 + 4464*c3*c4**2,\n",
       "        24*c2**3 + 504*c2**2*c4 + 576*c2*c3**2 + 3888*c2*c4**2 + 4464*c3**2*c4 + 13392*c4**3]],\n",
       "      dtype=object)"
      ]
     },
     "execution_count": 133,
     "metadata": {},
     "output_type": "execute_result"
    }
   ],
   "source": [
    "J"
   ]
  },
  {
   "cell_type": "code",
   "execution_count": 195,
   "id": "8f7aa7c8-6e83-4be1-a5c0-85c6a873ccb1",
   "metadata": {},
   "outputs": [],
   "source": [
    "def calculate_nl_broyden(max_iter, max_tol, theta_dict, X0, F, J):\n",
    "    X_arr = np.empty((max_iter, ), dtype=\"object\")\n",
    "    B_arr = np.empty((max_iter, ), dtype=\"object\")\n",
    "    X_arr[0] = X0\n",
    "\n",
    "    B_arr[0] = sub_J(J, {\"c2\": X_arr[0][0][0], \"c3\": X_arr[0][1][0], \"c4\": X_arr[0][2][0]} | theta_dict)\n",
    "\n",
    "    for k in range(1, max_iter+1):\n",
    "        if k == max_iter:\n",
    "            raise Exception(\"Não convergiu\")\n",
    "        J_ = B_arr[k-1]\n",
    "        delta_X = - np.matmul(np.linalg.inv(J_), sub_F(F, {\"c2\": X_arr[k-1][0][0], \"c3\": X_arr[k-1][1][0], \"c4\": X_arr[k-1][2][0]} | theta_dict))\n",
    "        X_arr[k] = X_arr[k-1] + delta_X\n",
    "        Y_k = sub_F(F, {\"c2\": X_arr[k][0][0], \"c3\": X_arr[k][1][0], \"c4\": X_arr[k][2][0]} | theta_dict) - sub_F(F, {\"c2\": X_arr[k-1][0][0], \"c3\": X_arr[k-1][1][0], \"c4\": X_arr[k-1][2][0]} | theta_dict)\n",
    "        tolk = np.linalg.norm(delta_X)/np.linalg.norm(X_arr[k])\n",
    "        if tolk < max_tol:\n",
    "            return X_arr[k]\n",
    "        else:\n",
    "            B_arr[k] = B_arr[k-1] + ((Y_k - (B_arr[k-1] @ delta_X)) @ (delta_X.T))/((delta_X.T) @ delta_X)"
   ]
  },
  {
   "cell_type": "code",
   "execution_count": 196,
   "id": "5bf77966-9f79-4d21-a1bb-9a001cd22376",
   "metadata": {},
   "outputs": [],
   "source": [
    "X0 = np.array([[0.4], [0], [-0.5]])"
   ]
  },
  {
   "cell_type": "code",
   "execution_count": 197,
   "id": "7541d9ed-d63f-4833-8460-0bb147e4cc6c",
   "metadata": {},
   "outputs": [
    {
     "data": {
      "text/plain": [
       "array([[ 0.89062614],\n",
       "       [ 0.        ],\n",
       "       [-0.18564729]])"
      ]
     },
     "execution_count": 197,
     "metadata": {},
     "output_type": "execute_result"
    }
   ],
   "source": [
    "calculate_nl_broyden(max_iter, max_tol, theta_dict, X0, F, J)"
   ]
  },
  {
   "cell_type": "code",
   "execution_count": 129,
   "id": "0aab94b4-56fe-4a87-91bc-6c8949d7668a",
   "metadata": {},
   "outputs": [
    {
     "data": {
      "text/plain": [
       "7.615324947913931e-11"
      ]
     },
     "execution_count": 129,
     "metadata": {},
     "output_type": "execute_result"
    }
   ],
   "source": [
    "tolk"
   ]
  },
  {
   "cell_type": "code",
   "execution_count": 191,
   "id": "006fa9d9-6f15-4137-b8d8-f9e4a1d819c1",
   "metadata": {},
   "outputs": [],
   "source": [
    "def run_broyden(max_iter, max_tol, X0, theta_dict):\n",
    "    c2 = Symbol('c2')\n",
    "    c3 = Symbol('c3')\n",
    "    c4 = Symbol('c4')\n",
    "    θ1 = Symbol('θ1')\n",
    "    θ2 = Symbol('θ2')\n",
    "    \n",
    "    f1 = 2*c3**2+c2**2+6*c4**2-1\n",
    "    f2 = 8*c3**3+6*c3*c2**2+36*c3*c2*c4+108*c3*c4**2-θ1\n",
    "    f3 = 60*c3**4+60*c3**2*c2**2+576*c3**2*c2*c4+2232*c3**2*c4**2+252*c4**2*c2**2+1296*c4**3*c2+3348*c4**4+24*c2**3*c4+3*c2-θ2\n",
    "    \n",
    "    fns = [f1, f2, f3]\n",
    "    \n",
    "    number_of_functions = 3\n",
    "    number_of_constants = 3\n",
    "    \n",
    "    F = create_F(number_of_functions, fns)\n",
    "    J = create_J(number_of_functions, number_of_constants, fns)\n",
    "\n",
    "    X = calculate_nl_broyden(max_iter, max_tol, theta_dict, X0, F, J)\n",
    "    return np.round(X.ravel(), 3).tolist()"
   ]
  },
  {
   "cell_type": "code",
   "execution_count": 192,
   "id": "79acae66-9734-4c74-a906-484affca8bc2",
   "metadata": {},
   "outputs": [],
   "source": [
    "max_iter = 100\n",
    "max_tol = 1e-4\n",
    "X0 = np.array([1, 0, -0.2]).reshape(-1, 1)\n",
    "theta_dict = {\"θ1\": 0, \"θ2\": 3}"
   ]
  },
  {
   "cell_type": "code",
   "execution_count": 193,
   "id": "d9f7d143-eb30-4eda-bbf3-67758f449ab3",
   "metadata": {},
   "outputs": [],
   "source": [
    "c2, c3, c4 = run_broyden(max_iter, max_tol, X0, theta_dict)"
   ]
  },
  {
   "cell_type": "code",
   "execution_count": 194,
   "id": "4ffb1c29-e261-45b2-8679-2a833015675c",
   "metadata": {},
   "outputs": [
    {
     "data": {
      "text/plain": [
       "(0.891, 0.0, -0.185)"
      ]
     },
     "execution_count": 194,
     "metadata": {},
     "output_type": "execute_result"
    }
   ],
   "source": [
    "c2, c3, c4"
   ]
  },
  {
   "cell_type": "code",
   "execution_count": null,
   "id": "7510561e-1358-4f2a-ba2f-6ed9cd697965",
   "metadata": {},
   "outputs": [],
   "source": [
    "    c2 = Symbol('c2')\n",
    "    c3 = Symbol('c3')\n",
    "    c4 = Symbol('c4')\n",
    "    θ1 = Symbol('θ1')\n",
    "    θ2 = Symbol('θ2')\n",
    "    \n",
    "    f1 = 2*c3**2+c2**2+6*c4**2-1\n",
    "    f2 = 8*c3**3+6*c3*c2**2+36*c3*c2*c4+108*c3*c4**2-θ1\n",
    "    f3 = 60*c3**4+60*c3**2*c2**2+576*c3**2*c2*c4+2232*c3**2*c4**2+252*c4**2*c2**2+1296*c4**3*c2+3348*c4**4+24*c2**3*c4+3*c2-θ2"
   ]
  },
  {
   "cell_type": "code",
   "execution_count": null,
   "id": "b5155b10-9de1-40eb-a450-0c0ca1ba50a2",
   "metadata": {},
   "outputs": [],
   "source": [
    "f2.subs({\"c2\": 0.784, \"c3\": 0.25, \"c4\": -0.208} | theta_dict)"
   ]
  }
 ],
 "metadata": {
  "kernelspec": {
   "display_name": "Python 3",
   "language": "python",
   "name": "python3"
  },
  "language_info": {
   "codemirror_mode": {
    "name": "ipython",
    "version": 3
   },
   "file_extension": ".py",
   "mimetype": "text/x-python",
   "name": "python",
   "nbconvert_exporter": "python",
   "pygments_lexer": "ipython3",
   "version": "3.9.7"
  }
 },
 "nbformat": 4,
 "nbformat_minor": 5
}
