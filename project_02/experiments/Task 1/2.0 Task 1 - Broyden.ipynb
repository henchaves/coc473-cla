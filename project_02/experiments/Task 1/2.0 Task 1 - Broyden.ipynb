{
 "cells": [
  {
   "cell_type": "markdown",
   "id": "2a9bed99-c400-4170-914f-e2232feda0f9",
   "metadata": {},
   "source": [
    "### Método de Newton"
   ]
  },
  {
   "cell_type": "code",
   "execution_count": 1,
   "id": "65ebc19d-e4dc-4725-8e03-a3aec2a784a3",
   "metadata": {},
   "outputs": [],
   "source": [
    "import numpy as np\n",
    "from sympy import Symbol, diff"
   ]
  },
  {
   "cell_type": "code",
   "execution_count": 2,
   "id": "72401e17-79ba-42ed-9289-a62e90deabf0",
   "metadata": {},
   "outputs": [],
   "source": [
    "def create_F(number_of_functions, functions):\n",
    "    F = np.array([[functions[i]] for i in range(number_of_functions)])\n",
    "    return F"
   ]
  },
  {
   "cell_type": "code",
   "execution_count": 3,
   "id": "8ae9d1d9-fb90-4ec5-a990-6fed606607f5",
   "metadata": {},
   "outputs": [],
   "source": [
    "def create_J(number_of_functions, number_of_constants, functions):\n",
    "    J = np.empty((number_of_functions, number_of_constants), dtype=object)\n",
    "    for i in range(number_of_functions):\n",
    "        for j in range(number_of_constants):\n",
    "            J[i][j] = diff(functions[i], f\"c{j+2}\")\n",
    "    return J"
   ]
  },
  {
   "cell_type": "code",
   "execution_count": 4,
   "id": "5f85ab5c-1d31-44bd-93b0-fe8318edfb4a",
   "metadata": {},
   "outputs": [],
   "source": [
    "def update_c_dict(X, extra_dict={}):\n",
    "    c_dict = {f\"c{i+2}\":X[i, 0] for i in range(len(X))}\n",
    "    c_dict.update(extra_dict)\n",
    "    return c_dict"
   ]
  },
  {
   "cell_type": "code",
   "execution_count": 5,
   "id": "46a29c28-9557-408a-8ba5-ae93f518d78f",
   "metadata": {},
   "outputs": [],
   "source": [
    "def sub_F(F, c_dict):\n",
    "    F = F.copy()\n",
    "    for i in range(F.shape[0]):\n",
    "        for j in range(F.shape[1]):\n",
    "            F[i][j] = F[i][j].subs(c_dict)\n",
    "    return F.astype(float)"
   ]
  },
  {
   "cell_type": "code",
   "execution_count": 6,
   "id": "80de37d6-85c2-4b19-a163-46c853e7bfc2",
   "metadata": {},
   "outputs": [],
   "source": [
    "def sub_J(J, c_dict):\n",
    "    J = J.copy()\n",
    "    for i in range(J.shape[0]):\n",
    "        for j in range(J.shape[1]):\n",
    "            J[i][j] = J[i][j].subs(c_dict)\n",
    "    return J.astype(float)"
   ]
  },
  {
   "cell_type": "code",
   "execution_count": 10,
   "id": "e46e2c9e-ea07-4180-a77f-33c51b0f40bf",
   "metadata": {},
   "outputs": [],
   "source": [
    "def calculate_nl_broyden(max_iter, max_tol, X0, theta_dict, F, J):\n",
    "    X_list = []\n",
    "    X_list.append(X0)\n",
    "    B_list = []\n",
    "    \n",
    "    for k in range(1, max_iter+1):\n",
    "        c_dict = update_c_dict(X_list[k-1], theta_dict)\n",
    "        F_k = sub_F(F, c_dict)\n",
    "        if k == 1:\n",
    "            J_k = sub_J(J, c_dict)\n",
    "            B_list.append(J_k.copy())\n",
    "                          \n",
    "        J_k = B_list[k-1]\n",
    "        J_k_inv = np.linalg.inv(J_k)\n",
    "        delta_X = np.dot(-J_k_inv, F_k)\n",
    "        X_k = X_list[k-1] + delta_X\n",
    "        X_list.append(X_k.copy())    \n",
    "        tolk = np.linalg.norm(delta_X)/np.linalg.norm(X_k)\n",
    "        if tolk < max_tol:\n",
    "            return X_k\n",
    "        else:\n",
    "            new_c_dict = update_c_dict(X_k, theta_dict)\n",
    "            new_F = sub_F(F, new_c_dict)\n",
    "            Y = new_F - F_k\n",
    "            B_old = J_k\n",
    "            B_new = B_old + np.dot((Y - np.dot(B_old, delta_X)), delta_X.T)/np.dot(delta_X.T, delta_X)\n",
    "            B_list.append(B_new.copy())\n",
    "            \n",
    "    raise Exception(\"Não convergiu\")"
   ]
  },
  {
   "cell_type": "code",
   "execution_count": 15,
   "id": "006fa9d9-6f15-4137-b8d8-f9e4a1d819c1",
   "metadata": {},
   "outputs": [],
   "source": [
    "def run_broyden(max_iter, max_tol, X0, theta_dict):\n",
    "    c2 = Symbol('c2')\n",
    "    c3 = Symbol('c3')\n",
    "    c4 = Symbol('c4')\n",
    "    θ1 = Symbol('θ1')\n",
    "    θ2 = Symbol('θ2')\n",
    "    \n",
    "    f1 = 2*c3**2+c2**2+6*c4**2-1\n",
    "    f2 = 8*c3**3+6*c3*c2**2+36*c3*c2*c4+108*c3*c4**2-θ1\n",
    "    f3 = 60*c3**4+60*c3**2*c2**2+576*c3**2*c2*c4+2232*c3**2*c4**2+252*c4**2*c2**2+1296*c4**3*c2+3348*c4**4+24*c2**3*c4+3*c2-θ2\n",
    "    \n",
    "    fns = [f1, f2, f3]\n",
    "    \n",
    "    number_of_functions = 3\n",
    "    number_of_constants = 3\n",
    "\n",
    "#     f_dict = {f\"f{i+1}\": eval(f\"f{i+1}\") for i in range(number_of_functions)}\n",
    "    \n",
    "    F = create_F(number_of_functions, fns)\n",
    "    J = create_J(number_of_functions, number_of_constants, fns)\n",
    "\n",
    "    X = calculate_nl_broyden(max_iter, max_tol, X0, theta_dict, F, J)\n",
    "    return np.round(X.ravel(), 3).tolist()"
   ]
  },
  {
   "cell_type": "code",
   "execution_count": 16,
   "id": "79acae66-9734-4c74-a906-484affca8bc2",
   "metadata": {},
   "outputs": [],
   "source": [
    "max_iter = 100\n",
    "max_tol = 1e-10\n",
    "X0 = np.array([1, 0, 4]).reshape(-1, 1)\n",
    "theta_dict = {\"θ1\": 0.75, \"θ2\": 6.5}"
   ]
  },
  {
   "cell_type": "code",
   "execution_count": 17,
   "id": "d9f7d143-eb30-4eda-bbf3-67758f449ab3",
   "metadata": {},
   "outputs": [
    {
     "ename": "Exception",
     "evalue": "Não convergiu",
     "output_type": "error",
     "traceback": [
      "\u001b[0;31m---------------------------------------------------------------------------\u001b[0m",
      "\u001b[0;31mException\u001b[0m                                 Traceback (most recent call last)",
      "\u001b[0;32m/tmp/ipykernel_37395/754613074.py\u001b[0m in \u001b[0;36m<module>\u001b[0;34m\u001b[0m\n\u001b[0;32m----> 1\u001b[0;31m \u001b[0mc2\u001b[0m\u001b[0;34m,\u001b[0m \u001b[0mc3\u001b[0m\u001b[0;34m,\u001b[0m \u001b[0mc4\u001b[0m \u001b[0;34m=\u001b[0m \u001b[0mrun_broyden\u001b[0m\u001b[0;34m(\u001b[0m\u001b[0mmax_iter\u001b[0m\u001b[0;34m,\u001b[0m \u001b[0mmax_tol\u001b[0m\u001b[0;34m,\u001b[0m \u001b[0mX0\u001b[0m\u001b[0;34m,\u001b[0m \u001b[0mtheta_dict\u001b[0m\u001b[0;34m)\u001b[0m\u001b[0;34m\u001b[0m\u001b[0;34m\u001b[0m\u001b[0m\n\u001b[0m",
      "\u001b[0;32m/tmp/ipykernel_37395/2671730603.py\u001b[0m in \u001b[0;36mrun_broyden\u001b[0;34m(max_iter, max_tol, X0, theta_dict)\u001b[0m\n\u001b[1;32m     20\u001b[0m     \u001b[0mJ\u001b[0m \u001b[0;34m=\u001b[0m \u001b[0mcreate_J\u001b[0m\u001b[0;34m(\u001b[0m\u001b[0mnumber_of_functions\u001b[0m\u001b[0;34m,\u001b[0m \u001b[0mnumber_of_constants\u001b[0m\u001b[0;34m,\u001b[0m \u001b[0mfns\u001b[0m\u001b[0;34m)\u001b[0m\u001b[0;34m\u001b[0m\u001b[0;34m\u001b[0m\u001b[0m\n\u001b[1;32m     21\u001b[0m \u001b[0;34m\u001b[0m\u001b[0m\n\u001b[0;32m---> 22\u001b[0;31m     \u001b[0mX\u001b[0m \u001b[0;34m=\u001b[0m \u001b[0mcalculate_nl_broyden\u001b[0m\u001b[0;34m(\u001b[0m\u001b[0mmax_iter\u001b[0m\u001b[0;34m,\u001b[0m \u001b[0mmax_tol\u001b[0m\u001b[0;34m,\u001b[0m \u001b[0mX0\u001b[0m\u001b[0;34m,\u001b[0m \u001b[0mtheta_dict\u001b[0m\u001b[0;34m,\u001b[0m \u001b[0mF\u001b[0m\u001b[0;34m,\u001b[0m \u001b[0mJ\u001b[0m\u001b[0;34m)\u001b[0m\u001b[0;34m\u001b[0m\u001b[0;34m\u001b[0m\u001b[0m\n\u001b[0m\u001b[1;32m     23\u001b[0m     \u001b[0;32mreturn\u001b[0m \u001b[0mnp\u001b[0m\u001b[0;34m.\u001b[0m\u001b[0mround\u001b[0m\u001b[0;34m(\u001b[0m\u001b[0mX\u001b[0m\u001b[0;34m.\u001b[0m\u001b[0mravel\u001b[0m\u001b[0;34m(\u001b[0m\u001b[0;34m)\u001b[0m\u001b[0;34m,\u001b[0m \u001b[0;36m3\u001b[0m\u001b[0;34m)\u001b[0m\u001b[0;34m.\u001b[0m\u001b[0mtolist\u001b[0m\u001b[0;34m(\u001b[0m\u001b[0;34m)\u001b[0m\u001b[0;34m\u001b[0m\u001b[0;34m\u001b[0m\u001b[0m\n",
      "\u001b[0;32m/tmp/ipykernel_37395/1593530383.py\u001b[0m in \u001b[0;36mcalculate_nl_broyden\u001b[0;34m(max_iter, max_tol, X0, theta_dict, F, J)\u001b[0m\n\u001b[1;32m     27\u001b[0m             \u001b[0mB_list\u001b[0m\u001b[0;34m.\u001b[0m\u001b[0mappend\u001b[0m\u001b[0;34m(\u001b[0m\u001b[0mB_new\u001b[0m\u001b[0;34m.\u001b[0m\u001b[0mcopy\u001b[0m\u001b[0;34m(\u001b[0m\u001b[0;34m)\u001b[0m\u001b[0;34m)\u001b[0m\u001b[0;34m\u001b[0m\u001b[0;34m\u001b[0m\u001b[0m\n\u001b[1;32m     28\u001b[0m \u001b[0;34m\u001b[0m\u001b[0m\n\u001b[0;32m---> 29\u001b[0;31m     \u001b[0;32mraise\u001b[0m \u001b[0mException\u001b[0m\u001b[0;34m(\u001b[0m\u001b[0;34m\"Não convergiu\"\u001b[0m\u001b[0;34m)\u001b[0m\u001b[0;34m\u001b[0m\u001b[0;34m\u001b[0m\u001b[0m\n\u001b[0m",
      "\u001b[0;31mException\u001b[0m: Não convergiu"
     ]
    }
   ],
   "source": [
    "c2, c3, c4 = run_broyden(max_iter, max_tol, X0, theta_dict)"
   ]
  },
  {
   "cell_type": "code",
   "execution_count": 14,
   "id": "4ffb1c29-e261-45b2-8679-2a833015675c",
   "metadata": {},
   "outputs": [
    {
     "data": {
      "text/plain": [
       "(0.784, 0.25, -0.208)"
      ]
     },
     "execution_count": 14,
     "metadata": {},
     "output_type": "execute_result"
    }
   ],
   "source": [
    "c2, c3, c4"
   ]
  },
  {
   "cell_type": "code",
   "execution_count": null,
   "id": "7510561e-1358-4f2a-ba2f-6ed9cd697965",
   "metadata": {},
   "outputs": [],
   "source": [
    "    c2 = Symbol('c2')\n",
    "    c3 = Symbol('c3')\n",
    "    c4 = Symbol('c4')\n",
    "    θ1 = Symbol('θ1')\n",
    "    θ2 = Symbol('θ2')\n",
    "    \n",
    "    f1 = 2*c3**2+c2**2+6*c4**2-1\n",
    "    f2 = 8*c3**3+6*c3*c2**2+36*c3*c2*c4+108*c3*c4**2-θ1\n",
    "    f3 = 60*c3**4+60*c3**2*c2**2+576*c3**2*c2*c4+2232*c3**2*c4**2+252*c4**2*c2**2+1296*c4**3*c2+3348*c4**4+24*c2**3*c4+3*c2-θ2"
   ]
  },
  {
   "cell_type": "code",
   "execution_count": null,
   "id": "b5155b10-9de1-40eb-a450-0c0ca1ba50a2",
   "metadata": {},
   "outputs": [],
   "source": [
    "f2.subs({\"c2\": 0.784, \"c3\": 0.25, \"c4\": -0.208} | theta_dict)"
   ]
  }
 ],
 "metadata": {
  "kernelspec": {
   "display_name": "Python 3",
   "language": "python",
   "name": "python3"
  },
  "language_info": {
   "codemirror_mode": {
    "name": "ipython",
    "version": 3
   },
   "file_extension": ".py",
   "mimetype": "text/x-python",
   "name": "python",
   "nbconvert_exporter": "python",
   "pygments_lexer": "ipython3",
   "version": "3.9.7"
  }
 },
 "nbformat": 4,
 "nbformat_minor": 5
}
