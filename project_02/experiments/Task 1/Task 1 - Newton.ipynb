{
 "cells": [
  {
   "cell_type": "markdown",
   "id": "2a9bed99-c400-4170-914f-e2232feda0f9",
   "metadata": {},
   "source": [
    "### Método de Newton"
   ]
  },
  {
   "cell_type": "code",
   "execution_count": 1,
   "id": "65ebc19d-e4dc-4725-8e03-a3aec2a784a3",
   "metadata": {},
   "outputs": [],
   "source": [
    "import numpy as np\n",
    "from sympy import Symbol, diff"
   ]
  },
  {
   "cell_type": "code",
   "execution_count": 2,
   "id": "72401e17-79ba-42ed-9289-a62e90deabf0",
   "metadata": {},
   "outputs": [],
   "source": [
    "def create_F(number_of_functions, functions):\n",
    "    F = np.array([[functions[i]] for i in range(number_of_functions)])\n",
    "    return F"
   ]
  },
  {
   "cell_type": "code",
   "execution_count": 3,
   "id": "8ae9d1d9-fb90-4ec5-a990-6fed606607f5",
   "metadata": {},
   "outputs": [],
   "source": [
    "def create_J(number_of_functions, number_of_constants, functions):\n",
    "    J = np.empty((number_of_functions, number_of_constants), dtype=object)\n",
    "    for i in range(number_of_functions):\n",
    "        for j in range(number_of_constants):\n",
    "            J[i][j] = diff(functions[i], f\"c{j+2}\")\n",
    "    return J"
   ]
  },
  {
   "cell_type": "code",
   "execution_count": 4,
   "id": "5f85ab5c-1d31-44bd-93b0-fe8318edfb4a",
   "metadata": {},
   "outputs": [],
   "source": [
    "def update_c_dict(X, extra_dict={}):\n",
    "    c_dict = {f\"c{i+2}\":X[i, 0] for i in range(len(X))}\n",
    "    c_dict.update(extra_dict)\n",
    "    return c_dict"
   ]
  },
  {
   "cell_type": "code",
   "execution_count": 5,
   "id": "46a29c28-9557-408a-8ba5-ae93f518d78f",
   "metadata": {},
   "outputs": [],
   "source": [
    "def sub_F(F, c_dict):\n",
    "    F = F.copy()\n",
    "    for i in range(F.shape[0]):\n",
    "        for j in range(F.shape[1]):\n",
    "            F[i][j] = F[i][j].subs(c_dict)\n",
    "    return F.astype(float)"
   ]
  },
  {
   "cell_type": "code",
   "execution_count": 6,
   "id": "80de37d6-85c2-4b19-a163-46c853e7bfc2",
   "metadata": {},
   "outputs": [],
   "source": [
    "def sub_J(J, c_dict):\n",
    "    J = J.copy()\n",
    "    for i in range(J.shape[0]):\n",
    "        for j in range(J.shape[1]):\n",
    "            J[i][j] = J[i][j].subs(c_dict)\n",
    "    return J.astype(float)"
   ]
  },
  {
   "cell_type": "code",
   "execution_count": 7,
   "id": "e46e2c9e-ea07-4180-a77f-33c51b0f40bf",
   "metadata": {},
   "outputs": [],
   "source": [
    "def calculate_nl_newton(max_iter, max_tol, X0, theta_dict, F, J):\n",
    "    X_list = []\n",
    "    X_list.append(X0)\n",
    "\n",
    "    for k in range(1, max_iter+1):\n",
    "        c_dict = update_c_dict(X_list[k-1], theta_dict)\n",
    "        F_k = sub_F(F, c_dict)\n",
    "        J_k = sub_J(J, c_dict)\n",
    "        J_k_inv = np.linalg.inv(J_k)\n",
    "        delta_X = np.dot(-J_k_inv, F_k)\n",
    "        X_k = X_list[k-1] + delta_X\n",
    "        X_list.append(X_k.copy())    \n",
    "        tolk = np.linalg.norm(delta_X)/np.linalg.norm(X_k)\n",
    "        if tolk < max_tol:\n",
    "            return X_k\n",
    "\n",
    "        if k == max_iter:\n",
    "            raise Exception(\"Não convergiu\")"
   ]
  },
  {
   "cell_type": "code",
   "execution_count": 8,
   "id": "006fa9d9-6f15-4137-b8d8-f9e4a1d819c1",
   "metadata": {},
   "outputs": [],
   "source": [
    "def run_newton(max_iter, max_tol, X0, theta_dict):\n",
    "    c2 = Symbol('c2')\n",
    "    c3 = Symbol('c3')\n",
    "    c4 = Symbol('c4')\n",
    "    θ1 = Symbol('θ1')\n",
    "    θ2 = Symbol('θ2')\n",
    "    \n",
    "    f1 = 2*c3**2+c2**2+6*c4**2-1\n",
    "    f2 = 8*c3**3+6*c3*c2**2+36*c3*c2*c4+108*c3*c4**2-θ1\n",
    "    f3 = 60*c3**4+60*c3**2*c2**2+576*c3**2*c2*c4+2232*c3**2*c4**2+252*c4**2*c2**2+1296*c4**3*c2+3348*c4**4+24*c2**3*c4+3*c2-θ2\n",
    "    \n",
    "    fns = [f1, f2, f3]\n",
    "    \n",
    "    number_of_functions = 3\n",
    "    number_of_constants = 3\n",
    "\n",
    "#     f_dict = {f\"f{i+1}\": eval(f\"f{i+1}\") for i in range(number_of_functions)}\n",
    "    \n",
    "    F = create_F(number_of_functions, fns)\n",
    "    J = create_J(number_of_functions, number_of_constants, fns)\n",
    "\n",
    "    X = calculate_nl_newton(max_iter, max_tol, X0, theta_dict, F, J)\n",
    "    return np.round(X.ravel(), 3).tolist()"
   ]
  },
  {
   "cell_type": "code",
   "execution_count": 21,
   "id": "79acae66-9734-4c74-a906-484affca8bc2",
   "metadata": {},
   "outputs": [],
   "source": [
    "max_iter = 100\n",
    "max_tol = 1e-10\n",
    "X0 = np.array([1, 0, 4]).reshape(-1, 1)\n",
    "theta_dict = {\"θ1\": 0.75, \"θ2\": 6.5}"
   ]
  },
  {
   "cell_type": "code",
   "execution_count": 22,
   "id": "d9f7d143-eb30-4eda-bbf3-67758f449ab3",
   "metadata": {},
   "outputs": [],
   "source": [
    "c2, c3, c4 = run_newton(max_iter, max_tol, X0, theta_dict)"
   ]
  },
  {
   "cell_type": "code",
   "execution_count": 23,
   "id": "4ffb1c29-e261-45b2-8679-2a833015675c",
   "metadata": {},
   "outputs": [
    {
     "data": {
      "text/plain": [
       "(0.784, 0.25, -0.208)"
      ]
     },
     "execution_count": 23,
     "metadata": {},
     "output_type": "execute_result"
    }
   ],
   "source": [
    "c2, c3, c4"
   ]
  },
  {
   "cell_type": "code",
   "execution_count": 24,
   "id": "7510561e-1358-4f2a-ba2f-6ed9cd697965",
   "metadata": {},
   "outputs": [],
   "source": [
    "    c2 = Symbol('c2')\n",
    "    c3 = Symbol('c3')\n",
    "    c4 = Symbol('c4')\n",
    "    θ1 = Symbol('θ1')\n",
    "    θ2 = Symbol('θ2')\n",
    "    \n",
    "    f1 = 2*c3**2+c2**2+6*c4**2-1\n",
    "    f2 = 8*c3**3+6*c3*c2**2+36*c3*c2*c4+108*c3*c4**2-θ1\n",
    "    f3 = 60*c3**4+60*c3**2*c2**2+576*c3**2*c2*c4+2232*c3**2*c4**2+252*c4**2*c2**2+1296*c4**3*c2+3348*c4**4+24*c2**3*c4+3*c2-θ2"
   ]
  },
  {
   "cell_type": "code",
   "execution_count": 28,
   "id": "b5155b10-9de1-40eb-a450-0c0ca1ba50a2",
   "metadata": {},
   "outputs": [
    {
     "data": {
      "text/latex": [
       "$\\displaystyle -0.00253599999999987$"
      ],
      "text/plain": [
       "-0.00253599999999987"
      ]
     },
     "execution_count": 28,
     "metadata": {},
     "output_type": "execute_result"
    }
   ],
   "source": [
    "f2.subs({\"c2\": 0.784, \"c3\": 0.25, \"c4\": -0.208} | theta_dict)"
   ]
  }
 ],
 "metadata": {
  "kernelspec": {
   "display_name": "Python 3",
   "language": "python",
   "name": "python3"
  },
  "language_info": {
   "codemirror_mode": {
    "name": "ipython",
    "version": 3
   },
   "file_extension": ".py",
   "mimetype": "text/x-python",
   "name": "python",
   "nbconvert_exporter": "python",
   "pygments_lexer": "ipython3",
   "version": "3.9.7"
  }
 },
 "nbformat": 4,
 "nbformat_minor": 5
}
