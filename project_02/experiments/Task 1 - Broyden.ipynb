{
 "cells": [
  {
   "cell_type": "code",
   "execution_count": 35,
   "id": "719f1546-667d-4a29-958c-8d28eb462c29",
   "metadata": {},
   "outputs": [],
   "source": [
    "import numpy as np\n",
    "from sympy import Symbol, diff"
   ]
  },
  {
   "cell_type": "code",
   "execution_count": 36,
   "id": "fd71f489-8081-456d-a7a9-4940553840e3",
   "metadata": {},
   "outputs": [],
   "source": [
    "def create_F(number_of_functions, functions):\n",
    "    F = np.array([[functions[i]] for i in range(number_of_functions)])\n",
    "    return F"
   ]
  },
  {
   "cell_type": "code",
   "execution_count": 37,
   "id": "e14e38ab-f2de-4dd6-84ed-89464b1de939",
   "metadata": {},
   "outputs": [],
   "source": [
    "def create_J(number_of_functions, number_of_constants, functions):\n",
    "    J = np.empty((number_of_functions, number_of_constants), dtype=object)\n",
    "    for i in range(number_of_functions):\n",
    "        for j in range(number_of_constants):\n",
    "            J[i][j] = diff(functions[i], f\"c{j+2}\")\n",
    "    return J"
   ]
  },
  {
   "cell_type": "code",
   "execution_count": 38,
   "id": "253e4031-4544-4b01-9c28-7f4647f783da",
   "metadata": {},
   "outputs": [],
   "source": [
    "def update_c_dict(X, extra_dict={}):\n",
    "    c_dict = {f\"c{i+2}\":X[i, 0] for i in range(len(X))}\n",
    "    c_dict.update(extra_dict)\n",
    "    return c_dict"
   ]
  },
  {
   "cell_type": "code",
   "execution_count": 39,
   "id": "0da7235e-6812-49b4-8b1c-feef7190eff8",
   "metadata": {},
   "outputs": [],
   "source": [
    "def sub_F(F, c_dict):\n",
    "    F = F.copy()\n",
    "    for i in range(F.shape[0]):\n",
    "        for j in range(F.shape[1]):\n",
    "            F[i][j] = F[i][j].subs(c_dict)\n",
    "    return F.astype(float)"
   ]
  },
  {
   "cell_type": "code",
   "execution_count": 40,
   "id": "93b7f6cd-5194-488d-a48c-fc91b9f44603",
   "metadata": {},
   "outputs": [],
   "source": [
    "def sub_J(J, c_dict):\n",
    "    J = J.copy()\n",
    "    for i in range(J.shape[0]):\n",
    "        for j in range(J.shape[1]):\n",
    "            J[i][j] = J[i][j].subs(c_dict)\n",
    "    return J.astype(float)"
   ]
  },
  {
   "cell_type": "code",
   "execution_count": 41,
   "id": "8f290e38-09bb-43e4-ab88-36a83780bc66",
   "metadata": {},
   "outputs": [],
   "source": [
    "def get_B(Y, B_k, delta_X):\n",
    "    num = np.matmul((Y-np.matmul(B_k, delta_X)), delta_X.T)\n",
    "    den = np.matmul(delta_X.T, delta_X)\n",
    "    B = B_k + num/den\n",
    "    return B.copy()"
   ]
  },
  {
   "cell_type": "code",
   "execution_count": 42,
   "id": "677d9e95-3142-47d4-8c11-a38aec2b2ba4",
   "metadata": {},
   "outputs": [],
   "source": [
    "def calculate_nl_broyden(max_iter, max_tol, X0, theta_dict, F, J):\n",
    "    X_list = []\n",
    "    X_list.append(X0)\n",
    "    \n",
    "    #######\n",
    "    X_list = []\n",
    "    X_list.append(X0)\n",
    "    B_list = []\n",
    "    c_dict_0 = update_c_dict(X0, theta_dict)\n",
    "    B0 = sub_J(J, c_dict_0)\n",
    "    B_list.append(B0)\n",
    "\n",
    "    for k in range(1, max_iter+1):\n",
    "#         print(f\"\\n\\n------k == {k}\")\n",
    "        c_dict = update_c_dict(X_list[k-1], theta_dict)\n",
    "        F_k = sub_F(F, c_dict)\n",
    "#         print(\"F:\")\n",
    "#         display(F_k)\n",
    "        J_k = B_list[k-1].copy()\n",
    "#         print(\"B:\")\n",
    "#         display(J_k)\n",
    "        J_k_inv = np.linalg.inv(J_k)\n",
    "        delta_X = np.matmul(-J_k_inv, F_k)\n",
    "        X_k = X_list[k-1] + delta_X\n",
    "        X_list.append(X_k.copy())\n",
    "        \n",
    "        c_dict_new = update_c_dict(X_k, theta_dict)\n",
    "        F_new = sub_F(F, c_dict_new)\n",
    "        Y_k = F_new - F_k\n",
    "#         print(\"Y:\")\n",
    "#         display(Y_k)\n",
    "        \n",
    "        tolk = np.linalg.norm(delta_X)/np.linalg.norm(X_k)\n",
    "#         print(tolk)\n",
    "        if tolk < max_tol:\n",
    "#             print(X_list)\n",
    "            return X_k\n",
    "        \n",
    "        else:\n",
    "            B_k = get_B(Y_k, J_k, delta_X)\n",
    "            B_list.append(B_k.copy())\n",
    "            \n",
    "    raise Exception (\"Não convergiu\")"
   ]
  },
  {
   "cell_type": "code",
   "execution_count": 43,
   "id": "4cb54398-7259-4add-b819-b44615ba5820",
   "metadata": {},
   "outputs": [],
   "source": [
    "def run_broyden(max_iter, max_tol, X0, theta_dict):\n",
    "    c2 = Symbol('c2')\n",
    "    c3 = Symbol('c3')\n",
    "    c4 = Symbol('c4')\n",
    "    θ1 = Symbol('θ1')\n",
    "    θ2 = Symbol('θ2')\n",
    "    \n",
    "#     f1 = 2*c3**2+c2**2+6*c4**2-1\n",
    "#     f2 = 8*c3**3+6*c3*c2**2+36*c3*c2*c4+108*c3*c4**2-θ1\n",
    "#     f3 = 60*c3**4+60*c3**2*c2**2+576*c3**2*c2*c4+2232*c3**2*c4**2+252*c4**2*c2**2+1296*c4**3*c2+3348*c4**4+24*c2**3*c4+3*c2-θ2\n",
    "        \n",
    "    f1 = c2+2*c3-2\n",
    "    f2 = c2**2+4*c3**2-4\n",
    "    \n",
    "#     fns = [f1, f2, f3]\n",
    "    fns = [f1, f2]\n",
    "    \n",
    "    number_of_functions = 2\n",
    "    number_of_constants = 2\n",
    "    \n",
    "#     number_of_functions = 3\n",
    "#     number_of_constants = 3\n",
    "    \n",
    "    F = create_F(number_of_functions, fns)\n",
    "    J = create_J(number_of_functions, number_of_constants, fns)\n",
    "\n",
    "    X = calculate_nl_broyden(max_iter, max_tol, X0, theta_dict, F, J)\n",
    "    return np.round(X.ravel(), 3).tolist()"
   ]
  },
  {
   "cell_type": "code",
   "execution_count": 44,
   "id": "eaef8f3f-c583-47fc-84c8-ae391de846ea",
   "metadata": {},
   "outputs": [],
   "source": [
    "max_iter = 100\n",
    "max_tol = 1e-4\n",
    "# X0 = np.array([1, 0, 4]).reshape(-1, 1)\n",
    "X0 = np.array([2, 3]).reshape(-1, 1)\n",
    "\n",
    "theta_dict = {\"θ1\": 0, \"θ2\": 6.5}"
   ]
  },
  {
   "cell_type": "code",
   "execution_count": 45,
   "id": "0ac1d980-1f61-483d-9391-ce2181190e79",
   "metadata": {},
   "outputs": [
    {
     "data": {
      "text/plain": [
       "[-0.0, 1.0]"
      ]
     },
     "execution_count": 45,
     "metadata": {},
     "output_type": "execute_result"
    }
   ],
   "source": [
    "run_broyden(max_iter, max_tol, X0, theta_dict)"
   ]
  },
  {
   "cell_type": "code",
   "execution_count": null,
   "id": "61d006d3-89cc-4ed8-b840-5ff8499134bb",
   "metadata": {},
   "outputs": [],
   "source": []
  },
  {
   "cell_type": "code",
   "execution_count": null,
   "id": "57064982-a633-406c-b436-be4a2b6a10ad",
   "metadata": {},
   "outputs": [],
   "source": []
  }
 ],
 "metadata": {
  "kernelspec": {
   "display_name": "Python 3",
   "language": "python",
   "name": "python3"
  },
  "language_info": {
   "codemirror_mode": {
    "name": "ipython",
    "version": 3
   },
   "file_extension": ".py",
   "mimetype": "text/x-python",
   "name": "python",
   "nbconvert_exporter": "python",
   "pygments_lexer": "ipython3",
   "version": "3.9.7"
  }
 },
 "nbformat": 4,
 "nbformat_minor": 5
}
