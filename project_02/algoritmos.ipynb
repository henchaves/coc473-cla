{
 "cells": [
  {
   "cell_type": "markdown",
   "id": "73f2db89",
   "metadata": {},
   "source": [
    "## COC473 - Trabalho 2 - 2021.1\n",
    "### Aluno: Henrique Chaves Magalhães de Menezes\n",
    "### DRE: 119025571"
   ]
  },
  {
   "cell_type": "markdown",
   "id": "112493cf",
   "metadata": {},
   "source": [
    "<hr>\n",
    "\n",
    "## Algoritmos:\n",
    "\n",
    "<hr>"
   ]
  },
  {
   "cell_type": "markdown",
   "id": "63c82537",
   "metadata": {},
   "source": [
    "### 1.1 - Método de Newton para resolução de equações não lineares"
   ]
  },
  {
   "cell_type": "code",
   "execution_count": 1,
   "id": "a8cff43f",
   "metadata": {},
   "outputs": [],
   "source": [
    "import numpy as np\n",
    "from sympy import Symbol, diff\n",
    "\n",
    "def create_F(number_of_functions, functions):\n",
    "    F = np.array([[functions[i]] for i in range(number_of_functions)])\n",
    "    return F\n",
    "\n",
    "def create_J(number_of_functions, number_of_constants, functions):\n",
    "    J = np.empty((number_of_functions, number_of_constants), dtype=object)\n",
    "    for i in range(number_of_functions):\n",
    "        for j in range(number_of_constants):\n",
    "            J[i][j] = diff(functions[i], f\"c{j+2}\")\n",
    "    return J\n",
    "\n",
    "def update_c_dict(X, extra_dict={}):\n",
    "    c_dict = {f\"c{i+2}\":X[i, 0] for i in range(len(X))}\n",
    "    c_dict.update(extra_dict)\n",
    "    return c_dict\n",
    "\n",
    "def sub_F(F, c_dict):\n",
    "    F = F.copy()\n",
    "    for i in range(F.shape[0]):\n",
    "        for j in range(F.shape[1]):\n",
    "            F[i][j] = F[i][j].subs(c_dict)\n",
    "    return F.astype(float)\n",
    "\n",
    "def sub_J(J, c_dict):\n",
    "    J = J.copy()\n",
    "    for i in range(J.shape[0]):\n",
    "        for j in range(J.shape[1]):\n",
    "            J[i][j] = J[i][j].subs(c_dict)\n",
    "    return J.astype(float)\n",
    "\n",
    "def calculate_nl_newton(max_iter, max_tol, X0, theta_dict, F, J):\n",
    "    X_list = []\n",
    "    X_list.append(X0)\n",
    "\n",
    "    for k in range(1, max_iter+1):\n",
    "        c_dict = update_c_dict(X_list[k-1], theta_dict)\n",
    "        F_k = sub_F(F, c_dict)\n",
    "        J_k = sub_J(J, c_dict)\n",
    "        J_k_inv = np.linalg.inv(J_k)\n",
    "        delta_X = np.dot(-J_k_inv, F_k)\n",
    "        X_k = X_list[k-1] + delta_X\n",
    "        X_list.append(X_k.copy())    \n",
    "        tolk = np.linalg.norm(delta_X)/np.linalg.norm(X_k)\n",
    "        if tolk < max_tol:\n",
    "            return X_k\n",
    "\n",
    "        if k == max_iter:\n",
    "            raise Exception(\"Não convergiu\")\n",
    "\n",
    "\n",
    "def run_newton(max_iter, max_tol, X0, theta_dict):\n",
    "    c2 = Symbol('c2')\n",
    "    c3 = Symbol('c3')\n",
    "    c4 = Symbol('c4')\n",
    "    θ1 = Symbol('θ1')\n",
    "    θ2 = Symbol('θ2')\n",
    "    \n",
    "    f1 = 2*c3**2+c2**2+6*c4**2-1\n",
    "    f2 = 8*c3**3+6*c3*c2**2+36*c3*c2*c4+108*c3*c4**2-θ1\n",
    "    f3 = 60*c3**4+60*c3**2*c2**2+576*c3**2*c2*c4+2232*c3**2*c4**2+252*c4**2*c2**2+1296*c4**3*c2+3348*c4**4+24*c2**3*c4+3*c2-θ2\n",
    "    \n",
    "    fns = [f1, f2, f3]\n",
    "    \n",
    "    number_of_functions = 3\n",
    "    number_of_constants = 3\n",
    "\n",
    "    \n",
    "    F = create_F(number_of_functions, fns)\n",
    "    J = create_J(number_of_functions, number_of_constants, fns)\n",
    "\n",
    "    X = calculate_nl_newton(max_iter, max_tol, X0, theta_dict, F, J)\n",
    "    return np.round(X.ravel(), 3).tolist()"
   ]
  },
  {
   "cell_type": "markdown",
   "id": "c2eef358",
   "metadata": {},
   "source": [
    "#### Exemplo:"
   ]
  },
  {
   "cell_type": "code",
   "execution_count": 22,
   "id": "85a9d21c-e816-4e52-b2a4-ba217dc4e562",
   "metadata": {},
   "outputs": [
    {
     "data": {
      "text/latex": [
       "$\\displaystyle c_{2}^{2} + 2 c_{3}^{2} + 6 c_{4}^{2} - 1$"
      ],
      "text/plain": [
       "c2**2 + 2*c3**2 + 6*c4**2 - 1"
      ]
     },
     "metadata": {},
     "output_type": "display_data"
    },
    {
     "data": {
      "text/latex": [
       "$\\displaystyle 6 c_{2}^{2} c_{3} + 36 c_{2} c_{3} c_{4} + 8 c_{3}^{3} + 108 c_{3} c_{4}^{2} - θ_{1}$"
      ],
      "text/plain": [
       "6*c2**2*c3 + 36*c2*c3*c4 + 8*c3**3 + 108*c3*c4**2 - θ1"
      ]
     },
     "metadata": {},
     "output_type": "display_data"
    },
    {
     "data": {
      "text/latex": [
       "$\\displaystyle 24 c_{2}^{3} c_{4} + 60 c_{2}^{2} c_{3}^{2} + 252 c_{2}^{2} c_{4}^{2} + 576 c_{2} c_{3}^{2} c_{4} + 1296 c_{2} c_{4}^{3} + 3 c_{2} + 60 c_{3}^{4} + 2232 c_{3}^{2} c_{4}^{2} + 3348 c_{4}^{4} - θ_{2}$"
      ],
      "text/plain": [
       "24*c2**3*c4 + 60*c2**2*c3**2 + 252*c2**2*c4**2 + 576*c2*c3**2*c4 + 1296*c2*c4**3 + 3*c2 + 60*c3**4 + 2232*c3**2*c4**2 + 3348*c4**4 - θ2"
      ]
     },
     "metadata": {},
     "output_type": "display_data"
    }
   ],
   "source": [
    "c2 = Symbol('c2')\n",
    "c3 = Symbol('c3')\n",
    "c4 = Symbol('c4')\n",
    "θ1 = Symbol('θ1')\n",
    "θ2 = Symbol('θ2')\n",
    "\n",
    "f1 = 2*c3**2+c2**2+6*c4**2-1\n",
    "f2 = 8*c3**3+6*c3*c2**2+36*c3*c2*c4+108*c3*c4**2-θ1\n",
    "f3 = 60*c3**4+60*c3**2*c2**2+576*c3**2*c2*c4+2232*c3**2*c4**2+252*c4**2*c2**2+1296*c4**3*c2+3348*c4**4+24*c2**3*c4+3*c2-θ2\n",
    "display(f1)\n",
    "display(f2)\n",
    "display(f3)"
   ]
  },
  {
   "cell_type": "code",
   "execution_count": 7,
   "id": "e7db3783",
   "metadata": {},
   "outputs": [
    {
     "name": "stdout",
     "output_type": "stream",
     "text": [
      "Constantes encontradas:\n",
      "c2: 0.784\n",
      "c3: 0.25\n",
      "c4: -0.208\n"
     ]
    }
   ],
   "source": [
    "theta_dict = {\"θ1\": 0.75, \"θ2\": 6.5}\n",
    "max_iter = 100\n",
    "max_tol = 1e-5\n",
    "\n",
    "X0 = np.array([[1], [0], [4]])\n",
    "\n",
    "\n",
    "c2, c3, c4 = run_newton(max_iter, max_tol, X0, theta_dict)\n",
    "print(\"Constantes encontradas:\")\n",
    "print(f\"c2: {c2}\")\n",
    "print(f\"c3: {c3}\")\n",
    "print(f\"c4: {c4}\")"
   ]
  },
  {
   "cell_type": "markdown",
   "id": "ade3a1b8",
   "metadata": {},
   "source": [
    "<hr>\n",
    "\n",
    "### 1.2 - Método de Broyden para resolução de equações não lineares"
   ]
  },
  {
   "cell_type": "code",
   "execution_count": 8,
   "id": "bff8f67e",
   "metadata": {},
   "outputs": [],
   "source": [
    "import numpy as np\n",
    "from sympy import Symbol, diff\n",
    "\n",
    "def create_F(number_of_functions, functions):\n",
    "    F = np.array([[functions[i]] for i in range(number_of_functions)])\n",
    "    return F\n",
    "\n",
    "def create_J(number_of_functions, number_of_constants, functions):\n",
    "    J = np.empty((number_of_functions, number_of_constants), dtype=object)\n",
    "    for i in range(number_of_functions):\n",
    "        for j in range(number_of_constants):\n",
    "            J[i][j] = diff(functions[i], f\"c{j+2}\")\n",
    "    return J\n",
    "\n",
    "def update_c_dict(X, extra_dict={}):\n",
    "    c_dict = {f\"c{i+2}\":X[i, 0] for i in range(len(X))}\n",
    "    c_dict.update(extra_dict)\n",
    "    return c_dict\n",
    "\n",
    "def sub_F(F, c_dict):\n",
    "    F = F.copy()\n",
    "    for i in range(F.shape[0]):\n",
    "        for j in range(F.shape[1]):\n",
    "            F[i][j] = F[i][j].subs(c_dict)\n",
    "    return F.astype(float)\n",
    "\n",
    "def sub_J(J, c_dict):\n",
    "    J = J.copy()\n",
    "    for i in range(J.shape[0]):\n",
    "        for j in range(J.shape[1]):\n",
    "            J[i][j] = J[i][j].subs(c_dict)\n",
    "    return J.astype(float)\n",
    "\n",
    "def calculate_nl_broyden(max_iter, max_tol, theta_dict, X0, F, J):\n",
    "    X_arr = np.empty((max_iter, ), dtype=\"object\")\n",
    "    B_arr = np.empty((max_iter, ), dtype=\"object\")\n",
    "\n",
    "    X_arr[0] = X0\n",
    "\n",
    "    B_arr[0] = sub_J(J, {\"c2\": X_arr[0][0][0], \"c3\": X_arr[0][1][0], \"c4\": X_arr[0][2][0]} | theta_dict)\n",
    "\n",
    "    for k in range(1, max_iter+1):\n",
    "        if k == max_iter:\n",
    "            raise Exception(\"Não convergiu\")\n",
    "        J_ = B_arr[k-1]\n",
    "        delta_X = - np.matmul(np.linalg.inv(J_), sub_F(F, {\"c2\": X_arr[k-1][0][0], \"c3\": X_arr[k-1][1][0], \"c4\": X_arr[k-1][2][0]} | theta_dict))\n",
    "        X_arr[k] = X_arr[k-1] + delta_X\n",
    "        Y_k = sub_F(F, {\"c2\": X_arr[k][0][0], \"c3\": X_arr[k][1][0], \"c4\": X_arr[k][2][0]} | theta_dict) - sub_F(F, {\"c2\": X_arr[k-1][0][0], \"c3\": X_arr[k-1][1][0], \"c4\": X_arr[k-1][2][0]} | theta_dict)\n",
    "        tolk = np.linalg.norm(delta_X)/np.linalg.norm(X_arr[k])\n",
    "        if tolk < max_tol:\n",
    "            return X_arr[k]\n",
    "        else:\n",
    "            B_arr[k] = B_arr[k-1] + ((Y_k - (B_arr[k-1] @ delta_X)) @ (delta_X.T))/((delta_X.T) @ delta_X)\n",
    "\n",
    "def run_broyden(max_iter, max_tol, X0, theta_dict):\n",
    "    c2 = Symbol('c2')\n",
    "    c3 = Symbol('c3')\n",
    "    c4 = Symbol('c4')\n",
    "    θ1 = Symbol('θ1')\n",
    "    θ2 = Symbol('θ2')\n",
    "    \n",
    "    f1 = 2*c3**2+c2**2+6*c4**2-1\n",
    "    f2 = 8*c3**3+6*c3*c2**2+36*c3*c2*c4+108*c3*c4**2-θ1\n",
    "    f3 = 60*c3**4+60*c3**2*c2**2+576*c3**2*c2*c4+2232*c3**2*c4**2+252*c4**2*c2**2+1296*c4**3*c2+3348*c4**4+24*c2**3*c4+3*c2-θ2\n",
    "    \n",
    "    fns = [f1, f2, f3]\n",
    "    \n",
    "    number_of_functions = 3\n",
    "    number_of_constants = 3\n",
    "    \n",
    "    F = create_F(number_of_functions, fns)\n",
    "    J = create_J(number_of_functions, number_of_constants, fns)\n",
    "\n",
    "    X = calculate_nl_broyden(max_iter, max_tol, theta_dict, X0, F, J)\n",
    "    return np.round(X.ravel(), 3).tolist()"
   ]
  },
  {
   "cell_type": "markdown",
   "id": "2accc9bf",
   "metadata": {},
   "source": [
    "#### Exemplo:"
   ]
  },
  {
   "cell_type": "code",
   "execution_count": 21,
   "id": "b6b8e627-0898-42e5-ab11-2b9a27199b9d",
   "metadata": {},
   "outputs": [
    {
     "data": {
      "text/latex": [
       "$\\displaystyle c_{2}^{2} + 2 c_{3}^{2} + 6 c_{4}^{2} - 1$"
      ],
      "text/plain": [
       "c2**2 + 2*c3**2 + 6*c4**2 - 1"
      ]
     },
     "metadata": {},
     "output_type": "display_data"
    },
    {
     "data": {
      "text/latex": [
       "$\\displaystyle 6 c_{2}^{2} c_{3} + 36 c_{2} c_{3} c_{4} + 8 c_{3}^{3} + 108 c_{3} c_{4}^{2} - θ_{1}$"
      ],
      "text/plain": [
       "6*c2**2*c3 + 36*c2*c3*c4 + 8*c3**3 + 108*c3*c4**2 - θ1"
      ]
     },
     "metadata": {},
     "output_type": "display_data"
    },
    {
     "data": {
      "text/latex": [
       "$\\displaystyle 24 c_{2}^{3} c_{4} + 60 c_{2}^{2} c_{3}^{2} + 252 c_{2}^{2} c_{4}^{2} + 576 c_{2} c_{3}^{2} c_{4} + 1296 c_{2} c_{4}^{3} + 3 c_{2} + 60 c_{3}^{4} + 2232 c_{3}^{2} c_{4}^{2} + 3348 c_{4}^{4} - θ_{2}$"
      ],
      "text/plain": [
       "24*c2**3*c4 + 60*c2**2*c3**2 + 252*c2**2*c4**2 + 576*c2*c3**2*c4 + 1296*c2*c4**3 + 3*c2 + 60*c3**4 + 2232*c3**2*c4**2 + 3348*c4**4 - θ2"
      ]
     },
     "metadata": {},
     "output_type": "display_data"
    }
   ],
   "source": [
    "c2 = Symbol('c2')\n",
    "c3 = Symbol('c3')\n",
    "c4 = Symbol('c4')\n",
    "θ1 = Symbol('θ1')\n",
    "θ2 = Symbol('θ2')\n",
    "\n",
    "f1 = 2*c3**2+c2**2+6*c4**2-1\n",
    "f2 = 8*c3**3+6*c3*c2**2+36*c3*c2*c4+108*c3*c4**2-θ1\n",
    "f3 = 60*c3**4+60*c3**2*c2**2+576*c3**2*c2*c4+2232*c3**2*c4**2+252*c4**2*c2**2+1296*c4**3*c2+3348*c4**4+24*c2**3*c4+3*c2-θ2\n",
    "display(f1)\n",
    "display(f2)\n",
    "display(f3)"
   ]
  },
  {
   "cell_type": "code",
   "execution_count": 14,
   "id": "86c29e36",
   "metadata": {},
   "outputs": [
    {
     "name": "stdout",
     "output_type": "stream",
     "text": [
      "Constantes encontradas:\n",
      "c2: 0.891\n",
      "c3: 0.0\n",
      "c4: -0.185\n"
     ]
    }
   ],
   "source": [
    "theta_dict = {\"θ1\": 0, \"θ2\": 3}\n",
    "max_iter = 100\n",
    "max_tol = 1e-5\n",
    "\n",
    "X0 = np.array([[1], [0.5], [-1]])\n",
    "\n",
    "\n",
    "c2, c3, c4 = run_broyden(max_iter, max_tol, X0, theta_dict)\n",
    "print(\"Constantes encontradas:\")\n",
    "print(f\"c2: {c2}\")\n",
    "print(f\"c3: {c3}\")\n",
    "print(f\"c4: {c4}\")"
   ]
  },
  {
   "cell_type": "markdown",
   "id": "2414c856",
   "metadata": {},
   "source": [
    "<hr>\n",
    "\n",
    "### 2.1.1 - Método da Bisseção para encontrar uma raiz em um intervalo"
   ]
  },
  {
   "cell_type": "code",
   "execution_count": 15,
   "id": "fe44307d",
   "metadata": {},
   "outputs": [],
   "source": [
    "import numpy as np\n",
    "from sympy import Symbol, exp\n",
    "\n",
    "def run_bisseccao(constants, a, b, max_tol, max_iter):\n",
    "    x = Symbol('x')\n",
    "    c1 = Symbol('c1')\n",
    "    c2 = Symbol('c2')\n",
    "    c3 = Symbol('c3')\n",
    "    c4 = Symbol('c4')\n",
    "    f = c1*exp(c2*x)+c3*x**c4\n",
    "\n",
    "    c_dict = {\"c1\": constants[0], \"c2\": constants[1], \"c3\": constants[2], \"c4\": constants[3]}\n",
    "    count = 0\n",
    "    while np.abs(b-a) > max_tol:\n",
    "        x_i = (a+b)/2\n",
    "        f_i = f.subs(c_dict | {\"x\": x_i})\n",
    "        if (f_i > 0):\n",
    "            b = x_i\n",
    "        else:\n",
    "            a = x_i\n",
    "        if count == max_iter:\n",
    "            raise Exception(\"Não convergiu!\")\n",
    "\n",
    "    return x_i"
   ]
  },
  {
   "cell_type": "markdown",
   "id": "c988c1a9",
   "metadata": {},
   "source": [
    "#### Exemplo:"
   ]
  },
  {
   "cell_type": "code",
   "execution_count": 19,
   "id": "336ba5be-7f28-46bc-bf03-22ceccca572e",
   "metadata": {},
   "outputs": [
    {
     "data": {
      "text/latex": [
       "$\\displaystyle c_{1} e^{c_{2} x} + c_{3} x^{c_{4}}$"
      ],
      "text/plain": [
       "c1*exp(c2*x) + c3*x**c4"
      ]
     },
     "metadata": {},
     "output_type": "display_data"
    }
   ],
   "source": [
    "x = Symbol('x')\n",
    "c1 = Symbol('c1')\n",
    "c2 = Symbol('c2')\n",
    "c3 = Symbol('c3')\n",
    "c4 = Symbol('c4')\n",
    "f = c1*exp(c2*x)+c3*x**c4\n",
    "display(f)"
   ]
  },
  {
   "cell_type": "code",
   "execution_count": 20,
   "id": "16d506a1",
   "metadata": {},
   "outputs": [
    {
     "name": "stdout",
     "output_type": "stream",
     "text": [
      "Raiz encontrada: 9.5367431640625e-06\n"
     ]
    }
   ],
   "source": [
    "#c1, c2, c3, c4\n",
    "constants = [1, 1, 1, 0]\n",
    "\n",
    "#Intervalo entre 'a' e 'b'\n",
    "a = 0 \n",
    "b = 10\n",
    "\n",
    "max_iter = 100\n",
    "max_tol = 1e-5\n",
    "\n",
    "raiz = run_bisseccao(constants, a, b, max_tol, max_iter)\n",
    "print(f\"Raiz encontrada: {raiz}\")"
   ]
  },
  {
   "cell_type": "markdown",
   "id": "1fd96ebd",
   "metadata": {},
   "source": [
    "<hr>\n",
    "\n",
    "### 2.1.2 - Método de Newton para encontrar uma raiz a partir de um x0"
   ]
  },
  {
   "cell_type": "code",
   "execution_count": 28,
   "id": "36df4be5",
   "metadata": {},
   "outputs": [],
   "source": [
    "import numpy as np\n",
    "from sympy import Symbol, exp, diff\n",
    "\n",
    "def run_newton_root(constants, x_0, max_tol, max_iter):\n",
    "    x = Symbol('x')\n",
    "    c1 = Symbol('c1')\n",
    "    c2 = Symbol('c2')\n",
    "    c3 = Symbol('c3')\n",
    "    c4 = Symbol('c4')\n",
    "    f = c1*exp(c2*x)+c3*x**c4\n",
    "    f_deriv = diff(f, x)\n",
    "\n",
    "    c_dict = {\"c1\": constants[0], \"c2\": constants[1], \"c3\": constants[2], \"c4\": constants[3]}\n",
    "    for k in range(1, max_iter+1):\n",
    "        if k == 1:\n",
    "            x_old = x_0\n",
    "\n",
    "        x_k = x_old - float(f.subs({\"x\": x_old} | c_dict))/float(f_deriv.subs({\"x\": x_old} | c_dict))\n",
    "        tolk = np.abs(x_k - x_old)\n",
    "        x_old = x_k\n",
    "        if tolk < max_tol:\n",
    "            return x_k\n",
    "        if k == max_iter:\n",
    "            raise Exception(\"Não convergiu!\")\n"
   ]
  },
  {
   "cell_type": "markdown",
   "id": "12375c08",
   "metadata": {},
   "source": [
    "#### Exemplo:"
   ]
  },
  {
   "cell_type": "code",
   "execution_count": 29,
   "id": "bd3d83a1-cb85-4c37-96e2-b69ed16f1f2c",
   "metadata": {},
   "outputs": [
    {
     "data": {
      "text/latex": [
       "$\\displaystyle c_{1} e^{c_{2} x} + c_{3} x^{c_{4}}$"
      ],
      "text/plain": [
       "c1*exp(c2*x) + c3*x**c4"
      ]
     },
     "metadata": {},
     "output_type": "display_data"
    }
   ],
   "source": [
    "x = Symbol('x')\n",
    "c1 = Symbol('c1')\n",
    "c2 = Symbol('c2')\n",
    "c3 = Symbol('c3')\n",
    "c4 = Symbol('c4')\n",
    "f = c1*exp(c2*x)+c3*x**c4\n",
    "display(f)"
   ]
  },
  {
   "cell_type": "code",
   "execution_count": 30,
   "id": "02ad9417",
   "metadata": {},
   "outputs": [
    {
     "name": "stdout",
     "output_type": "stream",
     "text": [
      "Raiz encontrada: -0.5671432904097811\n"
     ]
    }
   ],
   "source": [
    "#c1, c2, c3, c4\n",
    "constants = [1, 1, 1, 1]\n",
    "\n",
    "#Chute inicial x0\n",
    "x_0 = 1\n",
    "\n",
    "max_iter = 100\n",
    "max_tol = 1e-5\n",
    "\n",
    "raiz = run_newton_root(constants, x_0, max_tol, max_iter)\n",
    "print(f\"Raiz encontrada: {raiz}\")"
   ]
  },
  {
   "cell_type": "markdown",
   "id": "be65c8ca",
   "metadata": {},
   "source": [
    "<hr>\n",
    "\n",
    "### 2.2.1 - Quadratura de Gauss para integrar uma função em um intervalo"
   ]
  },
  {
   "cell_type": "code",
   "execution_count": 33,
   "id": "4044ce14",
   "metadata": {},
   "outputs": [],
   "source": [
    "import numpy as np\n",
    "from sympy import Symbol, exp\n",
    "\n",
    "def run_gauss_quadrature(constants, a, b, N):\n",
    "    x = Symbol(\"x\")\n",
    "    c1 = Symbol('c1')\n",
    "    c2 = Symbol('c2')\n",
    "    c3 = Symbol('c3')\n",
    "    c4 = Symbol('c4')\n",
    "    c_dict = {\"c1\": constants[0], \"c2\": constants[1], \"c3\": constants[2], \"c4\": constants[3]}\n",
    "    f = c1*exp(c2*x)+c3*x**c4\n",
    "\n",
    "    gauss_weights = {\n",
    "    2: {\n",
    "        1: 1,\n",
    "        2: 1\n",
    "    },\n",
    "\n",
    "    3: {\n",
    "        1: 0.8888888888888888,\n",
    "        2: 0.5555555555555556,\n",
    "        3: 0.5555555555555556\n",
    "    },\n",
    "\n",
    "    4: {\n",
    "        1: 0.6521451548625461,\n",
    "        2: 0.6521451548625461,\n",
    "        3: 0.3478548451374538,\n",
    "        4: 0.3478548451374538\n",
    "    },\n",
    "\n",
    "    5: {\n",
    "        1: 0.5688888888888889,\n",
    "        2: 0.4786286704993665,\n",
    "        3: 0.4786286704993665,\n",
    "        4: 0.2369268850561891,\n",
    "        5: 0.2369268850561891\n",
    "    },\n",
    "\n",
    "    6: {\n",
    "        1: 0.3607615730481386,\n",
    "        2: 0.3607615730481386,\n",
    "        3: 0.4679139345726910,\n",
    "        4: 0.4679139345726910,\n",
    "        5: 0.1713244923791704,\n",
    "        6: 0.1713244923791704\n",
    "    },\n",
    "\n",
    "    7: {\n",
    "        1: 0.4179591836734694,\n",
    "        2: 0.3818300505051189,\n",
    "        3: 0.3818300505051189,\n",
    "        4: 0.2797053914892766,\n",
    "        5: 0.2797053914892766,\n",
    "        6: 0.1294849661688697,\n",
    "        7: 0.1294849661688697\n",
    "    },\n",
    "\n",
    "    8: {\n",
    "        1: 0.3626837833783620,\n",
    "        2: 0.3626837833783620,\n",
    "        3: 0.3137066458778873,\n",
    "        4: 0.3137066458778873,\n",
    "        5: 0.2223810344533745,\n",
    "        6: 0.2223810344533745,\n",
    "        7: 0.1012285362903763,\n",
    "        8: 0.1012285362903763\n",
    "    },\n",
    "\n",
    "    9: {\n",
    "        1: 0.3302393550012598,\n",
    "        2: 0.1806481606948574,\n",
    "        3: 0.1806481606948574,\n",
    "        4: 0.0812743883615744,\n",
    "        5: 0.0812743883615744,\n",
    "        6: 0.3123470770400029,\n",
    "        7: 0.3123470770400029,\n",
    "        8: 0.2606106964029354,\n",
    "        9: 0.2606106964029354\n",
    "    },\n",
    "\n",
    "    10: {\n",
    "        1: 0.2955242247147529,\n",
    "        2: 0.2955242247147529,\n",
    "        3: 0.2692667193099963,\n",
    "        4: 0.2692667193099963,\n",
    "        5: 0.2190863625159820,\n",
    "        6: 0.2190863625159820,\n",
    "        7: 0.1494513491505806,\n",
    "        8: 0.1494513491505806,\n",
    "        9: 0.0666713443086881,\n",
    "        10: 0.0666713443086881\n",
    "    }\n",
    "    }\n",
    "\n",
    "    gauss_abscissas = {\n",
    "    2: {\n",
    "        1: -0.5773502691896257,\n",
    "        2: 0.5773502691896257\n",
    "    },\n",
    "\n",
    "    3: {\n",
    "        1: 0,\n",
    "        2: -0.7745966692414834,\n",
    "        3: 0.7745966692414834\n",
    "    },\n",
    "\n",
    "    4: {\n",
    "        1: \t-0.3399810435848563,\n",
    "        2: \t0.3399810435848563,\n",
    "        3: -0.8611363115940526,\n",
    "        4: 0.8611363115940526\n",
    "    },\n",
    "\n",
    "    5: {\n",
    "        1: 0,\n",
    "        2: -0.5384693101056831,\n",
    "        3: 0.5384693101056831,\n",
    "        4: -0.906179845938664,\n",
    "        5: 0.9061798459386640\n",
    "    },\n",
    "\n",
    "    6: {\n",
    "        1: 0.6612093864662645,\n",
    "        2: -0.6612093864662645,\n",
    "        3: -0.2386191860831969,\n",
    "        4: 0.2386191860831969,\n",
    "        5: -0.9324695142031521,\n",
    "        6: 0.9324695142031521\n",
    "    },\n",
    "\n",
    "    7: {\n",
    "        1: 0,\n",
    "        2: 0.4058451513773972,\n",
    "        3: -0.4058451513773972,\n",
    "        4: -0.7415311855993945,\n",
    "        5: 0.7415311855993945,\n",
    "        6: -0.9491079123427585,\n",
    "        7: 0.9491079123427585\n",
    "    },\n",
    "\n",
    "    8: {\n",
    "        1: -0.1834346424956498,\n",
    "        2: 0.1834346424956498,\n",
    "        3: -0.5255324099163290,\n",
    "        4: 0.5255324099163290,\n",
    "        5: -0.7966664774136267,\n",
    "        6: 0.7966664774136267,\n",
    "        7: -0.9602898564975363,\n",
    "        8: 0.9602898564975363\n",
    "    },\n",
    "\n",
    "    9: {\n",
    "        1: 0,\n",
    "        2: -0.8360311073266358,\n",
    "        3: 0.8360311073266358,\n",
    "        4: -0.9681602395076261,\n",
    "        5: 0.9681602395076261,\n",
    "        6: -0.3242534234038089,\n",
    "        7: 0.3242534234038089,\n",
    "        8: -0.6133714327005904,\n",
    "        9: 0.6133714327005904\n",
    "    },\n",
    "\n",
    "    10: {\n",
    "        1: -0.1488743389816312,\n",
    "        2: 0.1488743389816312,\n",
    "        3: -0.4333953941292472,\n",
    "        4: 0.4333953941292472,\n",
    "        5: -0.6794095682990244,\n",
    "        6: 0.6794095682990244,\n",
    "        7: -0.8650633666889845,\n",
    "        8: 0.8650633666889845,\n",
    "        9: -0.9739065285171717,\n",
    "        10: 0.9739065285171717\n",
    "    }  \n",
    "    }\n",
    "\n",
    "    L = b - a\n",
    "    area = 0\n",
    "\n",
    "    for i in range(1, N+1):\n",
    "        w_i = gauss_weights[N][i]\n",
    "        z_i = gauss_abscissas[N][i]\n",
    "        x_i = (a + b + gauss_abscissas[N][i]*L)/2\n",
    "        f_i = float(f.subs({\"x\": x_i} | c_dict))\n",
    "        area += f_i*w_i\n",
    "  \n",
    "    return area*L/2"
   ]
  },
  {
   "cell_type": "markdown",
   "id": "4e61242d",
   "metadata": {},
   "source": [
    "#### Exemplo:"
   ]
  },
  {
   "cell_type": "code",
   "execution_count": 34,
   "id": "33cc0187-2bb1-4c09-9af9-d7281e989af8",
   "metadata": {},
   "outputs": [
    {
     "data": {
      "text/latex": [
       "$\\displaystyle c_{1} e^{c_{2} x} + c_{3} x^{c_{4}}$"
      ],
      "text/plain": [
       "c1*exp(c2*x) + c3*x**c4"
      ]
     },
     "metadata": {},
     "output_type": "display_data"
    }
   ],
   "source": [
    "x = Symbol('x')\n",
    "c1 = Symbol('c1')\n",
    "c2 = Symbol('c2')\n",
    "c3 = Symbol('c3')\n",
    "c4 = Symbol('c4')\n",
    "f = c1*exp(c2*x)+c3*x**c4\n",
    "display(f)"
   ]
  },
  {
   "cell_type": "code",
   "execution_count": 36,
   "id": "8f50e47c-4929-4441-ba6c-ab98639f2acb",
   "metadata": {},
   "outputs": [
    {
     "name": "stdout",
     "output_type": "stream",
     "text": [
      "Área: 2.7182818284583914\n"
     ]
    }
   ],
   "source": [
    "#c1, c2, c3, c4\n",
    "constants = [1, 1, 1, 0]\n",
    "\n",
    "#Intervalo a-b a ser integrado\n",
    "a = 0\n",
    "b = 1\n",
    "\n",
    "#Número de pontos de integração (entre 2 a 10)\n",
    "N = 5\n",
    "\n",
    "\n",
    "area = run_gauss_quadrature(constants, a, b, N)\n",
    "print(f\"Área: {area}\")"
   ]
  },
  {
   "cell_type": "markdown",
   "id": "4c7f84a6",
   "metadata": {},
   "source": [
    "<hr>\n",
    "\n",
    "### 2.2.2 - Quadratura Polinomial para integrar uma função em um intervalo"
   ]
  },
  {
   "cell_type": "code",
   "execution_count": 38,
   "id": "bc1bac67",
   "metadata": {},
   "outputs": [],
   "source": [
    "import numpy as np\n",
    "from sympy import Symbol, exp\n",
    "\n",
    "def get_polinomial_x(a, b):\n",
    "    polinomial_x = {}\n",
    "\n",
    "    for N in range(2, 11):\n",
    "        delta = delta = (b-a)/(N-1)\n",
    "        polinomial_x[N] = {}\n",
    "\n",
    "        for i in range(1, N+1):\n",
    "            if i == 1:\n",
    "                polinomial_x[N][i] = a\n",
    "            elif i == N:\n",
    "                polinomial_x[N][i] = b\n",
    "            else:\n",
    "                polinomial_x[N][i] = a + (i-1)*delta\n",
    "    \n",
    "    return polinomial_x\n",
    "\n",
    "def get_polinomial_weights():\n",
    "    polinomial_weights = {}\n",
    "    \n",
    "    for N in range(2, 11):\n",
    "        polinomial_weights[N] = {}\n",
    "        A = np.empty((N, N))\n",
    "        B = np.empty((N, 1))\n",
    "        x = np.empty((N, 1))\n",
    "        delta = 1/(N-1)\n",
    "\n",
    "        for i in range(1, N+1):\n",
    "            x[i-1][0] = (i-1)*delta\n",
    "\n",
    "        for i in range(1, N+1):\n",
    "            for j in range(1, N+1):\n",
    "                A[i-1][j-1] = x[j-1]**(i-1)\n",
    "            B[i-1][0] = 1/i\n",
    "        \n",
    "        w = np.dot(np.linalg.inv(A), B)\n",
    "        \n",
    "        for i in range(1, N+1):\n",
    "            polinomial_weights[N][i] = w[i-1][0]\n",
    "    return polinomial_weights\n",
    "\n",
    "def run_polinomial_quadrature(constants, a, b, N):\n",
    "    x = Symbol(\"x\")\n",
    "    c1 = Symbol('c1')\n",
    "    c2 = Symbol('c2')\n",
    "    c3 = Symbol('c3')\n",
    "    c4 = Symbol('c4')\n",
    "    c_dict = {\"c1\": constants[0], \"c2\": constants[1], \"c3\": constants[2], \"c4\": constants[3]}\n",
    "    f = c1*exp(c2*x)+c3*x**c4\n",
    "    polinomial_x = get_polinomial_x(a, b)\n",
    "    polinomial_weights = get_polinomial_weights()\n",
    "\n",
    "    area = 0\n",
    "    for i in range(1, N+1):\n",
    "        w_i = polinomial_weights[N][i]\n",
    "        x_i = polinomial_x[N][i]\n",
    "        f_i = float(f.subs({\"x\": x_i} | c_dict))\n",
    "        area += f_i*w_i\n",
    "\n",
    "    return area"
   ]
  },
  {
   "cell_type": "markdown",
   "id": "cdec2b5d",
   "metadata": {},
   "source": [
    "#### Exemplo:"
   ]
  },
  {
   "cell_type": "code",
   "execution_count": 39,
   "id": "59563f01",
   "metadata": {},
   "outputs": [
    {
     "data": {
      "text/latex": [
       "$\\displaystyle c_{1} e^{c_{2} x} + c_{3} x^{c_{4}}$"
      ],
      "text/plain": [
       "c1*exp(c2*x) + c3*x**c4"
      ]
     },
     "metadata": {},
     "output_type": "display_data"
    }
   ],
   "source": [
    "x = Symbol('x')\n",
    "c1 = Symbol('c1')\n",
    "c2 = Symbol('c2')\n",
    "c3 = Symbol('c3')\n",
    "c4 = Symbol('c4')\n",
    "f = c1*exp(c2*x)+c3*x**c4\n",
    "display(f)"
   ]
  },
  {
   "cell_type": "code",
   "execution_count": 40,
   "id": "c75878df-f4be-43e6-8c9e-f6393b162957",
   "metadata": {},
   "outputs": [
    {
     "name": "stdout",
     "output_type": "stream",
     "text": [
      "Área: 2.718282687924767\n"
     ]
    }
   ],
   "source": [
    "#c1, c2, c3, c4\n",
    "constants = [1, 1, 1, 0]\n",
    "\n",
    "#Intervalo a-b a ser integrado\n",
    "a = 0\n",
    "b = 1\n",
    "\n",
    "#Número de pontos de integração (entre 2 a 10)\n",
    "N = 5\n",
    "\n",
    "\n",
    "area = run_polinomial_quadrature(constants, a, b, N)\n",
    "print(f\"Área: {area}\")"
   ]
  },
  {
   "cell_type": "markdown",
   "id": "201b268c",
   "metadata": {},
   "source": [
    "<hr>\n",
    "\n",
    "### 2.3.1 - Derivada pela diferença central a partir de um valor inicial a e um delta x"
   ]
  },
  {
   "cell_type": "code",
   "execution_count": 41,
   "id": "b7e38fa1",
   "metadata": {},
   "outputs": [],
   "source": [
    "def deriv_central(constants, x_value, delta_x):\n",
    "    x = Symbol(\"x\")\n",
    "    c1 = Symbol('c1')\n",
    "    c2 = Symbol('c2')\n",
    "    c3 = Symbol('c3')\n",
    "    c4 = Symbol('c4')\n",
    "    c_dict = {\"c1\": constants[0], \"c2\": constants[1], \"c3\": constants[2], \"c4\": constants[3]}\n",
    "    f = c1*exp(c2*x)+c3*x**c4\n",
    "    x_mais = x_value + delta_x\n",
    "    f_mais = float(f.subs({\"x\": x_mais} | c_dict))\n",
    "    x_menos = x_value - delta_x\n",
    "    f_menos = float(f.subs({\"x\": x_menos} | c_dict))\n",
    "    \n",
    "    f_deriv = (f_mais - f_menos)/(2*delta_x)\n",
    "    return f_deriv"
   ]
  },
  {
   "cell_type": "markdown",
   "id": "424850f1",
   "metadata": {},
   "source": [
    "#### Exemplo:"
   ]
  },
  {
   "cell_type": "code",
   "execution_count": 42,
   "id": "ad18772e",
   "metadata": {},
   "outputs": [
    {
     "data": {
      "text/latex": [
       "$\\displaystyle c_{1} e^{c_{2} x} + c_{3} x^{c_{4}}$"
      ],
      "text/plain": [
       "c1*exp(c2*x) + c3*x**c4"
      ]
     },
     "metadata": {},
     "output_type": "display_data"
    }
   ],
   "source": [
    "x = Symbol('x')\n",
    "c1 = Symbol('c1')\n",
    "c2 = Symbol('c2')\n",
    "c3 = Symbol('c3')\n",
    "c4 = Symbol('c4')\n",
    "f = c1*exp(c2*x)+c3*x**c4\n",
    "display(f)"
   ]
  },
  {
   "cell_type": "code",
   "execution_count": 44,
   "id": "f7d587ee",
   "metadata": {},
   "outputs": [
    {
     "name": "stdout",
     "output_type": "stream",
     "text": [
      "Derivada no ponto a: 7.389548712522753\n"
     ]
    }
   ],
   "source": [
    "#c1, c2, c3, c4\n",
    "constants = [1, 1, 1, 0]\n",
    "\n",
    "#Ponto a\n",
    "a = 2\n",
    "\n",
    "#Valor de delta x\n",
    "delta_x = 0.02\n",
    "\n",
    "\n",
    "deriv = deriv_central(constants, a, delta_x)\n",
    "print(f\"Derivada no ponto a: {deriv}\")"
   ]
  },
  {
   "cell_type": "markdown",
   "id": "c8b7723d",
   "metadata": {},
   "source": [
    "<hr>\n",
    "\n",
    "### 2.3.2 - Derivada passo a frente a partir de um valor inicial a e um delta x"
   ]
  },
  {
   "cell_type": "code",
   "execution_count": 45,
   "id": "c786912e",
   "metadata": {},
   "outputs": [],
   "source": [
    "def deriv_frente(constants, x_value, delta_x):\n",
    "    x = Symbol(\"x\")\n",
    "    c1 = Symbol('c1')\n",
    "    c2 = Symbol('c2')\n",
    "    c3 = Symbol('c3')\n",
    "    c4 = Symbol('c4')\n",
    "    c_dict = {\"c1\": constants[0], \"c2\": constants[1], \"c3\": constants[2], \"c4\": constants[3]}\n",
    "    f = c1*exp(c2*x)+c3*x**c4\n",
    "    x_mais = x_value + delta_x\n",
    "    f_mais = float(f.subs({\"x\": x_mais} | c_dict))\n",
    "    f_normal = float(f.subs({\"x\": x_value} | c_dict))\n",
    "    \n",
    "    f_deriv = (f_mais - f_normal)/delta_x\n",
    "    return f_deriv"
   ]
  },
  {
   "cell_type": "markdown",
   "id": "fb6314e1",
   "metadata": {
    "tags": []
   },
   "source": [
    "#### Exemplo:"
   ]
  },
  {
   "cell_type": "code",
   "execution_count": 46,
   "id": "4c80d9b3-a8ce-4d3c-aa9d-888c8db72fa7",
   "metadata": {},
   "outputs": [
    {
     "data": {
      "text/latex": [
       "$\\displaystyle c_{1} e^{c_{2} x} + c_{3} x^{c_{4}}$"
      ],
      "text/plain": [
       "c1*exp(c2*x) + c3*x**c4"
      ]
     },
     "metadata": {},
     "output_type": "display_data"
    }
   ],
   "source": [
    "x = Symbol('x')\n",
    "c1 = Symbol('c1')\n",
    "c2 = Symbol('c2')\n",
    "c3 = Symbol('c3')\n",
    "c4 = Symbol('c4')\n",
    "f = c1*exp(c2*x)+c3*x**c4\n",
    "display(f)"
   ]
  },
  {
   "cell_type": "code",
   "execution_count": 47,
   "id": "40e33612-c5f6-470b-8377-66f6e2f74b0c",
   "metadata": {},
   "outputs": [
    {
     "name": "stdout",
     "output_type": "stream",
     "text": [
      "Derivada no ponto a: 7.463441736563592\n"
     ]
    }
   ],
   "source": [
    "#c1, c2, c3, c4\n",
    "constants = [1, 1, 1, 0]\n",
    "\n",
    "#Ponto a\n",
    "a = 2\n",
    "\n",
    "#Valor de delta x\n",
    "delta_x = 0.02\n",
    "\n",
    "\n",
    "deriv = deriv_frente(constants, a, delta_x)\n",
    "print(f\"Derivada no ponto a: {deriv}\")"
   ]
  },
  {
   "cell_type": "markdown",
   "id": "4c61db19-0c18-4772-ab03-25cc7a532c4b",
   "metadata": {},
   "source": [
    "<hr>\n",
    "\n",
    "### 2.3.3 - Derivada passo atrás a partir de um valor inicial a e um delta x"
   ]
  },
  {
   "cell_type": "code",
   "execution_count": 48,
   "id": "2d1e2a4b-0d59-453e-8141-f242f4778350",
   "metadata": {},
   "outputs": [],
   "source": [
    "def deriv_tras(constants, x_value, delta_x):\n",
    "    x = Symbol(\"x\")\n",
    "    c1 = Symbol('c1')\n",
    "    c2 = Symbol('c2')\n",
    "    c3 = Symbol('c3')\n",
    "    c4 = Symbol('c4')\n",
    "    c_dict = {\"c1\": constants[0], \"c2\": constants[1], \"c3\": constants[2], \"c4\": constants[3]}\n",
    "    f = c1*exp(c2*x)+c3*x**c4\n",
    "    f_normal = float(f.subs({\"x\": x_value} | c_dict))\n",
    "    x_menos = x_value - delta_x\n",
    "    f_menos = float(f.subs({\"x\": x_menos} | c_dict))\n",
    "    \n",
    "    f_deriv = (f_normal - f_menos)/delta_x\n",
    "    return f_deriv"
   ]
  },
  {
   "cell_type": "markdown",
   "id": "2760aadc-f715-4788-8c39-7a24f221e858",
   "metadata": {
    "tags": []
   },
   "source": [
    "#### Exemplo:"
   ]
  },
  {
   "cell_type": "code",
   "execution_count": 49,
   "id": "2104b87e-52bf-4989-857f-fe541d1244c1",
   "metadata": {},
   "outputs": [
    {
     "data": {
      "text/latex": [
       "$\\displaystyle c_{1} e^{c_{2} x} + c_{3} x^{c_{4}}$"
      ],
      "text/plain": [
       "c1*exp(c2*x) + c3*x**c4"
      ]
     },
     "metadata": {},
     "output_type": "display_data"
    }
   ],
   "source": [
    "x = Symbol('x')\n",
    "c1 = Symbol('c1')\n",
    "c2 = Symbol('c2')\n",
    "c3 = Symbol('c3')\n",
    "c4 = Symbol('c4')\n",
    "f = c1*exp(c2*x)+c3*x**c4\n",
    "display(f)"
   ]
  },
  {
   "cell_type": "code",
   "execution_count": 50,
   "id": "fea49313-fef8-43fb-8a19-1e83ee277d8c",
   "metadata": {},
   "outputs": [
    {
     "name": "stdout",
     "output_type": "stream",
     "text": [
      "Derivada no ponto a: 7.315655688481915\n"
     ]
    }
   ],
   "source": [
    "#c1, c2, c3, c4\n",
    "constants = [1, 1, 1, 0]\n",
    "\n",
    "#Ponto a\n",
    "a = 2\n",
    "\n",
    "#Valor de delta x\n",
    "delta_x = 0.02\n",
    "\n",
    "\n",
    "deriv = deriv_tras(constants, a, delta_x)\n",
    "print(f\"Derivada no ponto a: {deriv}\")"
   ]
  },
  {
   "cell_type": "markdown",
   "id": "99cdb63c-1ccd-4d39-84a9-c0f832154bd7",
   "metadata": {},
   "source": [
    "<hr>\n",
    "\n",
    "### 2.4 - Derivada por extrapolação de Richard a partir de um ponto a e dois delta x"
   ]
  },
  {
   "cell_type": "code",
   "execution_count": 51,
   "id": "6ad320c4-11cd-4dc8-a616-95df23172f63",
   "metadata": {},
   "outputs": [],
   "source": [
    "def deriv_richard(constants, x_value, delta_x_1, delta_x_2):\n",
    "    d_1 = deriv_frente(constants, x_value, delta_x_1)\n",
    "    d_2 = deriv_frente(constants, x_value, delta_x_2)\n",
    "    q = delta_x_1/delta_x_2\n",
    "    \n",
    "    f_deriv = d_1 + (d_1-d_2)/(np.power(q, -1) - 1)\n",
    "    return f_deriv"
   ]
  },
  {
   "cell_type": "markdown",
   "id": "8cf36106-d48c-4617-b33b-b1ae5aa061fa",
   "metadata": {
    "tags": []
   },
   "source": [
    "#### Exemplo:"
   ]
  },
  {
   "cell_type": "code",
   "execution_count": 52,
   "id": "9b8b4e6a-147f-4de0-9fc1-2c29e970a37c",
   "metadata": {},
   "outputs": [
    {
     "data": {
      "text/latex": [
       "$\\displaystyle c_{1} e^{c_{2} x} + c_{3} x^{c_{4}}$"
      ],
      "text/plain": [
       "c1*exp(c2*x) + c3*x**c4"
      ]
     },
     "metadata": {},
     "output_type": "display_data"
    }
   ],
   "source": [
    "x = Symbol('x')\n",
    "c1 = Symbol('c1')\n",
    "c2 = Symbol('c2')\n",
    "c3 = Symbol('c3')\n",
    "c4 = Symbol('c4')\n",
    "f = c1*exp(c2*x)+c3*x**c4\n",
    "display(f)"
   ]
  },
  {
   "cell_type": "code",
   "execution_count": null,
   "id": "b88f4fb8-c10b-4111-90ea-d1af3ff06255",
   "metadata": {},
   "outputs": [
    {
     "name": "stdout",
     "output_type": "stream",
     "text": [
      "Derivada no ponto a: 7.202562175877361\n"
     ]
    }
   ],
   "source": [
    "#c1, c2, c3, c4\n",
    "constants = [1, 1, 1, 0]\n",
    "\n",
    "#Ponto a\n",
    "a = 2\n",
    "\n",
    "#Valores de delta x\n",
    "delta_x_1 = 0.5\n",
    "delta_x_2 = 0.25\n",
    "\n",
    "\n",
    "deriv = deriv_richard(constants, a, delta_x_1, delta_x_2)\n",
    "print(f\"Derivada no ponto a: {deriv}\")"
   ]
  },
  {
   "cell_type": "markdown",
   "id": "866bbe44-92a1-4bd0-a024-4e11066d1b36",
   "metadata": {},
   "source": [
    "<hr>\n",
    "\n",
    "### 3 - Rugen-Kutta-Nystrom para calcular EDO de Segunda Ordem"
   ]
  },
  {
   "cell_type": "code",
   "execution_count": 57,
   "id": "17c8dd6b-15a0-43a9-b155-54e0fda24a3c",
   "metadata": {},
   "outputs": [],
   "source": [
    "import numpy as np\n",
    "import pandas as pd\n",
    "from sympy import Symbol, diff, sin\n",
    "\n",
    "\n",
    "def get_runge_kutta_nystrom(f, delta, y_0, dy_0, maximum_t = 1):\n",
    "    y_arr = []\n",
    "    y_arr.append(y_0)\n",
    "    \n",
    "    dy_arr = [] \n",
    "    dy_arr.append(dy_0)\n",
    "    \n",
    "    t_ = 0\n",
    "    i = 0\n",
    "    \n",
    "    results = []\n",
    "    results.append([t_, y_0, dy_0])\n",
    "    \n",
    "    while (t_ < maximum_t):\n",
    "        K_1 = delta/2 * f.subs({\"t\": t_, \"y\": y_arr[i], \"dy\": dy_arr[i]})\n",
    "        Q = delta/2 * (dy_arr[i] + K_1/2)\n",
    "        \n",
    "        K_2 = delta/2 * f.subs({\"t\": t_ + delta/2, \"y\": y_arr[i] + Q, \"dy\": dy_arr[i] + K_1})\n",
    "        K_3 = delta/2 * f.subs({\"t\": t_ + delta/2, \"y\": y_arr[i] + Q, \"dy\": dy_arr[i] + K_2})\n",
    "        L = delta * (dy_arr[i] + K_3)\n",
    "        \n",
    "        K_4 = delta/2 * f.subs({\"t\": t_ + delta, \"y\": y_arr[i] + L, \"dy\": dy_arr[i] + 2*K_3})\n",
    "        \n",
    "        y_new = y_arr[i] + delta * (dy_arr[i] + (K_1 + K_2 + K_3)/3)\n",
    "        y_arr.append(y_new)\n",
    "        \n",
    "        dy_new = dy_arr[i] + (K_1 + 2*K_2 + 2*K_3 + K_4)/3\n",
    "        dy_arr.append(dy_new)\n",
    "        \n",
    "        i += 1\n",
    "        t_ = delta * i\n",
    "        \n",
    "        results.append([t_, y_new, dy_new])\n",
    "    return results\n",
    "\n",
    "def run_runge_kutta_nystrom(delta, maximum_t, c_dict):\n",
    "    m = Symbol(\"m\")\n",
    "    c = Symbol(\"c\")\n",
    "    k = Symbol(\"k\")\n",
    "\n",
    "    a1 = Symbol(\"a1\")\n",
    "    a2 = Symbol(\"a2\")\n",
    "    a3 = Symbol(\"a3\")\n",
    "    w1 = Symbol(\"w1\")\n",
    "    w2 = Symbol(\"w2\")\n",
    "    w3 = Symbol(\"w3\")\n",
    "\n",
    "    t = Symbol(\"t\")\n",
    "    y = Symbol(\"y\")\n",
    "    dy = Symbol(\"dy\")\n",
    "\n",
    "    f = (a1*sin(w1*t)+a2*sin(w2*t)+a3*sin(w3*t) - c*dy + k*y)/m\n",
    "    f = f.subs(c_dict)\n",
    "\n",
    "    y_0 = 0\n",
    "    dy_0 = 0\n",
    "\n",
    "    results = get_runge_kutta_nystrom(f, delta, y_0, dy_0, maximum_t)\n",
    "    results_new = [[a[0], a[1], a[2], f.subs({\"t\": a[0], \"y\": a[1], \"dy\": a[2]})] for a in results]\n",
    "    df = pd.DataFrame(results_new, columns=[\"tempo\", \"deslocamento\", \"velocidade\", \"aceleração\"])\n",
    "    return df"
   ]
  },
  {
   "cell_type": "markdown",
   "id": "c0fab446-bee2-4741-a194-f9d6be89bdc3",
   "metadata": {
    "tags": []
   },
   "source": [
    "#### Exemplo:"
   ]
  },
  {
   "cell_type": "code",
   "execution_count": 58,
   "id": "f5f40678-62b1-4ec7-a0d5-ecbc284c2bda",
   "metadata": {},
   "outputs": [
    {
     "data": {
      "text/latex": [
       "$\\displaystyle \\frac{a_{1} \\sin{\\left(t w_{1} \\right)} + a_{2} \\sin{\\left(t w_{2} \\right)} + a_{3} \\sin{\\left(t w_{3} \\right)} - c dy + k y}{m}$"
      ],
      "text/plain": [
       "(a1*sin(t*w1) + a2*sin(t*w2) + a3*sin(t*w3) - c*dy + k*y)/m"
      ]
     },
     "execution_count": 58,
     "metadata": {},
     "output_type": "execute_result"
    }
   ],
   "source": [
    "m = Symbol(\"m\")\n",
    "c = Symbol(\"c\")\n",
    "k = Symbol(\"k\")\n",
    "\n",
    "a1 = Symbol(\"a1\")\n",
    "a2 = Symbol(\"a2\")\n",
    "a3 = Symbol(\"a3\")\n",
    "w1 = Symbol(\"w1\")\n",
    "w2 = Symbol(\"w2\")\n",
    "w3 = Symbol(\"w3\")\n",
    "\n",
    "t = Symbol(\"t\")\n",
    "y = Symbol(\"y\")\n",
    "dy = Symbol(\"dy\")\n",
    "\n",
    "f = (a1*sin(w1*t)+a2*sin(w2*t)+a3*sin(w3*t) - c*dy + k*y)/m\n",
    "f"
   ]
  },
  {
   "cell_type": "code",
   "execution_count": 59,
   "id": "2aba5125-d64e-4988-98d4-30d32f825fb5",
   "metadata": {},
   "outputs": [
    {
     "data": {
      "text/html": [
       "<div>\n",
       "<style scoped>\n",
       "    .dataframe tbody tr th:only-of-type {\n",
       "        vertical-align: middle;\n",
       "    }\n",
       "\n",
       "    .dataframe tbody tr th {\n",
       "        vertical-align: top;\n",
       "    }\n",
       "\n",
       "    .dataframe thead th {\n",
       "        text-align: right;\n",
       "    }\n",
       "</style>\n",
       "<table border=\"1\" class=\"dataframe\">\n",
       "  <thead>\n",
       "    <tr style=\"text-align: right;\">\n",
       "      <th></th>\n",
       "      <th>tempo</th>\n",
       "      <th>deslocamento</th>\n",
       "      <th>velocidade</th>\n",
       "      <th>aceleração</th>\n",
       "    </tr>\n",
       "  </thead>\n",
       "  <tbody>\n",
       "    <tr>\n",
       "      <th>0</th>\n",
       "      <td>0.00</td>\n",
       "      <td>0</td>\n",
       "      <td>0</td>\n",
       "      <td>0</td>\n",
       "    </tr>\n",
       "    <tr>\n",
       "      <th>1</th>\n",
       "      <td>0.05</td>\n",
       "      <td>0.000105046482065132</td>\n",
       "      <td>0.00630097358159336</td>\n",
       "      <td>0.251788456513404</td>\n",
       "    </tr>\n",
       "    <tr>\n",
       "      <th>2</th>\n",
       "      <td>0.10</td>\n",
       "      <td>0.000839201013054396</td>\n",
       "      <td>0.0251497931162853</td>\n",
       "      <td>0.501834231367421</td>\n",
       "    </tr>\n",
       "    <tr>\n",
       "      <th>3</th>\n",
       "      <td>0.15</td>\n",
       "      <td>0.00282747984799277</td>\n",
       "      <td>0.0564474935240383</td>\n",
       "      <td>0.749666714970487</td>\n",
       "    </tr>\n",
       "    <tr>\n",
       "      <th>4</th>\n",
       "      <td>0.20</td>\n",
       "      <td>0.00668937064980470</td>\n",
       "      <td>0.100072081654548</td>\n",
       "      <td>0.994837541521419</td>\n",
       "    </tr>\n",
       "    <tr>\n",
       "      <th>5</th>\n",
       "      <td>0.25</td>\n",
       "      <td>0.0130377142299364</td>\n",
       "      <td>0.155879968292860</td>\n",
       "      <td>1.23693333252765</td>\n",
       "    </tr>\n",
       "    <tr>\n",
       "      <th>6</th>\n",
       "      <td>0.30</td>\n",
       "      <td>0.0224776736874462</td>\n",
       "      <td>0.223708029299934</td>\n",
       "      <td>1.47558810536646</td>\n",
       "    </tr>\n",
       "    <tr>\n",
       "      <th>7</th>\n",
       "      <td>0.35</td>\n",
       "      <td>0.0356058219516773</td>\n",
       "      <td>0.303376277171284</td>\n",
       "      <td>1.71049526873818</td>\n",
       "    </tr>\n",
       "    <tr>\n",
       "      <th>8</th>\n",
       "      <td>0.40</td>\n",
       "      <td>0.0530093777017213</td>\n",
       "      <td>0.394691120489022</td>\n",
       "      <td>1.94141913101446</td>\n",
       "    </tr>\n",
       "    <tr>\n",
       "      <th>9</th>\n",
       "      <td>0.45</td>\n",
       "      <td>0.0752656184191856</td>\n",
       "      <td>0.497449185166706</td>\n",
       "      <td>2.16820585259594</td>\n",
       "    </tr>\n",
       "    <tr>\n",
       "      <th>10</th>\n",
       "      <td>0.50</td>\n",
       "      <td>0.102941497942054</td>\n",
       "      <td>0.611441668088841</td>\n",
       "      <td>2.39079377941019</td>\n",
       "    </tr>\n",
       "    <tr>\n",
       "      <th>11</th>\n",
       "      <td>0.55</td>\n",
       "      <td>0.136593494341711</td>\n",
       "      <td>0.736459190771660</td>\n",
       "      <td>2.60922310154495</td>\n",
       "    </tr>\n",
       "    <tr>\n",
       "      <th>12</th>\n",
       "      <td>0.60</td>\n",
       "      <td>0.176767712259631</td>\n",
       "      <td>0.872297118059546</td>\n",
       "      <td>2.82364478865671</td>\n",
       "    </tr>\n",
       "    <tr>\n",
       "      <th>13</th>\n",
       "      <td>0.65</td>\n",
       "      <td>0.224000262033918</td>\n",
       "      <td>1.01876130465954</td>\n",
       "      <td>3.03432876214774</td>\n",
       "    </tr>\n",
       "    <tr>\n",
       "      <th>14</th>\n",
       "      <td>0.70</td>\n",
       "      <td>0.278817936039663</td>\n",
       "      <td>1.17567423053809</td>\n",
       "      <td>3.24167127308793</td>\n",
       "    </tr>\n",
       "    <tr>\n",
       "      <th>15</th>\n",
       "      <td>0.75</td>\n",
       "      <td>0.341739200683444</td>\n",
       "      <td>1.34288148488927</td>\n",
       "      <td>3.44620146438617</td>\n",
       "    </tr>\n",
       "    <tr>\n",
       "      <th>16</th>\n",
       "      <td>0.80</td>\n",
       "      <td>0.413275520455004</td>\n",
       "      <td>1.52025855755665</td>\n",
       "      <td>3.64858710570228</td>\n",
       "    </tr>\n",
       "    <tr>\n",
       "      <th>17</th>\n",
       "      <td>0.85</td>\n",
       "      <td>0.493933028373121</td>\n",
       "      <td>1.70771789647329</td>\n",
       "      <td>3.84963949994280</td>\n",
       "    </tr>\n",
       "    <tr>\n",
       "      <th>18</th>\n",
       "      <td>0.90</td>\n",
       "      <td>0.584214555093909</td>\n",
       "      <td>1.90521618989091</td>\n",
       "      <td>4.05031757080865</td>\n",
       "    </tr>\n",
       "    <tr>\n",
       "      <th>19</th>\n",
       "      <td>0.95</td>\n",
       "      <td>0.684622026904607</td>\n",
       "      <td>2.11276183291249</td>\n",
       "      <td>4.25173115166361</td>\n",
       "    </tr>\n",
       "    <tr>\n",
       "      <th>20</th>\n",
       "      <td>1.00</td>\n",
       "      <td>0.795659240831549</td>\n",
       "      <td>2.33042253912751</td>\n",
       "      <td>4.45514350687534</td>\n",
       "    </tr>\n",
       "  </tbody>\n",
       "</table>\n",
       "</div>"
      ],
      "text/plain": [
       "    tempo          deslocamento           velocidade         aceleração\n",
       "0    0.00                     0                    0                  0\n",
       "1    0.05  0.000105046482065132  0.00630097358159336  0.251788456513404\n",
       "2    0.10  0.000839201013054396   0.0251497931162853  0.501834231367421\n",
       "3    0.15   0.00282747984799277   0.0564474935240383  0.749666714970487\n",
       "4    0.20   0.00668937064980470    0.100072081654548  0.994837541521419\n",
       "5    0.25    0.0130377142299364    0.155879968292860   1.23693333252765\n",
       "6    0.30    0.0224776736874462    0.223708029299934   1.47558810536646\n",
       "7    0.35    0.0356058219516773    0.303376277171284   1.71049526873818\n",
       "8    0.40    0.0530093777017213    0.394691120489022   1.94141913101446\n",
       "9    0.45    0.0752656184191856    0.497449185166706   2.16820585259594\n",
       "10   0.50     0.102941497942054    0.611441668088841   2.39079377941019\n",
       "11   0.55     0.136593494341711    0.736459190771660   2.60922310154495\n",
       "12   0.60     0.176767712259631    0.872297118059546   2.82364478865671\n",
       "13   0.65     0.224000262033918     1.01876130465954   3.03432876214774\n",
       "14   0.70     0.278817936039663     1.17567423053809   3.24167127308793\n",
       "15   0.75     0.341739200683444     1.34288148488927   3.44620146438617\n",
       "16   0.80     0.413275520455004     1.52025855755665   3.64858710570228\n",
       "17   0.85     0.493933028373121     1.70771789647329   3.84963949994280\n",
       "18   0.90     0.584214555093909     1.90521618989091   4.05031757080865\n",
       "19   0.95     0.684622026904607     2.11276183291249   4.25173115166361\n",
       "20   1.00     0.795659240831549     2.33042253912751   4.45514350687534"
      ]
     },
     "execution_count": 59,
     "metadata": {},
     "output_type": "execute_result"
    }
   ],
   "source": [
    "#Definindo as constantes\n",
    "c_dict = {\"a1\": 1,\n",
    "          \"a2\": 2,\n",
    "          \"a3\": 1.5,\n",
    "          \"w1\": 0.05,\n",
    "          \"w2\": 1,\n",
    "          \"w3\": 2,\n",
    "          \"m\": 1,\n",
    "          \"c\": 0.1,\n",
    "          \"k\": 2}\n",
    "#Passo\n",
    "delta = 0.05\n",
    "\n",
    "#t máximo\n",
    "maximum_t = 1\n",
    "\n",
    "df = run_runge_kutta_nystrom(delta, maximum_t, c_dict)\n",
    "df"
   ]
  }
 ],
 "metadata": {
  "kernelspec": {
   "display_name": "Python 3",
   "language": "python",
   "name": "python3"
  },
  "language_info": {
   "codemirror_mode": {
    "name": "ipython",
    "version": 3
   },
   "file_extension": ".py",
   "mimetype": "text/x-python",
   "name": "python",
   "nbconvert_exporter": "python",
   "pygments_lexer": "ipython3",
   "version": "3.9.7"
  }
 },
 "nbformat": 4,
 "nbformat_minor": 5
}
