{
 "cells": [
  {
   "cell_type": "markdown",
   "id": "73f2db89",
   "metadata": {},
   "source": [
    "## COC473 - Trabalho 2 - 2021.1\n",
    "### Aluno: Henrique Chaves Magalhães de Menezes\n",
    "### DRE: 119025571"
   ]
  },
  {
   "cell_type": "markdown",
   "id": "112493cf",
   "metadata": {},
   "source": [
    "<hr>\n",
    "\n",
    "## Algoritmos:\n",
    "\n",
    "<hr>"
   ]
  },
  {
   "cell_type": "markdown",
   "id": "63c82537",
   "metadata": {},
   "source": [
    "### 1.1 - Método de Newton para resolução de equações não lineares"
   ]
  },
  {
   "cell_type": "code",
   "execution_count": 1,
   "id": "a8cff43f",
   "metadata": {},
   "outputs": [],
   "source": [
    "import numpy as np\n",
    "from sympy import Symbol, diff\n",
    "\n",
    "def create_F(number_of_functions, functions):\n",
    "    F = np.array([[functions[i]] for i in range(number_of_functions)])\n",
    "    return F\n",
    "\n",
    "def create_J(number_of_functions, number_of_constants, functions):\n",
    "    J = np.empty((number_of_functions, number_of_constants), dtype=object)\n",
    "    for i in range(number_of_functions):\n",
    "        for j in range(number_of_constants):\n",
    "            J[i][j] = diff(functions[i], f\"c{j+2}\")\n",
    "    return J\n",
    "\n",
    "def update_c_dict(X, extra_dict={}):\n",
    "    c_dict = {f\"c{i+2}\":X[i, 0] for i in range(len(X))}\n",
    "    c_dict.update(extra_dict)\n",
    "    return c_dict\n",
    "\n",
    "def sub_F(F, c_dict):\n",
    "    F = F.copy()\n",
    "    for i in range(F.shape[0]):\n",
    "        for j in range(F.shape[1]):\n",
    "            F[i][j] = F[i][j].subs(c_dict)\n",
    "    return F.astype(float)\n",
    "\n",
    "def sub_J(J, c_dict):\n",
    "    J = J.copy()\n",
    "    for i in range(J.shape[0]):\n",
    "        for j in range(J.shape[1]):\n",
    "            J[i][j] = J[i][j].subs(c_dict)\n",
    "    return J.astype(float)\n",
    "\n",
    "def calculate_nl_newton(max_iter, max_tol, X0, theta_dict, F, J):\n",
    "    X_list = []\n",
    "    X_list.append(X0)\n",
    "\n",
    "    for k in range(1, max_iter+1):\n",
    "        c_dict = update_c_dict(X_list[k-1], theta_dict)\n",
    "        F_k = sub_F(F, c_dict)\n",
    "        J_k = sub_J(J, c_dict)\n",
    "        J_k_inv = np.linalg.inv(J_k)\n",
    "        delta_X = np.dot(-J_k_inv, F_k)\n",
    "        X_k = X_list[k-1] + delta_X\n",
    "        X_list.append(X_k.copy())    \n",
    "        tolk = np.linalg.norm(delta_X)/np.linalg.norm(X_k)\n",
    "        if tolk < max_tol:\n",
    "            return X_k\n",
    "\n",
    "        if k == max_iter:\n",
    "            raise Exception(\"Não convergiu\")\n",
    "\n",
    "\n",
    "def run_newton(max_iter, max_tol, X0, theta_dict):\n",
    "    c2 = Symbol('c2')\n",
    "    c3 = Symbol('c3')\n",
    "    c4 = Symbol('c4')\n",
    "    θ1 = Symbol('θ1')\n",
    "    θ2 = Symbol('θ2')\n",
    "    \n",
    "    f1 = 2*c3**2+c2**2+6*c4**2-1\n",
    "    f2 = 8*c3**3+6*c3*c2**2+36*c3*c2*c4+108*c3*c4**2-θ1\n",
    "    f3 = 60*c3**4+60*c3**2*c2**2+576*c3**2*c2*c4+2232*c3**2*c4**2+252*c4**2*c2**2+1296*c4**3*c2+3348*c4**4+24*c2**3*c4+3*c2-θ2\n",
    "    \n",
    "    fns = [f1, f2, f3]\n",
    "    \n",
    "    number_of_functions = 3\n",
    "    number_of_constants = 3\n",
    "\n",
    "    \n",
    "    F = create_F(number_of_functions, fns)\n",
    "    J = create_J(number_of_functions, number_of_constants, fns)\n",
    "\n",
    "    X = calculate_nl_newton(max_iter, max_tol, X0, theta_dict, F, J)\n",
    "    return np.round(X.ravel(), 3).tolist()"
   ]
  },
  {
   "cell_type": "markdown",
   "id": "c2eef358",
   "metadata": {},
   "source": [
    "#### Exemplo:"
   ]
  },
  {
   "cell_type": "code",
   "execution_count": 22,
   "id": "85a9d21c-e816-4e52-b2a4-ba217dc4e562",
   "metadata": {},
   "outputs": [
    {
     "data": {
      "text/latex": [
       "$\\displaystyle c_{2}^{2} + 2 c_{3}^{2} + 6 c_{4}^{2} - 1$"
      ],
      "text/plain": [
       "c2**2 + 2*c3**2 + 6*c4**2 - 1"
      ]
     },
     "metadata": {},
     "output_type": "display_data"
    },
    {
     "data": {
      "text/latex": [
       "$\\displaystyle 6 c_{2}^{2} c_{3} + 36 c_{2} c_{3} c_{4} + 8 c_{3}^{3} + 108 c_{3} c_{4}^{2} - θ_{1}$"
      ],
      "text/plain": [
       "6*c2**2*c3 + 36*c2*c3*c4 + 8*c3**3 + 108*c3*c4**2 - θ1"
      ]
     },
     "metadata": {},
     "output_type": "display_data"
    },
    {
     "data": {
      "text/latex": [
       "$\\displaystyle 24 c_{2}^{3} c_{4} + 60 c_{2}^{2} c_{3}^{2} + 252 c_{2}^{2} c_{4}^{2} + 576 c_{2} c_{3}^{2} c_{4} + 1296 c_{2} c_{4}^{3} + 3 c_{2} + 60 c_{3}^{4} + 2232 c_{3}^{2} c_{4}^{2} + 3348 c_{4}^{4} - θ_{2}$"
      ],
      "text/plain": [
       "24*c2**3*c4 + 60*c2**2*c3**2 + 252*c2**2*c4**2 + 576*c2*c3**2*c4 + 1296*c2*c4**3 + 3*c2 + 60*c3**4 + 2232*c3**2*c4**2 + 3348*c4**4 - θ2"
      ]
     },
     "metadata": {},
     "output_type": "display_data"
    }
   ],
   "source": [
    "c2 = Symbol('c2')\n",
    "c3 = Symbol('c3')\n",
    "c4 = Symbol('c4')\n",
    "θ1 = Symbol('θ1')\n",
    "θ2 = Symbol('θ2')\n",
    "\n",
    "f1 = 2*c3**2+c2**2+6*c4**2-1\n",
    "f2 = 8*c3**3+6*c3*c2**2+36*c3*c2*c4+108*c3*c4**2-θ1\n",
    "f3 = 60*c3**4+60*c3**2*c2**2+576*c3**2*c2*c4+2232*c3**2*c4**2+252*c4**2*c2**2+1296*c4**3*c2+3348*c4**4+24*c2**3*c4+3*c2-θ2\n",
    "display(f1)\n",
    "display(f2)\n",
    "display(f3)"
   ]
  },
  {
   "cell_type": "code",
   "execution_count": 7,
   "id": "e7db3783",
   "metadata": {},
   "outputs": [
    {
     "name": "stdout",
     "output_type": "stream",
     "text": [
      "Constantes encontradas:\n",
      "c2: 0.784\n",
      "c3: 0.25\n",
      "c4: -0.208\n"
     ]
    }
   ],
   "source": [
    "theta_dict = {\"θ1\": 0.75, \"θ2\": 6.5}\n",
    "max_iter = 100\n",
    "max_tol = 1e-5\n",
    "\n",
    "X0 = np.array([[1], [0], [4]])\n",
    "\n",
    "\n",
    "c2, c3, c4 = run_newton(max_iter, max_tol, X0, theta_dict)\n",
    "print(\"Constantes encontradas:\")\n",
    "print(f\"c2: {c2}\")\n",
    "print(f\"c3: {c3}\")\n",
    "print(f\"c4: {c4}\")"
   ]
  },
  {
   "cell_type": "markdown",
   "id": "ade3a1b8",
   "metadata": {},
   "source": [
    "<hr>\n",
    "\n",
    "### 1.2 - Método de Broyden para resolução de equações não lineares"
   ]
  },
  {
   "cell_type": "code",
   "execution_count": 8,
   "id": "bff8f67e",
   "metadata": {},
   "outputs": [],
   "source": [
    "import numpy as np\n",
    "from sympy import Symbol, diff\n",
    "\n",
    "def create_F(number_of_functions, functions):\n",
    "    F = np.array([[functions[i]] for i in range(number_of_functions)])\n",
    "    return F\n",
    "\n",
    "def create_J(number_of_functions, number_of_constants, functions):\n",
    "    J = np.empty((number_of_functions, number_of_constants), dtype=object)\n",
    "    for i in range(number_of_functions):\n",
    "        for j in range(number_of_constants):\n",
    "            J[i][j] = diff(functions[i], f\"c{j+2}\")\n",
    "    return J\n",
    "\n",
    "def update_c_dict(X, extra_dict={}):\n",
    "    c_dict = {f\"c{i+2}\":X[i, 0] for i in range(len(X))}\n",
    "    c_dict.update(extra_dict)\n",
    "    return c_dict\n",
    "\n",
    "def sub_F(F, c_dict):\n",
    "    F = F.copy()\n",
    "    for i in range(F.shape[0]):\n",
    "        for j in range(F.shape[1]):\n",
    "            F[i][j] = F[i][j].subs(c_dict)\n",
    "    return F.astype(float)\n",
    "\n",
    "def sub_J(J, c_dict):\n",
    "    J = J.copy()\n",
    "    for i in range(J.shape[0]):\n",
    "        for j in range(J.shape[1]):\n",
    "            J[i][j] = J[i][j].subs(c_dict)\n",
    "    return J.astype(float)\n",
    "\n",
    "def calculate_nl_broyden(max_iter, max_tol, theta_dict, X0, F, J):\n",
    "    X_arr = np.empty((max_iter, ), dtype=\"object\")\n",
    "    B_arr = np.empty((max_iter, ), dtype=\"object\")\n",
    "\n",
    "    X_arr[0] = X0\n",
    "\n",
    "    B_arr[0] = sub_J(J, {\"c2\": X_arr[0][0][0], \"c3\": X_arr[0][1][0], \"c4\": X_arr[0][2][0]} | theta_dict)\n",
    "\n",
    "    for k in range(1, max_iter+1):\n",
    "        if k == max_iter:\n",
    "            raise Exception(\"Não convergiu\")\n",
    "        J_ = B_arr[k-1]\n",
    "        delta_X = - np.matmul(np.linalg.inv(J_), sub_F(F, {\"c2\": X_arr[k-1][0][0], \"c3\": X_arr[k-1][1][0], \"c4\": X_arr[k-1][2][0]} | theta_dict))\n",
    "        X_arr[k] = X_arr[k-1] + delta_X\n",
    "        Y_k = sub_F(F, {\"c2\": X_arr[k][0][0], \"c3\": X_arr[k][1][0], \"c4\": X_arr[k][2][0]} | theta_dict) - sub_F(F, {\"c2\": X_arr[k-1][0][0], \"c3\": X_arr[k-1][1][0], \"c4\": X_arr[k-1][2][0]} | theta_dict)\n",
    "        tolk = np.linalg.norm(delta_X)/np.linalg.norm(X_arr[k])\n",
    "        if tolk < max_tol:\n",
    "            return X_arr[k]\n",
    "        else:\n",
    "            B_arr[k] = B_arr[k-1] + ((Y_k - (B_arr[k-1] @ delta_X)) @ (delta_X.T))/((delta_X.T) @ delta_X)\n",
    "\n",
    "def run_broyden(max_iter, max_tol, X0, theta_dict):\n",
    "    c2 = Symbol('c2')\n",
    "    c3 = Symbol('c3')\n",
    "    c4 = Symbol('c4')\n",
    "    θ1 = Symbol('θ1')\n",
    "    θ2 = Symbol('θ2')\n",
    "    \n",
    "    f1 = 2*c3**2+c2**2+6*c4**2-1\n",
    "    f2 = 8*c3**3+6*c3*c2**2+36*c3*c2*c4+108*c3*c4**2-θ1\n",
    "    f3 = 60*c3**4+60*c3**2*c2**2+576*c3**2*c2*c4+2232*c3**2*c4**2+252*c4**2*c2**2+1296*c4**3*c2+3348*c4**4+24*c2**3*c4+3*c2-θ2\n",
    "    \n",
    "    fns = [f1, f2, f3]\n",
    "    \n",
    "    number_of_functions = 3\n",
    "    number_of_constants = 3\n",
    "    \n",
    "    F = create_F(number_of_functions, fns)\n",
    "    J = create_J(number_of_functions, number_of_constants, fns)\n",
    "\n",
    "    X = calculate_nl_broyden(max_iter, max_tol, theta_dict, X0, F, J)\n",
    "    return np.round(X.ravel(), 3).tolist()"
   ]
  },
  {
   "cell_type": "markdown",
   "id": "2accc9bf",
   "metadata": {},
   "source": [
    "#### Exemplo:"
   ]
  },
  {
   "cell_type": "code",
   "execution_count": 21,
   "id": "b6b8e627-0898-42e5-ab11-2b9a27199b9d",
   "metadata": {},
   "outputs": [
    {
     "data": {
      "text/latex": [
       "$\\displaystyle c_{2}^{2} + 2 c_{3}^{2} + 6 c_{4}^{2} - 1$"
      ],
      "text/plain": [
       "c2**2 + 2*c3**2 + 6*c4**2 - 1"
      ]
     },
     "metadata": {},
     "output_type": "display_data"
    },
    {
     "data": {
      "text/latex": [
       "$\\displaystyle 6 c_{2}^{2} c_{3} + 36 c_{2} c_{3} c_{4} + 8 c_{3}^{3} + 108 c_{3} c_{4}^{2} - θ_{1}$"
      ],
      "text/plain": [
       "6*c2**2*c3 + 36*c2*c3*c4 + 8*c3**3 + 108*c3*c4**2 - θ1"
      ]
     },
     "metadata": {},
     "output_type": "display_data"
    },
    {
     "data": {
      "text/latex": [
       "$\\displaystyle 24 c_{2}^{3} c_{4} + 60 c_{2}^{2} c_{3}^{2} + 252 c_{2}^{2} c_{4}^{2} + 576 c_{2} c_{3}^{2} c_{4} + 1296 c_{2} c_{4}^{3} + 3 c_{2} + 60 c_{3}^{4} + 2232 c_{3}^{2} c_{4}^{2} + 3348 c_{4}^{4} - θ_{2}$"
      ],
      "text/plain": [
       "24*c2**3*c4 + 60*c2**2*c3**2 + 252*c2**2*c4**2 + 576*c2*c3**2*c4 + 1296*c2*c4**3 + 3*c2 + 60*c3**4 + 2232*c3**2*c4**2 + 3348*c4**4 - θ2"
      ]
     },
     "metadata": {},
     "output_type": "display_data"
    }
   ],
   "source": [
    "c2 = Symbol('c2')\n",
    "c3 = Symbol('c3')\n",
    "c4 = Symbol('c4')\n",
    "θ1 = Symbol('θ1')\n",
    "θ2 = Symbol('θ2')\n",
    "\n",
    "f1 = 2*c3**2+c2**2+6*c4**2-1\n",
    "f2 = 8*c3**3+6*c3*c2**2+36*c3*c2*c4+108*c3*c4**2-θ1\n",
    "f3 = 60*c3**4+60*c3**2*c2**2+576*c3**2*c2*c4+2232*c3**2*c4**2+252*c4**2*c2**2+1296*c4**3*c2+3348*c4**4+24*c2**3*c4+3*c2-θ2\n",
    "display(f1)\n",
    "display(f2)\n",
    "display(f3)"
   ]
  },
  {
   "cell_type": "code",
   "execution_count": 14,
   "id": "86c29e36",
   "metadata": {},
   "outputs": [
    {
     "name": "stdout",
     "output_type": "stream",
     "text": [
      "Constantes encontradas:\n",
      "c2: 0.891\n",
      "c3: 0.0\n",
      "c4: -0.185\n"
     ]
    }
   ],
   "source": [
    "theta_dict = {\"θ1\": 0, \"θ2\": 3}\n",
    "max_iter = 100\n",
    "max_tol = 1e-5\n",
    "\n",
    "X0 = np.array([[1], [0.5], [-1]])\n",
    "\n",
    "\n",
    "c2, c3, c4 = run_broyden(max_iter, max_tol, X0, theta_dict)\n",
    "print(\"Constantes encontradas:\")\n",
    "print(f\"c2: {c2}\")\n",
    "print(f\"c3: {c3}\")\n",
    "print(f\"c4: {c4}\")"
   ]
  },
  {
   "cell_type": "markdown",
   "id": "2414c856",
   "metadata": {},
   "source": [
    "<hr>\n",
    "\n",
    "### 2.1.1 - Método da Bisseção para encontrar uma raiz em um intervalo"
   ]
  },
  {
   "cell_type": "code",
   "execution_count": 15,
   "id": "fe44307d",
   "metadata": {},
   "outputs": [],
   "source": [
    "import numpy as np\n",
    "from sympy import Symbol, exp\n",
    "\n",
    "def run_bisseccao(constants, a, b, max_tol, max_iter):\n",
    "    x = Symbol('x')\n",
    "    c1 = Symbol('c1')\n",
    "    c2 = Symbol('c2')\n",
    "    c3 = Symbol('c3')\n",
    "    c4 = Symbol('c4')\n",
    "    f = c1*exp(c2*x)+c3*x**c4\n",
    "\n",
    "    c_dict = {\"c1\": constants[0], \"c2\": constants[1], \"c3\": constants[2], \"c4\": constants[3]}\n",
    "    count = 0\n",
    "    while np.abs(b-a) > max_tol:\n",
    "        x_i = (a+b)/2\n",
    "        f_i = f.subs(c_dict | {\"x\": x_i})\n",
    "        if (f_i > 0):\n",
    "            b = x_i\n",
    "        else:\n",
    "            a = x_i\n",
    "        if count == max_iter:\n",
    "            raise Exception(\"Não convergiu!\")\n",
    "\n",
    "    return x_i"
   ]
  },
  {
   "cell_type": "markdown",
   "id": "c988c1a9",
   "metadata": {},
   "source": [
    "#### Exemplo:"
   ]
  },
  {
   "cell_type": "code",
   "execution_count": 19,
   "id": "336ba5be-7f28-46bc-bf03-22ceccca572e",
   "metadata": {},
   "outputs": [
    {
     "data": {
      "text/latex": [
       "$\\displaystyle c_{1} e^{c_{2} x} + c_{3} x^{c_{4}}$"
      ],
      "text/plain": [
       "c1*exp(c2*x) + c3*x**c4"
      ]
     },
     "metadata": {},
     "output_type": "display_data"
    }
   ],
   "source": [
    "x = Symbol('x')\n",
    "c1 = Symbol('c1')\n",
    "c2 = Symbol('c2')\n",
    "c3 = Symbol('c3')\n",
    "c4 = Symbol('c4')\n",
    "f = c1*exp(c2*x)+c3*x**c4\n",
    "display(f)"
   ]
  },
  {
   "cell_type": "code",
   "execution_count": 20,
   "id": "16d506a1",
   "metadata": {},
   "outputs": [
    {
     "name": "stdout",
     "output_type": "stream",
     "text": [
      "Raiz encontrada: 9.5367431640625e-06\n"
     ]
    }
   ],
   "source": [
    "#c1, c2, c3, c4\n",
    "constants = [1, 1, 1, 0]\n",
    "\n",
    "#Intervalo entre 'a' e 'b'\n",
    "a = 0 \n",
    "b = 10\n",
    "\n",
    "max_iter = 100\n",
    "max_tol = 1e-5\n",
    "\n",
    "raiz = run_bisseccao(constants, a, b, max_tol, max_iter)\n",
    "print(f\"Raiz encontrada: {raiz}\")"
   ]
  },
  {
   "cell_type": "markdown",
   "id": "1fd96ebd",
   "metadata": {},
   "source": [
    "<hr>\n",
    "\n",
    "### 2.1.2 - Método de Newton para encontrar uma raiz a partir de um x0"
   ]
  },
  {
   "cell_type": "code",
   "execution_count": 28,
   "id": "36df4be5",
   "metadata": {},
   "outputs": [],
   "source": [
    "import numpy as np\n",
    "from sympy import Symbol, exp, diff\n",
    "\n",
    "def run_newton_root(constants, x_0, max_tol, max_iter):\n",
    "    x = Symbol('x')\n",
    "    c1 = Symbol('c1')\n",
    "    c2 = Symbol('c2')\n",
    "    c3 = Symbol('c3')\n",
    "    c4 = Symbol('c4')\n",
    "    f = c1*exp(c2*x)+c3*x**c4\n",
    "    f_deriv = diff(f, x)\n",
    "\n",
    "    c_dict = {\"c1\": constants[0], \"c2\": constants[1], \"c3\": constants[2], \"c4\": constants[3]}\n",
    "    for k in range(1, max_iter+1):\n",
    "        if k == 1:\n",
    "            x_old = x_0\n",
    "\n",
    "        x_k = x_old - float(f.subs({\"x\": x_old} | c_dict))/float(f_deriv.subs({\"x\": x_old} | c_dict))\n",
    "        tolk = np.abs(x_k - x_old)\n",
    "        x_old = x_k\n",
    "        if tolk < max_tol:\n",
    "            return x_k\n",
    "        if k == max_iter:\n",
    "            raise Exception(\"Não convergiu!\")\n"
   ]
  },
  {
   "cell_type": "markdown",
   "id": "12375c08",
   "metadata": {},
   "source": [
    "#### Exemplo:"
   ]
  },
  {
   "cell_type": "code",
   "execution_count": 29,
   "id": "bd3d83a1-cb85-4c37-96e2-b69ed16f1f2c",
   "metadata": {},
   "outputs": [
    {
     "data": {
      "text/latex": [
       "$\\displaystyle c_{1} e^{c_{2} x} + c_{3} x^{c_{4}}$"
      ],
      "text/plain": [
       "c1*exp(c2*x) + c3*x**c4"
      ]
     },
     "metadata": {},
     "output_type": "display_data"
    }
   ],
   "source": [
    "x = Symbol('x')\n",
    "c1 = Symbol('c1')\n",
    "c2 = Symbol('c2')\n",
    "c3 = Symbol('c3')\n",
    "c4 = Symbol('c4')\n",
    "f = c1*exp(c2*x)+c3*x**c4\n",
    "display(f)"
   ]
  },
  {
   "cell_type": "code",
   "execution_count": 30,
   "id": "02ad9417",
   "metadata": {},
   "outputs": [
    {
     "name": "stdout",
     "output_type": "stream",
     "text": [
      "Raiz encontrada: -0.5671432904097811\n"
     ]
    }
   ],
   "source": [
    "#c1, c2, c3, c4\n",
    "constants = [1, 1, 1, 1]\n",
    "\n",
    "#Chute inicial x0\n",
    "x_0 = 1\n",
    "\n",
    "max_iter = 100\n",
    "max_tol = 1e-5\n",
    "\n",
    "raiz = run_newton_root(constants, x_0, max_tol, max_iter)\n",
    "print(f\"Raiz encontrada: {raiz}\")"
   ]
  },
  {
   "cell_type": "markdown",
   "id": "be65c8ca",
   "metadata": {},
   "source": [
    "<hr>\n",
    "\n",
    "### 2.2.1 - Quadratura de Gauss para integrar uma função em um intervalo"
   ]
  },
  {
   "cell_type": "code",
   "execution_count": 33,
   "id": "4044ce14",
   "metadata": {},
   "outputs": [],
   "source": [
    "import numpy as np\n",
    "from sympy import Symbol, exp\n",
    "\n",
    "def run_gauss_quadrature(constants, a, b, N):\n",
    "    x = Symbol(\"x\")\n",
    "    c1 = Symbol('c1')\n",
    "    c2 = Symbol('c2')\n",
    "    c3 = Symbol('c3')\n",
    "    c4 = Symbol('c4')\n",
    "    c_dict = {\"c1\": constants[0], \"c2\": constants[1], \"c3\": constants[2], \"c4\": constants[3]}\n",
    "    f = c1*exp(c2*x)+c3*x**c4\n",
    "\n",
    "    gauss_weights = {\n",
    "    2: {\n",
    "        1: 1,\n",
    "        2: 1\n",
    "    },\n",
    "\n",
    "    3: {\n",
    "        1: 0.8888888888888888,\n",
    "        2: 0.5555555555555556,\n",
    "        3: 0.5555555555555556\n",
    "    },\n",
    "\n",
    "    4: {\n",
    "        1: 0.6521451548625461,\n",
    "        2: 0.6521451548625461,\n",
    "        3: 0.3478548451374538,\n",
    "        4: 0.3478548451374538\n",
    "    },\n",
    "\n",
    "    5: {\n",
    "        1: 0.5688888888888889,\n",
    "        2: 0.4786286704993665,\n",
    "        3: 0.4786286704993665,\n",
    "        4: 0.2369268850561891,\n",
    "        5: 0.2369268850561891\n",
    "    },\n",
    "\n",
    "    6: {\n",
    "        1: 0.3607615730481386,\n",
    "        2: 0.3607615730481386,\n",
    "        3: 0.4679139345726910,\n",
    "        4: 0.4679139345726910,\n",
    "        5: 0.1713244923791704,\n",
    "        6: 0.1713244923791704\n",
    "    },\n",
    "\n",
    "    7: {\n",
    "        1: 0.4179591836734694,\n",
    "        2: 0.3818300505051189,\n",
    "        3: 0.3818300505051189,\n",
    "        4: 0.2797053914892766,\n",
    "        5: 0.2797053914892766,\n",
    "        6: 0.1294849661688697,\n",
    "        7: 0.1294849661688697\n",
    "    },\n",
    "\n",
    "    8: {\n",
    "        1: 0.3626837833783620,\n",
    "        2: 0.3626837833783620,\n",
    "        3: 0.3137066458778873,\n",
    "        4: 0.3137066458778873,\n",
    "        5: 0.2223810344533745,\n",
    "        6: 0.2223810344533745,\n",
    "        7: 0.1012285362903763,\n",
    "        8: 0.1012285362903763\n",
    "    },\n",
    "\n",
    "    9: {\n",
    "        1: 0.3302393550012598,\n",
    "        2: 0.1806481606948574,\n",
    "        3: 0.1806481606948574,\n",
    "        4: 0.0812743883615744,\n",
    "        5: 0.0812743883615744,\n",
    "        6: 0.3123470770400029,\n",
    "        7: 0.3123470770400029,\n",
    "        8: 0.2606106964029354,\n",
    "        9: 0.2606106964029354\n",
    "    },\n",
    "\n",
    "    10: {\n",
    "        1: 0.2955242247147529,\n",
    "        2: 0.2955242247147529,\n",
    "        3: 0.2692667193099963,\n",
    "        4: 0.2692667193099963,\n",
    "        5: 0.2190863625159820,\n",
    "        6: 0.2190863625159820,\n",
    "        7: 0.1494513491505806,\n",
    "        8: 0.1494513491505806,\n",
    "        9: 0.0666713443086881,\n",
    "        10: 0.0666713443086881\n",
    "    }\n",
    "    }\n",
    "\n",
    "    gauss_abscissas = {\n",
    "    2: {\n",
    "        1: -0.5773502691896257,\n",
    "        2: 0.5773502691896257\n",
    "    },\n",
    "\n",
    "    3: {\n",
    "        1: 0,\n",
    "        2: -0.7745966692414834,\n",
    "        3: 0.7745966692414834\n",
    "    },\n",
    "\n",
    "    4: {\n",
    "        1: \t-0.3399810435848563,\n",
    "        2: \t0.3399810435848563,\n",
    "        3: -0.8611363115940526,\n",
    "        4: 0.8611363115940526\n",
    "    },\n",
    "\n",
    "    5: {\n",
    "        1: 0,\n",
    "        2: -0.5384693101056831,\n",
    "        3: 0.5384693101056831,\n",
    "        4: -0.906179845938664,\n",
    "        5: 0.9061798459386640\n",
    "    },\n",
    "\n",
    "    6: {\n",
    "        1: 0.6612093864662645,\n",
    "        2: -0.6612093864662645,\n",
    "        3: -0.2386191860831969,\n",
    "        4: 0.2386191860831969,\n",
    "        5: -0.9324695142031521,\n",
    "        6: 0.9324695142031521\n",
    "    },\n",
    "\n",
    "    7: {\n",
    "        1: 0,\n",
    "        2: 0.4058451513773972,\n",
    "        3: -0.4058451513773972,\n",
    "        4: -0.7415311855993945,\n",
    "        5: 0.7415311855993945,\n",
    "        6: -0.9491079123427585,\n",
    "        7: 0.9491079123427585\n",
    "    },\n",
    "\n",
    "    8: {\n",
    "        1: -0.1834346424956498,\n",
    "        2: 0.1834346424956498,\n",
    "        3: -0.5255324099163290,\n",
    "        4: 0.5255324099163290,\n",
    "        5: -0.7966664774136267,\n",
    "        6: 0.7966664774136267,\n",
    "        7: -0.9602898564975363,\n",
    "        8: 0.9602898564975363\n",
    "    },\n",
    "\n",
    "    9: {\n",
    "        1: 0,\n",
    "        2: -0.8360311073266358,\n",
    "        3: 0.8360311073266358,\n",
    "        4: -0.9681602395076261,\n",
    "        5: 0.9681602395076261,\n",
    "        6: -0.3242534234038089,\n",
    "        7: 0.3242534234038089,\n",
    "        8: -0.6133714327005904,\n",
    "        9: 0.6133714327005904\n",
    "    },\n",
    "\n",
    "    10: {\n",
    "        1: -0.1488743389816312,\n",
    "        2: 0.1488743389816312,\n",
    "        3: -0.4333953941292472,\n",
    "        4: 0.4333953941292472,\n",
    "        5: -0.6794095682990244,\n",
    "        6: 0.6794095682990244,\n",
    "        7: -0.8650633666889845,\n",
    "        8: 0.8650633666889845,\n",
    "        9: -0.9739065285171717,\n",
    "        10: 0.9739065285171717\n",
    "    }  \n",
    "    }\n",
    "\n",
    "    L = b - a\n",
    "    area = 0\n",
    "\n",
    "    for i in range(1, N+1):\n",
    "        w_i = gauss_weights[N][i]\n",
    "        z_i = gauss_abscissas[N][i]\n",
    "        x_i = (a + b + gauss_abscissas[N][i]*L)/2\n",
    "        f_i = float(f.subs({\"x\": x_i} | c_dict))\n",
    "        area += f_i*w_i\n",
    "  \n",
    "    return area*L/2"
   ]
  },
  {
   "cell_type": "markdown",
   "id": "4e61242d",
   "metadata": {},
   "source": [
    "#### Exemplo:"
   ]
  },
  {
   "cell_type": "code",
   "execution_count": 34,
   "id": "33cc0187-2bb1-4c09-9af9-d7281e989af8",
   "metadata": {},
   "outputs": [
    {
     "data": {
      "text/latex": [
       "$\\displaystyle c_{1} e^{c_{2} x} + c_{3} x^{c_{4}}$"
      ],
      "text/plain": [
       "c1*exp(c2*x) + c3*x**c4"
      ]
     },
     "metadata": {},
     "output_type": "display_data"
    }
   ],
   "source": [
    "x = Symbol('x')\n",
    "c1 = Symbol('c1')\n",
    "c2 = Symbol('c2')\n",
    "c3 = Symbol('c3')\n",
    "c4 = Symbol('c4')\n",
    "f = c1*exp(c2*x)+c3*x**c4\n",
    "display(f)"
   ]
  },
  {
   "cell_type": "code",
   "execution_count": 36,
   "id": "8f50e47c-4929-4441-ba6c-ab98639f2acb",
   "metadata": {},
   "outputs": [
    {
     "name": "stdout",
     "output_type": "stream",
     "text": [
      "Área: 2.7182818284583914\n"
     ]
    }
   ],
   "source": [
    "#c1, c2, c3, c4\n",
    "constants = [1, 1, 1, 0]\n",
    "\n",
    "#Intervalo a-b a ser integrado\n",
    "a = 0\n",
    "b = 1\n",
    "\n",
    "#Número de pontos de integração (entre 2 a 10)\n",
    "N = 5\n",
    "\n",
    "\n",
    "area = run_gauss_quadrature(constants, a, b, N)\n",
    "print(f\"Área: {area}\")"
   ]
  },
  {
   "cell_type": "markdown",
   "id": "4c7f84a6",
   "metadata": {},
   "source": [
    "<hr>\n",
    "\n",
    "### 2.2.2 - Quadratura Polinomial para integrar uma função em um intervalo"
   ]
  },
  {
   "cell_type": "code",
   "execution_count": 38,
   "id": "bc1bac67",
   "metadata": {},
   "outputs": [],
   "source": [
    "import numpy as np\n",
    "from sympy import Symbol, exp\n",
    "\n",
    "def get_polinomial_x(a, b):\n",
    "    polinomial_x = {}\n",
    "\n",
    "    for N in range(2, 11):\n",
    "        delta = delta = (b-a)/(N-1)\n",
    "        polinomial_x[N] = {}\n",
    "\n",
    "        for i in range(1, N+1):\n",
    "            if i == 1:\n",
    "                polinomial_x[N][i] = a\n",
    "            elif i == N:\n",
    "                polinomial_x[N][i] = b\n",
    "            else:\n",
    "                polinomial_x[N][i] = a + (i-1)*delta\n",
    "    \n",
    "    return polinomial_x\n",
    "\n",
    "def get_polinomial_weights():\n",
    "    polinomial_weights = {}\n",
    "    \n",
    "    for N in range(2, 11):\n",
    "        polinomial_weights[N] = {}\n",
    "        A = np.empty((N, N))\n",
    "        B = np.empty((N, 1))\n",
    "        x = np.empty((N, 1))\n",
    "        delta = 1/(N-1)\n",
    "\n",
    "        for i in range(1, N+1):\n",
    "            x[i-1][0] = (i-1)*delta\n",
    "\n",
    "        for i in range(1, N+1):\n",
    "            for j in range(1, N+1):\n",
    "                A[i-1][j-1] = x[j-1]**(i-1)\n",
    "            B[i-1][0] = 1/i\n",
    "        \n",
    "        w = np.dot(np.linalg.inv(A), B)\n",
    "        \n",
    "        for i in range(1, N+1):\n",
    "            polinomial_weights[N][i] = w[i-1][0]\n",
    "    return polinomial_weights\n",
    "\n",
    "def run_polinomial_quadrature(constants, a, b, N):\n",
    "    x = Symbol(\"x\")\n",
    "    c1 = Symbol('c1')\n",
    "    c2 = Symbol('c2')\n",
    "    c3 = Symbol('c3')\n",
    "    c4 = Symbol('c4')\n",
    "    c_dict = {\"c1\": constants[0], \"c2\": constants[1], \"c3\": constants[2], \"c4\": constants[3]}\n",
    "    f = c1*exp(c2*x)+c3*x**c4\n",
    "    polinomial_x = get_polinomial_x(a, b)\n",
    "    polinomial_weights = get_polinomial_weights()\n",
    "\n",
    "    area = 0\n",
    "    for i in range(1, N+1):\n",
    "        w_i = polinomial_weights[N][i]\n",
    "        x_i = polinomial_x[N][i]\n",
    "        f_i = float(f.subs({\"x\": x_i} | c_dict))\n",
    "        area += f_i*w_i\n",
    "\n",
    "    return area"
   ]
  },
  {
   "cell_type": "markdown",
   "id": "cdec2b5d",
   "metadata": {},
   "source": [
    "#### Exemplo:"
   ]
  },
  {
   "cell_type": "code",
   "execution_count": 39,
   "id": "59563f01",
   "metadata": {},
   "outputs": [
    {
     "data": {
      "text/latex": [
       "$\\displaystyle c_{1} e^{c_{2} x} + c_{3} x^{c_{4}}$"
      ],
      "text/plain": [
       "c1*exp(c2*x) + c3*x**c4"
      ]
     },
     "metadata": {},
     "output_type": "display_data"
    }
   ],
   "source": [
    "x = Symbol('x')\n",
    "c1 = Symbol('c1')\n",
    "c2 = Symbol('c2')\n",
    "c3 = Symbol('c3')\n",
    "c4 = Symbol('c4')\n",
    "f = c1*exp(c2*x)+c3*x**c4\n",
    "display(f)"
   ]
  },
  {
   "cell_type": "code",
   "execution_count": 40,
   "id": "c75878df-f4be-43e6-8c9e-f6393b162957",
   "metadata": {},
   "outputs": [
    {
     "name": "stdout",
     "output_type": "stream",
     "text": [
      "Área: 2.718282687924767\n"
     ]
    }
   ],
   "source": [
    "#c1, c2, c3, c4\n",
    "constants = [1, 1, 1, 0]\n",
    "\n",
    "#Intervalo a-b a ser integrado\n",
    "a = 0\n",
    "b = 1\n",
    "\n",
    "#Número de pontos de integração (entre 2 a 10)\n",
    "N = 5\n",
    "\n",
    "\n",
    "area = run_polinomial_quadrature(constants, a, b, N)\n",
    "print(f\"Área: {area}\")"
   ]
  },
  {
   "cell_type": "markdown",
   "id": "201b268c",
   "metadata": {},
   "source": [
    "<hr>\n",
    "\n",
    "### 2.3.1 - Derivada pela diferença central a partir de um valor inicial a e um delta x"
   ]
  },
  {
   "cell_type": "code",
   "execution_count": 41,
   "id": "b7e38fa1",
   "metadata": {},
   "outputs": [],
   "source": [
    "def deriv_central(constants, x_value, delta_x):\n",
    "    x = Symbol(\"x\")\n",
    "    c1 = Symbol('c1')\n",
    "    c2 = Symbol('c2')\n",
    "    c3 = Symbol('c3')\n",
    "    c4 = Symbol('c4')\n",
    "    c_dict = {\"c1\": constants[0], \"c2\": constants[1], \"c3\": constants[2], \"c4\": constants[3]}\n",
    "    f = c1*exp(c2*x)+c3*x**c4\n",
    "    x_mais = x_value + delta_x\n",
    "    f_mais = float(f.subs({\"x\": x_mais} | c_dict))\n",
    "    x_menos = x_value - delta_x\n",
    "    f_menos = float(f.subs({\"x\": x_menos} | c_dict))\n",
    "    \n",
    "    f_deriv = (f_mais - f_menos)/(2*delta_x)\n",
    "    return f_deriv"
   ]
  },
  {
   "cell_type": "markdown",
   "id": "424850f1",
   "metadata": {},
   "source": [
    "#### Exemplo:"
   ]
  },
  {
   "cell_type": "code",
   "execution_count": 42,
   "id": "ad18772e",
   "metadata": {},
   "outputs": [
    {
     "data": {
      "text/latex": [
       "$\\displaystyle c_{1} e^{c_{2} x} + c_{3} x^{c_{4}}$"
      ],
      "text/plain": [
       "c1*exp(c2*x) + c3*x**c4"
      ]
     },
     "metadata": {},
     "output_type": "display_data"
    }
   ],
   "source": [
    "x = Symbol('x')\n",
    "c1 = Symbol('c1')\n",
    "c2 = Symbol('c2')\n",
    "c3 = Symbol('c3')\n",
    "c4 = Symbol('c4')\n",
    "f = c1*exp(c2*x)+c3*x**c4\n",
    "display(f)"
   ]
  },
  {
   "cell_type": "code",
   "execution_count": 44,
   "id": "f7d587ee",
   "metadata": {},
   "outputs": [
    {
     "name": "stdout",
     "output_type": "stream",
     "text": [
      "Derivada no ponto a: 7.389548712522753\n"
     ]
    }
   ],
   "source": [
    "#c1, c2, c3, c4\n",
    "constants = [1, 1, 1, 0]\n",
    "\n",
    "#Ponto a\n",
    "a = 2\n",
    "\n",
    "#Valor de delta x\n",
    "delta_x = 0.02\n",
    "\n",
    "\n",
    "deriv = deriv_central(constants, a, delta_x)\n",
    "print(f\"Derivada no ponto a: {deriv}\")"
   ]
  },
  {
   "cell_type": "markdown",
   "id": "c8b7723d",
   "metadata": {},
   "source": [
    "<hr>\n",
    "\n",
    "### 2.3.2 - Derivada passo a frente a partir de um valor inicial a e um delta x"
   ]
  },
  {
   "cell_type": "code",
   "execution_count": 45,
   "id": "c786912e",
   "metadata": {},
   "outputs": [],
   "source": [
    "def deriv_frente(constants, x_value, delta_x):\n",
    "    x = Symbol(\"x\")\n",
    "    c1 = Symbol('c1')\n",
    "    c2 = Symbol('c2')\n",
    "    c3 = Symbol('c3')\n",
    "    c4 = Symbol('c4')\n",
    "    c_dict = {\"c1\": constants[0], \"c2\": constants[1], \"c3\": constants[2], \"c4\": constants[3]}\n",
    "    f = c1*exp(c2*x)+c3*x**c4\n",
    "    x_mais = x_value + delta_x\n",
    "    f_mais = float(f.subs({\"x\": x_mais} | c_dict))\n",
    "    f_normal = float(f.subs({\"x\": x_value} | c_dict))\n",
    "    \n",
    "    f_deriv = (f_mais - f_normal)/delta_x\n",
    "    return f_deriv"
   ]
  },
  {
   "cell_type": "markdown",
   "id": "fb6314e1",
   "metadata": {
    "tags": []
   },
   "source": [
    "#### Exemplo:"
   ]
  },
  {
   "cell_type": "code",
   "execution_count": 46,
   "id": "4c80d9b3-a8ce-4d3c-aa9d-888c8db72fa7",
   "metadata": {},
   "outputs": [
    {
     "data": {
      "text/latex": [
       "$\\displaystyle c_{1} e^{c_{2} x} + c_{3} x^{c_{4}}$"
      ],
      "text/plain": [
       "c1*exp(c2*x) + c3*x**c4"
      ]
     },
     "metadata": {},
     "output_type": "display_data"
    }
   ],
   "source": [
    "x = Symbol('x')\n",
    "c1 = Symbol('c1')\n",
    "c2 = Symbol('c2')\n",
    "c3 = Symbol('c3')\n",
    "c4 = Symbol('c4')\n",
    "f = c1*exp(c2*x)+c3*x**c4\n",
    "display(f)"
   ]
  },
  {
   "cell_type": "code",
   "execution_count": 47,
   "id": "40e33612-c5f6-470b-8377-66f6e2f74b0c",
   "metadata": {},
   "outputs": [
    {
     "name": "stdout",
     "output_type": "stream",
     "text": [
      "Derivada no ponto a: 7.463441736563592\n"
     ]
    }
   ],
   "source": [
    "#c1, c2, c3, c4\n",
    "constants = [1, 1, 1, 0]\n",
    "\n",
    "#Ponto a\n",
    "a = 2\n",
    "\n",
    "#Valor de delta x\n",
    "delta_x = 0.02\n",
    "\n",
    "\n",
    "deriv = deriv_frente(constants, a, delta_x)\n",
    "print(f\"Derivada no ponto a: {deriv}\")"
   ]
  },
  {
   "cell_type": "markdown",
   "id": "4c61db19-0c18-4772-ab03-25cc7a532c4b",
   "metadata": {},
   "source": [
    "<hr>\n",
    "\n",
    "### 2.3.3 - Derivada passo atrás a partir de um valor inicial a e um delta x"
   ]
  },
  {
   "cell_type": "code",
   "execution_count": 48,
   "id": "2d1e2a4b-0d59-453e-8141-f242f4778350",
   "metadata": {},
   "outputs": [],
   "source": [
    "def deriv_tras(constants, x_value, delta_x):\n",
    "    x = Symbol(\"x\")\n",
    "    c1 = Symbol('c1')\n",
    "    c2 = Symbol('c2')\n",
    "    c3 = Symbol('c3')\n",
    "    c4 = Symbol('c4')\n",
    "    c_dict = {\"c1\": constants[0], \"c2\": constants[1], \"c3\": constants[2], \"c4\": constants[3]}\n",
    "    f = c1*exp(c2*x)+c3*x**c4\n",
    "    f_normal = float(f.subs({\"x\": x_value} | c_dict))\n",
    "    x_menos = x_value - delta_x\n",
    "    f_menos = float(f.subs({\"x\": x_menos} | c_dict))\n",
    "    \n",
    "    f_deriv = (f_normal - f_menos)/delta_x\n",
    "    return f_deriv"
   ]
  },
  {
   "cell_type": "markdown",
   "id": "2760aadc-f715-4788-8c39-7a24f221e858",
   "metadata": {
    "tags": []
   },
   "source": [
    "#### Exemplo:"
   ]
  },
  {
   "cell_type": "code",
   "execution_count": 49,
   "id": "2104b87e-52bf-4989-857f-fe541d1244c1",
   "metadata": {},
   "outputs": [
    {
     "data": {
      "text/latex": [
       "$\\displaystyle c_{1} e^{c_{2} x} + c_{3} x^{c_{4}}$"
      ],
      "text/plain": [
       "c1*exp(c2*x) + c3*x**c4"
      ]
     },
     "metadata": {},
     "output_type": "display_data"
    }
   ],
   "source": [
    "x = Symbol('x')\n",
    "c1 = Symbol('c1')\n",
    "c2 = Symbol('c2')\n",
    "c3 = Symbol('c3')\n",
    "c4 = Symbol('c4')\n",
    "f = c1*exp(c2*x)+c3*x**c4\n",
    "display(f)"
   ]
  },
  {
   "cell_type": "code",
   "execution_count": 50,
   "id": "fea49313-fef8-43fb-8a19-1e83ee277d8c",
   "metadata": {},
   "outputs": [
    {
     "name": "stdout",
     "output_type": "stream",
     "text": [
      "Derivada no ponto a: 7.315655688481915\n"
     ]
    }
   ],
   "source": [
    "#c1, c2, c3, c4\n",
    "constants = [1, 1, 1, 0]\n",
    "\n",
    "#Ponto a\n",
    "a = 2\n",
    "\n",
    "#Valor de delta x\n",
    "delta_x = 0.02\n",
    "\n",
    "\n",
    "deriv = deriv_tras(constants, a, delta_x)\n",
    "print(f\"Derivada no ponto a: {deriv}\")"
   ]
  },
  {
   "cell_type": "markdown",
   "id": "99cdb63c-1ccd-4d39-84a9-c0f832154bd7",
   "metadata": {},
   "source": [
    "<hr>\n",
    "\n",
    "### 2.4 - Derivada por extrapolação de Richard a partir de um ponto a e dois delta x"
   ]
  },
  {
   "cell_type": "code",
   "execution_count": 51,
   "id": "6ad320c4-11cd-4dc8-a616-95df23172f63",
   "metadata": {},
   "outputs": [],
   "source": [
    "def deriv_richard(constants, x_value, delta_x_1, delta_x_2):\n",
    "    d_1 = deriv_frente(constants, x_value, delta_x_1)\n",
    "    d_2 = deriv_frente(constants, x_value, delta_x_2)\n",
    "    q = delta_x_1/delta_x_2\n",
    "    \n",
    "    f_deriv = d_1 + (d_1-d_2)/(np.power(q, -1) - 1)\n",
    "    return f_deriv"
   ]
  },
  {
   "cell_type": "markdown",
   "id": "8cf36106-d48c-4617-b33b-b1ae5aa061fa",
   "metadata": {
    "tags": []
   },
   "source": [
    "#### Exemplo:"
   ]
  },
  {
   "cell_type": "code",
   "execution_count": 52,
   "id": "9b8b4e6a-147f-4de0-9fc1-2c29e970a37c",
   "metadata": {},
   "outputs": [
    {
     "data": {
      "text/latex": [
       "$\\displaystyle c_{1} e^{c_{2} x} + c_{3} x^{c_{4}}$"
      ],
      "text/plain": [
       "c1*exp(c2*x) + c3*x**c4"
      ]
     },
     "metadata": {},
     "output_type": "display_data"
    }
   ],
   "source": [
    "x = Symbol('x')\n",
    "c1 = Symbol('c1')\n",
    "c2 = Symbol('c2')\n",
    "c3 = Symbol('c3')\n",
    "c4 = Symbol('c4')\n",
    "f = c1*exp(c2*x)+c3*x**c4\n",
    "display(f)"
   ]
  },
  {
   "cell_type": "code",
   "execution_count": null,
   "id": "b88f4fb8-c10b-4111-90ea-d1af3ff06255",
   "metadata": {},
   "outputs": [
    {
     "name": "stdout",
     "output_type": "stream",
     "text": [
      "Derivada no ponto a: 7.202562175877361\n"
     ]
    }
   ],
   "source": [
    "#c1, c2, c3, c4\n",
    "constants = [1, 1, 1, 0]\n",
    "\n",
    "#Ponto a\n",
    "a = 2\n",
    "\n",
    "#Valores de delta x\n",
    "delta_x_1 = 0.5\n",
    "delta_x_2 = 0.25\n",
    "\n",
    "\n",
    "deriv = deriv_richard(constants, a, delta_x_1, delta_x_2)\n",
    "print(f\"Derivada no ponto a: {deriv}\")"
   ]
  },
  {
   "cell_type": "code",
   "execution_count": null,
   "id": "e3f4c435-cbdc-480b-9788-d25650546cc4",
   "metadata": {},
   "outputs": [],
   "source": []
  }
 ],
 "metadata": {
  "kernelspec": {
   "display_name": "Python 3",
   "language": "python",
   "name": "python3"
  },
  "language_info": {
   "codemirror_mode": {
    "name": "ipython",
    "version": 3
   },
   "file_extension": ".py",
   "mimetype": "text/x-python",
   "name": "python",
   "nbconvert_exporter": "python",
   "pygments_lexer": "ipython3",
   "version": "3.9.7"
  }
 },
 "nbformat": 4,
 "nbformat_minor": 5
}
