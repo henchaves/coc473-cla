{
 "cells": [
  {
   "cell_type": "markdown",
   "id": "73f2db89",
   "metadata": {},
   "source": [
    "## COC473 - Trabalho 2 - 2021.1\n",
    "### Aluno: Henrique Chaves Magalhães de Menezes\n",
    "### DRE: 119025571"
   ]
  },
  {
   "cell_type": "markdown",
   "id": "112493cf",
   "metadata": {},
   "source": [
    "<hr>\n",
    "\n",
    "## Algoritmos:\n",
    "\n",
    "<hr>"
   ]
  },
  {
   "cell_type": "markdown",
   "id": "63c82537",
   "metadata": {},
   "source": [
    "### 1.1 - Método de Newton para resolução de equações não lineares"
   ]
  },
  {
   "cell_type": "code",
   "execution_count": 1,
   "id": "a8cff43f",
   "metadata": {},
   "outputs": [],
   "source": [
    "import numpy as np\n",
    "from sympy import Symbol, diff\n",
    "\n",
    "def create_F(number_of_functions, functions):\n",
    "    F = np.array([[functions[i]] for i in range(number_of_functions)])\n",
    "    return F\n",
    "\n",
    "def create_J(number_of_functions, number_of_constants, functions):\n",
    "    J = np.empty((number_of_functions, number_of_constants), dtype=object)\n",
    "    for i in range(number_of_functions):\n",
    "        for j in range(number_of_constants):\n",
    "            J[i][j] = diff(functions[i], f\"c{j+2}\")\n",
    "    return J\n",
    "\n",
    "def update_c_dict(X, extra_dict={}):\n",
    "    c_dict = {f\"c{i+2}\":X[i, 0] for i in range(len(X))}\n",
    "    c_dict.update(extra_dict)\n",
    "    return c_dict\n",
    "\n",
    "def sub_F(F, c_dict):\n",
    "    F = F.copy()\n",
    "    for i in range(F.shape[0]):\n",
    "        for j in range(F.shape[1]):\n",
    "            F[i][j] = F[i][j].subs(c_dict)\n",
    "    return F.astype(float)\n",
    "\n",
    "def sub_J(J, c_dict):\n",
    "    J = J.copy()\n",
    "    for i in range(J.shape[0]):\n",
    "        for j in range(J.shape[1]):\n",
    "            J[i][j] = J[i][j].subs(c_dict)\n",
    "    return J.astype(float)\n",
    "\n",
    "def calculate_nl_newton(max_iter, max_tol, X0, theta_dict, F, J):\n",
    "    X_list = []\n",
    "    X_list.append(X0)\n",
    "\n",
    "    for k in range(1, max_iter+1):\n",
    "        c_dict = update_c_dict(X_list[k-1], theta_dict)\n",
    "        F_k = sub_F(F, c_dict)\n",
    "        J_k = sub_J(J, c_dict)\n",
    "        J_k_inv = np.linalg.inv(J_k)\n",
    "        delta_X = np.dot(-J_k_inv, F_k)\n",
    "        X_k = X_list[k-1] + delta_X\n",
    "        X_list.append(X_k.copy())    \n",
    "        tolk = np.linalg.norm(delta_X)/np.linalg.norm(X_k)\n",
    "        if tolk < max_tol:\n",
    "            return X_k\n",
    "\n",
    "        if k == max_iter:\n",
    "            raise Exception(\"Não convergiu\")\n",
    "\n",
    "\n",
    "def run_newton(max_iter, max_tol, X0, theta_dict):\n",
    "    c2 = Symbol('c2')\n",
    "    c3 = Symbol('c3')\n",
    "    c4 = Symbol('c4')\n",
    "    θ1 = Symbol('θ1')\n",
    "    θ2 = Symbol('θ2')\n",
    "    \n",
    "    f1 = 2*c3**2+c2**2+6*c4**2-1\n",
    "    f2 = 8*c3**3+6*c3*c2**2+36*c3*c2*c4+108*c3*c4**2-θ1\n",
    "    f3 = 60*c3**4+60*c3**2*c2**2+576*c3**2*c2*c4+2232*c3**2*c4**2+252*c4**2*c2**2+1296*c4**3*c2+3348*c4**4+24*c2**3*c4+3*c2-θ2\n",
    "    \n",
    "    fns = [f1, f2, f3]\n",
    "    \n",
    "    number_of_functions = 3\n",
    "    number_of_constants = 3\n",
    "\n",
    "    \n",
    "    F = create_F(number_of_functions, fns)\n",
    "    J = create_J(number_of_functions, number_of_constants, fns)\n",
    "\n",
    "    X = calculate_nl_newton(max_iter, max_tol, X0, theta_dict, F, J)\n",
    "    return np.round(X.ravel(), 3).tolist()"
   ]
  },
  {
   "cell_type": "markdown",
   "id": "c2eef358",
   "metadata": {},
   "source": [
    "#### Exemplo:"
   ]
  },
  {
   "cell_type": "code",
   "execution_count": 7,
   "id": "e7db3783",
   "metadata": {},
   "outputs": [
    {
     "name": "stdout",
     "output_type": "stream",
     "text": [
      "Constantes encontradas:\n",
      "c2: 0.784\n",
      "c3: 0.25\n",
      "c4: -0.208\n"
     ]
    }
   ],
   "source": [
    "theta_dict = {\"θ1\": 0.75, \"θ2\": 6.5}\n",
    "max_iter = 100\n",
    "max_tol = 1e-5\n",
    "\n",
    "X0 = np.array([[1], [0], [4]])\n",
    "\n",
    "\n",
    "c2, c3, c4 = run_newton(max_iter, max_tol, X0, theta_dict)\n",
    "print(\"Constantes encontradas:\")\n",
    "print(f\"c2: {c2}\")\n",
    "print(f\"c3: {c3}\")\n",
    "print(f\"c4: {c4}\")"
   ]
  },
  {
   "cell_type": "markdown",
   "id": "ade3a1b8",
   "metadata": {},
   "source": [
    "<hr>\n",
    "\n",
    "### 1.2 - Método de Broyden para resolução de equações não lineares"
   ]
  },
  {
   "cell_type": "code",
   "execution_count": 10,
   "id": "bff8f67e",
   "metadata": {},
   "outputs": [],
   "source": [
    "def decomposicao_cholesky(A):\n",
    "    n = A.shape[0]\n",
    "\n",
    "    L = np.zeros((n, n))\n",
    "\n",
    "    for i in range(n):\n",
    "        for k in range(i+1):\n",
    "            tmp_sum = sum(L[i][j] * L[k][j] for j in range(k))\n",
    "            \n",
    "            if (i == k):\n",
    "                L[i][i] = np.sqrt(A[i][i] - tmp_sum)\n",
    "            else:\n",
    "                L[i][k] = (1.0 / L[k][k] * (A[i][k] - tmp_sum))\n",
    "    return L\n",
    "\n",
    "def resolve_cholesky(L, b):\n",
    "    n = b.shape[0]\n",
    "    y = np.zeros((n,1))\n",
    "    x = np.zeros((n,1))\n",
    "    \n",
    "    y[0][0] = b[0][0]/L[0, 0]\n",
    "    \n",
    "    for i in range(2, n+1):\n",
    "        y[i-1][0] = (b[i-1][0] - sum(L[i-1, j-1]*y[j-1][0] for j in range(1, i)))/L[i-1, i-1]\n",
    "\n",
    "    \n",
    "    x[n-1][0] = y[n-1][0]/L.T[n-1, n-1]\n",
    "    \n",
    "    for i in reversed(range(1, n)):\n",
    "        x[i-1][0] = (y[i-1][0] - sum(L.T[i-1, j-1]*x[j-1][0] for j in range(i+1, n+1)))/L.T[i-1, i-1] \n",
    "    \n",
    "    return x"
   ]
  },
  {
   "cell_type": "markdown",
   "id": "2accc9bf",
   "metadata": {},
   "source": [
    "#### Exemplo:"
   ]
  },
  {
   "cell_type": "code",
   "execution_count": 11,
   "id": "86c29e36",
   "metadata": {},
   "outputs": [
    {
     "name": "stdout",
     "output_type": "stream",
     "text": [
      "Matriz A:\n",
      "[[1.  0.2 0.4]\n",
      " [0.2 1.  0.5]\n",
      " [0.4 0.5 1. ]]\n"
     ]
    }
   ],
   "source": [
    "A = np.array([[1, 0.2, 0.4],\n",
    "              [0.2, 1, 0.5],\n",
    "              [0.4, 0.5, 1]])\n",
    "\n",
    "print(\"Matriz A:\")\n",
    "print(A)"
   ]
  },
  {
   "cell_type": "code",
   "execution_count": 12,
   "id": "2ad7fa99",
   "metadata": {},
   "outputs": [
    {
     "name": "stdout",
     "output_type": "stream",
     "text": [
      "Vetor B:\n",
      "[[ 0.6]\n",
      " [-0.3]\n",
      " [-0.6]]\n"
     ]
    }
   ],
   "source": [
    "b = np.array([[0.6], [-0.3], [-0.6]])\n",
    "\n",
    "print(\"Vetor B:\")\n",
    "print(b)"
   ]
  },
  {
   "cell_type": "code",
   "execution_count": 13,
   "id": "f65a9645",
   "metadata": {},
   "outputs": [
    {
     "name": "stdout",
     "output_type": "stream",
     "text": [
      "Matriz L:\n",
      "[[1.         0.         0.        ]\n",
      " [0.2        0.9797959  0.        ]\n",
      " [0.4        0.4286607  0.81009259]]\n"
     ]
    }
   ],
   "source": [
    "L = decomposicao_cholesky(A)\n",
    "\n",
    "print(\"Matriz L:\")\n",
    "print(L)"
   ]
  },
  {
   "cell_type": "code",
   "execution_count": 14,
   "id": "6fb4db0e",
   "metadata": {},
   "outputs": [
    {
     "name": "stdout",
     "output_type": "stream",
     "text": [
      "Vetor X:\n",
      "[[ 1.]\n",
      " [ 0.]\n",
      " [-1.]]\n"
     ]
    }
   ],
   "source": [
    "x = resolve_cholesky(L, b)\n",
    "\n",
    "print(\"Vetor X:\")\n",
    "print(x)"
   ]
  },
  {
   "cell_type": "markdown",
   "id": "2414c856",
   "metadata": {},
   "source": [
    "<hr>\n",
    "\n",
    "### Procedimento iterativo Jacobi"
   ]
  },
  {
   "cell_type": "code",
   "execution_count": 15,
   "id": "fe44307d",
   "metadata": {},
   "outputs": [],
   "source": [
    "def resolve_jacobi(A, b, tol=10**-10):\n",
    "    if not tem_diagonal_dominante(A):\n",
    "        raise Exception(\"Matriz A não tem diagonal dominante.\")\n",
    "    n = A.shape[0]\n",
    "\n",
    "    R = np.inf\n",
    "    x_new = np.ones(b.shape)\n",
    "    count = 0\n",
    "    historico_R = []\n",
    "    \n",
    "    while (R > tol):\n",
    "        if count > 1000:\n",
    "            raise Exception(\"Número de iterações ultrapassou 1000.\")\n",
    "        x_old = x_new\n",
    "        x_new = np.zeros(b.shape)\n",
    "\n",
    "        for i in range(1, n+1):\n",
    "            x_new[i-1][0] = (b[i-1][0] - sum([A[i-1][j-1]*x_old[j-1][0] for j in range(1, n+1) if j is not i]))/A[i-1][i-1]\n",
    "            R = np.linalg.norm(x_new - x_old)/np.linalg.norm(x_new)\n",
    "\n",
    "        historico_R.append(R)\n",
    "        count += 1\n",
    "\n",
    "    return x_new, historico_R, count"
   ]
  },
  {
   "cell_type": "markdown",
   "id": "c988c1a9",
   "metadata": {},
   "source": [
    "#### Exemplo:"
   ]
  },
  {
   "cell_type": "code",
   "execution_count": 16,
   "id": "16d506a1",
   "metadata": {},
   "outputs": [
    {
     "name": "stdout",
     "output_type": "stream",
     "text": [
      "Matriz A:\n",
      "[[ 3 -1 -1]\n",
      " [-1  3 -1]\n",
      " [-1 -1  3]]\n"
     ]
    }
   ],
   "source": [
    "A = np.array([\n",
    "    [3, -1, -1],\n",
    "    [-1, 3, -1],\n",
    "    [-1, -1, 3]\n",
    "])\n",
    "\n",
    "print(\"Matriz A:\")\n",
    "print(A)"
   ]
  },
  {
   "cell_type": "code",
   "execution_count": 17,
   "id": "f0abd921",
   "metadata": {},
   "outputs": [
    {
     "name": "stdout",
     "output_type": "stream",
     "text": [
      "Vetor B:\n",
      "[[1]\n",
      " [2]\n",
      " [1]]\n"
     ]
    }
   ],
   "source": [
    "b = np.array([[1], [2], [1]])\n",
    "\n",
    "print(\"Vetor B:\")\n",
    "print(b)"
   ]
  },
  {
   "cell_type": "code",
   "execution_count": 18,
   "id": "9bf80994",
   "metadata": {},
   "outputs": [
    {
     "name": "stdout",
     "output_type": "stream",
     "text": [
      "Vetor X:\n",
      "[[1.25]\n",
      " [1.5 ]\n",
      " [1.25]]\n"
     ]
    }
   ],
   "source": [
    "x, erros, iteracoes = resolve_jacobi(A, b, tol=10**-10)\n",
    "\n",
    "print(\"Vetor X:\")\n",
    "print(x)"
   ]
  },
  {
   "cell_type": "code",
   "execution_count": 19,
   "id": "45f1b652",
   "metadata": {},
   "outputs": [
    {
     "name": "stdout",
     "output_type": "stream",
     "text": [
      "Número de iterações: 52\n"
     ]
    }
   ],
   "source": [
    "print(f\"Número de iterações: {iteracoes}\")"
   ]
  },
  {
   "cell_type": "code",
   "execution_count": 20,
   "id": "83ec58a0",
   "metadata": {},
   "outputs": [
    {
     "name": "stdout",
     "output_type": "stream",
     "text": [
      "Histórico de erros: [1.71498585e-01 7.62492852e-02 4.22200331e-02 2.62662274e-02\n",
      " 1.70161288e-02 1.11856887e-02 7.39668116e-03 4.90615139e-03\n",
      " 3.25999271e-03 2.16861023e-03 1.44365678e-03 9.61515430e-04\n",
      " 6.40601130e-04 4.26885800e-04 2.84509880e-04 1.89637420e-04\n",
      " 1.26409030e-04 8.42656100e-05 5.61739300e-05 3.74478900e-05\n",
      " 2.49646400e-05 1.66428200e-05 1.10950900e-05 7.39667000e-06\n",
      " 4.93109000e-06 3.28738000e-06 2.19158000e-06 1.46105000e-06\n",
      " 9.74030000e-07 6.49360000e-07 4.32900000e-07 2.88600000e-07\n",
      " 1.92400000e-07 1.28270000e-07 8.55100000e-08 5.70100000e-08\n",
      " 3.80100000e-08 2.53400000e-08 1.68900000e-08 1.12600000e-08\n",
      " 7.51000000e-09 5.00000000e-09 3.34000000e-09 2.22000000e-09\n",
      " 1.48000000e-09 9.90000000e-10 6.60000000e-10 4.40000000e-10\n",
      " 2.90000000e-10 2.00000000e-10 1.30000000e-10 9.00000000e-11]\n"
     ]
    }
   ],
   "source": [
    "print(f\"Histórico de erros: {np.round(erros, 11)}\")"
   ]
  },
  {
   "cell_type": "markdown",
   "id": "1fd96ebd",
   "metadata": {},
   "source": [
    "<hr>\n",
    "\n",
    "### Procedimento iterativo Gauss-Seidel"
   ]
  },
  {
   "cell_type": "code",
   "execution_count": 21,
   "id": "36df4be5",
   "metadata": {},
   "outputs": [],
   "source": [
    "def resolve_gauss_seidel(A, b, tol=10**-10):\n",
    "    if not tem_diagonal_dominante(A):\n",
    "        raise Exception(\"Matriz A não tem diagonal dominante.\")\n",
    "    n = A.shape[0]\n",
    "\n",
    "    R = np.inf\n",
    "    x_new = np.ones((n, 1))\n",
    "    count = 0\n",
    "    historico_R = []\n",
    "\n",
    "    while (R > tol):\n",
    "        if count > 1000:\n",
    "            raise Exception(\"Número de iterações ultrapassou 1000.\")\n",
    "        x_old = x_new.copy()\n",
    "        x_new = np.zeros((n, 1))\n",
    "\n",
    "        for i in range(1, n+1):\n",
    "            x_new[i-1][0] = (b[i-1][0]- sum([A[i-1][j-1]*x_new[j-1][0] for j in range(1, i)]) - sum([A[i-1][j-1]*x_old[j-1][0] for j in range(i+1, n+1)]))/A[i-1, i-1]\n",
    "            R = np.linalg.norm(x_new - x_old)/np.linalg.norm(x_new)\n",
    "        historico_R.append(R)\n",
    "        count += 1\n",
    "\n",
    "    return x_new, historico_R, count"
   ]
  },
  {
   "cell_type": "markdown",
   "id": "12375c08",
   "metadata": {},
   "source": [
    "#### Exemplo:"
   ]
  },
  {
   "cell_type": "code",
   "execution_count": 22,
   "id": "02ad9417",
   "metadata": {},
   "outputs": [
    {
     "name": "stdout",
     "output_type": "stream",
     "text": [
      "Matriz A:\n",
      "[[ 3 -1 -1]\n",
      " [-1  3 -1]\n",
      " [-1 -1  3]]\n"
     ]
    }
   ],
   "source": [
    "A = np.array([\n",
    "    [3, -1, -1],\n",
    "    [-1, 3, -1],\n",
    "    [-1, -1, 3]\n",
    "])\n",
    "\n",
    "print(\"Matriz A:\")\n",
    "print(A)"
   ]
  },
  {
   "cell_type": "code",
   "execution_count": 23,
   "id": "8ddd7233",
   "metadata": {},
   "outputs": [
    {
     "name": "stdout",
     "output_type": "stream",
     "text": [
      "Vetor B:\n",
      "[[1]\n",
      " [2]\n",
      " [1]]\n"
     ]
    }
   ],
   "source": [
    "b = np.array([[1], [2], [1]])\n",
    "\n",
    "print(\"Vetor B:\")\n",
    "print(b)"
   ]
  },
  {
   "cell_type": "code",
   "execution_count": 24,
   "id": "23431cd0",
   "metadata": {},
   "outputs": [
    {
     "name": "stdout",
     "output_type": "stream",
     "text": [
      "Vetor X:\n",
      "[[1.25]\n",
      " [1.5 ]\n",
      " [1.25]]\n"
     ]
    }
   ],
   "source": [
    "x, erros, iteracoes = resolve_gauss_seidel(A, b, tol=10**-10)\n",
    "\n",
    "print(\"Vetor X:\")\n",
    "print(x)"
   ]
  },
  {
   "cell_type": "code",
   "execution_count": 25,
   "id": "ac38b042",
   "metadata": {},
   "outputs": [
    {
     "name": "stdout",
     "output_type": "stream",
     "text": [
      "Número de iterações: 28\n"
     ]
    }
   ],
   "source": [
    "print(f\"Número de iterações: {iteracoes}\")"
   ]
  },
  {
   "cell_type": "code",
   "execution_count": 26,
   "id": "7a9e305e",
   "metadata": {},
   "outputs": [
    {
     "name": "stdout",
     "output_type": "stream",
     "text": [
      "Histórico de erros: [1.75411604e-01 8.65015332e-02 3.45549178e-02 1.56294729e-02\n",
      " 7.00073680e-03 3.15806131e-03 1.42616171e-03 6.44606650e-04\n",
      " 2.91448250e-04 1.31794450e-04 5.96023000e-05 2.69552100e-05\n",
      " 1.21907000e-05 5.51337000e-06 2.49349000e-06 1.12771000e-06\n",
      " 5.10020000e-07 2.30660000e-07 1.04320000e-07 4.71800000e-08\n",
      " 2.13400000e-08 9.65000000e-09 4.36000000e-09 1.97000000e-09\n",
      " 8.90000000e-10 4.00000000e-10 1.80000000e-10 8.00000000e-11]\n"
     ]
    }
   ],
   "source": [
    "print(f\"Histórico de erros: {np.round(erros, 11)}\")"
   ]
  },
  {
   "cell_type": "markdown",
   "id": "be65c8ca",
   "metadata": {},
   "source": [
    "<hr>\n",
    "\n",
    "### Método da Potência"
   ]
  },
  {
   "cell_type": "code",
   "execution_count": 27,
   "id": "4044ce14",
   "metadata": {},
   "outputs": [],
   "source": [
    "def power_method_eigen(A, tol=10**-10):\n",
    "    n = A.shape[0]\n",
    "    R = np.inf\n",
    "    \n",
    "    x_new = np.ones((n, 1))\n",
    "    lambda_new = x_new[0][0]\n",
    "\n",
    "    count = 0\n",
    "    historico_R = []\n",
    "\n",
    "    while (R > tol):\n",
    "        lambda_old = lambda_new\n",
    "        y = np.matmul(A, x_new)\n",
    "        lambda_new = y[0][0]\n",
    "        x_new = y/lambda_new\n",
    "        \n",
    "        R = np.abs(lambda_new-lambda_old)/np.abs(lambda_new)\n",
    "        count += 1\n",
    "        historico_R.append(R)\n",
    "    return lambda_new, x_new, historico_R, count"
   ]
  },
  {
   "cell_type": "markdown",
   "id": "4e61242d",
   "metadata": {},
   "source": [
    "#### Exemplo:"
   ]
  },
  {
   "cell_type": "code",
   "execution_count": 28,
   "id": "8a41c3ac",
   "metadata": {},
   "outputs": [
    {
     "name": "stdout",
     "output_type": "stream",
     "text": [
      "Matriz A:\n",
      "[[1.  0.2 0. ]\n",
      " [0.2 1.  0.5]\n",
      " [0.  0.5 1. ]]\n"
     ]
    }
   ],
   "source": [
    "A = np.array([\n",
    "    [1, 0.2, 0],\n",
    "    [0.2, 1, 0.5],\n",
    "    [0, 0.5, 1]\n",
    "])\n",
    "\n",
    "print(\"Matriz A:\")\n",
    "print(A)"
   ]
  },
  {
   "cell_type": "code",
   "execution_count": 29,
   "id": "dc286f3a",
   "metadata": {},
   "outputs": [],
   "source": [
    "autovalor, autovetor, erros, iteracoes = power_method_eigen(A, tol=10**-10)"
   ]
  },
  {
   "cell_type": "code",
   "execution_count": 30,
   "id": "719b978f",
   "metadata": {},
   "outputs": [
    {
     "name": "stdout",
     "output_type": "stream",
     "text": [
      "Maior autovalor: 1.5385164805263052\n",
      "Autovetor associado:\n",
      "[[1.       ]\n",
      " [2.6925824]\n",
      " [2.5      ]]\n"
     ]
    }
   ],
   "source": [
    "print(f\"Maior autovalor: {autovalor}\")\n",
    "print(\"Autovetor associado:\")\n",
    "print(autovetor)"
   ]
  },
  {
   "cell_type": "code",
   "execution_count": 31,
   "id": "95a2a2a4",
   "metadata": {},
   "outputs": [
    {
     "name": "stdout",
     "output_type": "stream",
     "text": [
      "Número de iterações: 52\n"
     ]
    }
   ],
   "source": [
    "print(f\"Número de iterações: {iteracoes}\")"
   ]
  },
  {
   "cell_type": "code",
   "execution_count": 32,
   "id": "aa82ac65",
   "metadata": {},
   "outputs": [
    {
     "name": "stdout",
     "output_type": "stream",
     "text": [
      "Histórico de erros: [1.66666667e-01 6.49350649e-02 4.89252486e-02 3.73032173e-02\n",
      " 2.79570165e-02 2.03453453e-02 1.43759053e-02 9.91241077e-03\n",
      " 6.70967795e-03 4.48217021e-03 2.96693534e-03 1.95182844e-03\n",
      " 1.27873651e-03 8.35473960e-04 5.44883150e-04 3.54945550e-04\n",
      " 2.31039050e-04 1.50310960e-04 9.77582900e-05 6.35658500e-05\n",
      " 4.13270000e-05 2.68661000e-05 1.74642500e-05 1.13521600e-05\n",
      " 7.37898000e-06 4.79631000e-06 3.11755000e-06 2.02636000e-06\n",
      " 1.31710000e-06 8.56090000e-07 5.56440000e-07 3.61670000e-07\n",
      " 2.35080000e-07 1.52800000e-07 9.93100000e-08 6.45500000e-08\n",
      " 4.19600000e-08 2.72700000e-08 1.77300000e-08 1.15200000e-08\n",
      " 7.49000000e-09 4.87000000e-09 3.16000000e-09 2.06000000e-09\n",
      " 1.34000000e-09 8.70000000e-10 5.60000000e-10 3.70000000e-10\n",
      " 2.40000000e-10 1.60000000e-10 1.00000000e-10 7.00000000e-11]\n"
     ]
    }
   ],
   "source": [
    "print(f\"Histórico de erros: {np.round(erros, 11)}\")"
   ]
  },
  {
   "cell_type": "markdown",
   "id": "4c7f84a6",
   "metadata": {},
   "source": [
    "<hr>\n",
    "\n",
    "### Método de Jacobi"
   ]
  },
  {
   "cell_type": "code",
   "execution_count": 33,
   "id": "bc1bac67",
   "metadata": {},
   "outputs": [],
   "source": [
    "def indices_maximo_valor(A):\n",
    "    n = A.shape[0]\n",
    "    \n",
    "    max_valor = np.NINF\n",
    "    p, q = (np.nan, np.nan)\n",
    "    \n",
    "    \n",
    "    for i in range(1, n+1):\n",
    "        for j in range(i+1, n+1):\n",
    "            if np.abs(A[i-1][j-1]) > max_valor:\n",
    "                max_valor = np.abs(A[i-1][j-1])\n",
    "                p, q = i, j\n",
    "    \n",
    "    return p, q\n",
    "\n",
    "def calcula_phi(A, p, q):\n",
    "    if A[p-1][p-1] == A[q-1][q-1]:\n",
    "        phi = np.pi/4\n",
    "    else:\n",
    "        phi = np.arctan(2*A[p-1][q-1]/(A[p-1][p-1]-A[q-1][q-1]))/2\n",
    "    return phi\n",
    "\n",
    "def cria_matriz_p(phi, n, p, q):\n",
    "    P = np.eye(n, n)\n",
    "    \n",
    "    P[p-1][p-1] = np.cos(phi)\n",
    "    P[p-1][q-1] = -np.sin(phi)\n",
    "    P[q-1][p-1] = np.sin(phi)\n",
    "    P[q-1][q-1] = np.cos(phi)\n",
    "    \n",
    "    return P\n",
    "\n",
    "def checar_tol(A, tol):\n",
    "    return np.all([np.abs(A[i-1][j-1]) < tol for i in range(1, A.shape[0]+1) for j in range(1, A.shape[0]+1) if i != j])\n",
    "\n",
    "def jacob_eigen(A, tol=10**-10):\n",
    "    \n",
    "    if not verificar_simetria(A):\n",
    "        raise Exception(\"Matriz A não é simétrica.\")\n",
    "    \n",
    "    n = A.shape[0]\n",
    "    \n",
    "    X = np.eye(*A.shape)\n",
    "    count = 0\n",
    "    while True:\n",
    "        p, q = indices_maximo_valor(A)\n",
    "        phi = calcula_phi(A, p, q)\n",
    "        P = cria_matriz_p(phi, n, p, q)\n",
    "        \n",
    "        A = np.matmul(P.T, A)\n",
    "        A = np.matmul(A, P)\n",
    "        \n",
    "        X = np.matmul(X, P)\n",
    "        count += 1\n",
    "        \n",
    "        if checar_tol(A, tol):\n",
    "            return np.diagonal(A), X, count"
   ]
  },
  {
   "cell_type": "markdown",
   "id": "cdec2b5d",
   "metadata": {},
   "source": [
    "#### Exemplo:"
   ]
  },
  {
   "cell_type": "code",
   "execution_count": 34,
   "id": "59563f01",
   "metadata": {},
   "outputs": [
    {
     "name": "stdout",
     "output_type": "stream",
     "text": [
      "Matriz A:\n",
      "[[1.  0.2 0. ]\n",
      " [0.2 1.  0.5]\n",
      " [0.  0.5 1. ]]\n"
     ]
    }
   ],
   "source": [
    "A = np.array([\n",
    "    [1, 0.2, 0],\n",
    "    [0.2, 1, 0.5],\n",
    "    [0, 0.5, 1]\n",
    "])\n",
    "\n",
    "print(\"Matriz A:\")\n",
    "print(A)"
   ]
  },
  {
   "cell_type": "code",
   "execution_count": 35,
   "id": "a801ab01",
   "metadata": {},
   "outputs": [],
   "source": [
    "A_, X, iteracoes = jacob_eigen(A)"
   ]
  },
  {
   "cell_type": "code",
   "execution_count": 36,
   "id": "408b7ee0",
   "metadata": {},
   "outputs": [
    {
     "name": "stdout",
     "output_type": "stream",
     "text": [
      "Autovalor 1: 0.9999999999999999\n",
      "Autovetor 1:\n",
      "[[ 9.28476691e-01]\n",
      " [-2.02884663e-14]\n",
      " [-3.71390676e-01]]\n",
      "\n",
      "\n",
      "Autovalor 2: 1.53851648071345\n",
      "Autovetor 2:\n",
      "[[0.26261287]\n",
      " [0.70710678]\n",
      " [0.65653216]]\n",
      "\n",
      "\n",
      "Autovalor 3: 0.46148351928654946\n",
      "Autovetor 3:\n",
      "[[ 0.26261287]\n",
      " [-0.70710678]\n",
      " [ 0.65653216]]\n",
      "\n",
      "\n"
     ]
    }
   ],
   "source": [
    "for i in range(len(A_)):\n",
    "    print(f\"Autovalor {i+1}: {A_[i]}\")\n",
    "    print(f\"Autovetor {i+1}:\")\n",
    "    print(X[:, i].reshape(-1, 1))\n",
    "    print(\"\\n\")"
   ]
  },
  {
   "cell_type": "code",
   "execution_count": 37,
   "id": "188009c7",
   "metadata": {},
   "outputs": [
    {
     "name": "stdout",
     "output_type": "stream",
     "text": [
      "Número de iterações: 8\n"
     ]
    }
   ],
   "source": [
    "print(f\"Número de iterações: {iteracoes}\")"
   ]
  },
  {
   "cell_type": "markdown",
   "id": "201b268c",
   "metadata": {},
   "source": [
    "<hr>\n",
    "\n",
    "### Interpolação"
   ]
  },
  {
   "cell_type": "code",
   "execution_count": 38,
   "id": "b7e38fa1",
   "metadata": {},
   "outputs": [],
   "source": [
    "def calcula_phi(x_arr, i, n, x):\n",
    "    \n",
    "    numerator = 1\n",
    "    denominator = 1\n",
    "    \n",
    "    for k in range(1, n+1):\n",
    "        if k != i:\n",
    "            numerator *= (x-x_arr[k-1][0])\n",
    "            denominator *= (x_arr[i-1][0] - x_arr[k-1][0])\n",
    "            \n",
    "    return numerator/denominator\n",
    "\n",
    "def interpolacao_lagrange(x_arr, y_arr):\n",
    "    x = Symbol('x')\n",
    "\n",
    "    n = x_arr.shape[0]\n",
    "    phi_arr = np.zeros(n, dtype=\"object\")\n",
    "    fn = 0\n",
    "    \n",
    "    for i in range(1, n+1):\n",
    "        phi_arr[i-1] = calcula_phi(x_arr, i, n, x)\n",
    "        fn += phi_arr[i-1]*y_arr[i-1][0]\n",
    "        \n",
    "    return (fn, lambda x_value: float(fn.subs(x, x_value)))"
   ]
  },
  {
   "cell_type": "markdown",
   "id": "424850f1",
   "metadata": {},
   "source": [
    "#### Exemplo:"
   ]
  },
  {
   "cell_type": "code",
   "execution_count": 39,
   "id": "ad18772e",
   "metadata": {},
   "outputs": [
    {
     "name": "stdout",
     "output_type": "stream",
     "text": [
      "Vetor X:\n",
      "[[-2]\n",
      " [ 0]\n",
      " [ 1]]\n"
     ]
    }
   ],
   "source": [
    "x_arr = np.array([[-2], [0], [1]])\n",
    "print(\"Vetor X:\")\n",
    "print(x_arr)"
   ]
  },
  {
   "cell_type": "code",
   "execution_count": 40,
   "id": "f7d587ee",
   "metadata": {},
   "outputs": [
    {
     "name": "stdout",
     "output_type": "stream",
     "text": [
      "Vetor Y:\n",
      "[[-27]\n",
      " [ -1]\n",
      " [  0]]\n"
     ]
    }
   ],
   "source": [
    "y_arr = np.array([[-27], [-1], [0]])\n",
    "print(\"Vetor Y:\")\n",
    "print(y_arr)"
   ]
  },
  {
   "cell_type": "code",
   "execution_count": 41,
   "id": "12a0e3c7",
   "metadata": {},
   "outputs": [],
   "source": [
    "expr, lagrange = interpolacao_lagrange(x_arr, y_arr)"
   ]
  },
  {
   "cell_type": "code",
   "execution_count": 42,
   "id": "c84997e0",
   "metadata": {},
   "outputs": [
    {
     "name": "stdout",
     "output_type": "stream",
     "text": [
      "Função encontrada:\n"
     ]
    },
    {
     "data": {
      "text/latex": [
       "$\\displaystyle - \\frac{9 x \\left(x - 1\\right)}{2} + \\frac{\\left(x - 1\\right) \\left(x + 2\\right)}{2}$"
      ],
      "text/plain": [
       "-9*x*(x - 1)/2 + (x - 1)*(x + 2)/2"
      ]
     },
     "metadata": {},
     "output_type": "display_data"
    }
   ],
   "source": [
    "print(\"Função encontrada:\")\n",
    "display(expr)"
   ]
  },
  {
   "cell_type": "code",
   "execution_count": 43,
   "id": "adf2b4b4",
   "metadata": {},
   "outputs": [
    {
     "name": "stdout",
     "output_type": "stream",
     "text": [
      "f(-2) = -27.0\n"
     ]
    }
   ],
   "source": [
    "new_x = -2\n",
    "new_y = lagrange(new_x)\n",
    "\n",
    "print(f\"f({new_x}) = {new_y}\")"
   ]
  },
  {
   "cell_type": "markdown",
   "id": "c8b7723d",
   "metadata": {},
   "source": [
    "<hr>\n",
    "\n",
    "### Regressão"
   ]
  },
  {
   "cell_type": "code",
   "execution_count": 44,
   "id": "c786912e",
   "metadata": {},
   "outputs": [],
   "source": [
    "def regressao_multilinear(x_arr, y_arr, grau=1):\n",
    "    x = Symbol('x')\n",
    "    \n",
    "    n = x_arr.shape[0]\n",
    "    \n",
    "    P = np.empty((n, grau+1))\n",
    "\n",
    "    for i in range(grau+1):\n",
    "        P[:, i] =  np.power(x_arr.ravel(), i)\n",
    "    \n",
    "    A = np.matmul(P.T, P)\n",
    "    C = np.matmul(P.T, y_arr)\n",
    "    b = np.round(np.matmul(np.linalg.inv(A), C), 3)\n",
    "    \n",
    "    fn = 0\n",
    "    for i in range(b.shape[0]):\n",
    "        fn += x ** i * b[i][0]\n",
    "    \n",
    "    return (fn, lambda x_value: float(fn.subs(x, x_value)))"
   ]
  },
  {
   "cell_type": "markdown",
   "id": "fb6314e1",
   "metadata": {},
   "source": [
    "#### Exemplo:"
   ]
  },
  {
   "cell_type": "code",
   "execution_count": 45,
   "id": "5e48a9d2",
   "metadata": {},
   "outputs": [
    {
     "name": "stdout",
     "output_type": "stream",
     "text": [
      "Vetor X:\n",
      "[[1]\n",
      " [2]\n",
      " [3]]\n"
     ]
    }
   ],
   "source": [
    "x_arr = np.array([[1], [2], [3]])\n",
    "print(\"Vetor X:\")\n",
    "print(x_arr)"
   ]
  },
  {
   "cell_type": "code",
   "execution_count": 46,
   "id": "a56bf0f7",
   "metadata": {},
   "outputs": [
    {
     "name": "stdout",
     "output_type": "stream",
     "text": [
      "Vetor Y:\n",
      "[[2. ]\n",
      " [3.5]\n",
      " [6.5]]\n"
     ]
    }
   ],
   "source": [
    "y_arr = np.array([[2], [3.5], [6.5]])\n",
    "print(\"Vetor Y:\")\n",
    "print(y_arr)"
   ]
  },
  {
   "cell_type": "code",
   "execution_count": 47,
   "id": "1c53bce4",
   "metadata": {},
   "outputs": [
    {
     "name": "stdout",
     "output_type": "stream",
     "text": [
      "Regressão de Grau 1\n"
     ]
    }
   ],
   "source": [
    "grau = 1\n",
    "print(f\"Regressão de Grau {grau}\")"
   ]
  },
  {
   "cell_type": "code",
   "execution_count": 48,
   "id": "d385d5f4",
   "metadata": {},
   "outputs": [],
   "source": [
    "expr, regressao = regressao_multilinear(x_arr, y_arr, grau=grau)"
   ]
  },
  {
   "cell_type": "code",
   "execution_count": 49,
   "id": "4c2835a2",
   "metadata": {},
   "outputs": [
    {
     "name": "stdout",
     "output_type": "stream",
     "text": [
      "Função encontrada:\n"
     ]
    },
    {
     "data": {
      "text/latex": [
       "$\\displaystyle 2.25 x - 0.5$"
      ],
      "text/plain": [
       "2.25*x - 0.5"
      ]
     },
     "metadata": {},
     "output_type": "display_data"
    }
   ],
   "source": [
    "print(\"Função encontrada:\")\n",
    "display(expr)"
   ]
  },
  {
   "cell_type": "code",
   "execution_count": 50,
   "id": "ab6b566f",
   "metadata": {},
   "outputs": [
    {
     "name": "stdout",
     "output_type": "stream",
     "text": [
      "f(-2) = -5.0\n"
     ]
    }
   ],
   "source": [
    "new_x = -2\n",
    "new_y = regressao(new_x)\n",
    "\n",
    "print(f\"f({new_x}) = {new_y}\")"
   ]
  }
 ],
 "metadata": {
  "kernelspec": {
   "display_name": "Python 3",
   "language": "python",
   "name": "python3"
  },
  "language_info": {
   "codemirror_mode": {
    "name": "ipython",
    "version": 3
   },
   "file_extension": ".py",
   "mimetype": "text/x-python",
   "name": "python",
   "nbconvert_exporter": "python",
   "pygments_lexer": "ipython3",
   "version": "3.9.7"
  }
 },
 "nbformat": 4,
 "nbformat_minor": 5
}
