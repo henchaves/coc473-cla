{
 "cells": [
  {
   "cell_type": "markdown",
   "id": "b170ad0e",
   "metadata": {},
   "source": [
    "## COC473 - Trabalho 2 - 2021.1\n",
    "### Aluno: Henrique Chaves Magalhães de Menezes\n",
    "### DRE: 119025571"
   ]
  },
  {
   "cell_type": "markdown",
   "id": "21061be5",
   "metadata": {},
   "source": [
    "<hr>\n",
    "\n",
    "## Manual do Usuário:\n",
    "\n",
    "<hr>"
   ]
  },
  {
   "cell_type": "markdown",
   "id": "3edcb350",
   "metadata": {},
   "source": [
    "Para acessar a aplicação, basta acessar o site https://alc-project-2.herokuapp.com/"
   ]
  },
  {
   "cell_type": "markdown",
   "id": "17d98cfc",
   "metadata": {},
   "source": [
    "A aplicação foi feita na linguagem Python, usando o framework Streamlit para criação da interface gráfica."
   ]
  },
  {
   "cell_type": "markdown",
   "id": "e3ce862b",
   "metadata": {},
   "source": [
    "Ao entrar na aplicação, basta navegar pelas implementações no menu localizado na direita."
   ]
  },
  {
   "cell_type": "markdown",
   "id": "681ca62f",
   "metadata": {},
   "source": [
    "<img src=\"img/pic_1.png\"/>"
   ]
  },
  {
   "cell_type": "markdown",
   "id": "770fa430",
   "metadata": {},
   "source": [
    "Selecionando a implementação, basta seguir as instruções, preenchendo os valores requisitados e podendo baixar o resultado quando estiver disponível."
   ]
  },
  {
   "cell_type": "markdown",
   "id": "45d00acf",
   "metadata": {},
   "source": [
    "<img src=\"img/pic_2.png\"/>"
   ]
  },
  {
   "cell_type": "markdown",
   "id": "c70ea667",
   "metadata": {},
   "source": [
    "Após preencher os valores necessários, se os dados estiverem de acordo com o solicitado, aparecerá um botão \"Calcular\". Sendo assim, aperte ele para executar o algoritmo da implementação."
   ]
  },
  {
   "cell_type": "markdown",
   "id": "340ca2c0",
   "metadata": {},
   "source": [
    "<img src=\"img/pic_3.png\"/>"
   ]
  },
  {
   "cell_type": "markdown",
   "id": "4b4afc50",
   "metadata": {},
   "source": [
    "Após isso, o aplicativo irá retornar os resultados na tela."
   ]
  },
  {
   "cell_type": "markdown",
   "id": "1b402d97",
   "metadata": {},
   "source": [
    "<img src=\"img/pic_4.png\"/>"
   ]
  },
  {
   "cell_type": "markdown",
   "id": "6ad0aff4",
   "metadata": {},
   "source": [
    "Qualquer outra dúvida, contatar henriquechaves@poli.ufrj.br"
   ]
  }
 ],
 "metadata": {
  "kernelspec": {
   "display_name": "Python 3",
   "language": "python",
   "name": "python3"
  },
  "language_info": {
   "codemirror_mode": {
    "name": "ipython",
    "version": 3
   },
   "file_extension": ".py",
   "mimetype": "text/x-python",
   "name": "python",
   "nbconvert_exporter": "python",
   "pygments_lexer": "ipython3",
   "version": "3.9.7"
  }
 },
 "nbformat": 4,
 "nbformat_minor": 5
}
