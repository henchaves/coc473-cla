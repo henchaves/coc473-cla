{
 "cells": [
  {
   "cell_type": "markdown",
   "id": "3175a801",
   "metadata": {},
   "source": [
    "## COC473 - Trabalho 1 - 2021.1\n",
    "### Aluno: Henrique Chaves Magalhães de Menezes\n",
    "### DRE: 119025571"
   ]
  },
  {
   "cell_type": "markdown",
   "id": "7bf810df",
   "metadata": {},
   "source": [
    "<hr>\n",
    "\n",
    "## Manual do Usuário:\n",
    "\n",
    "<hr>"
   ]
  },
  {
   "cell_type": "markdown",
   "id": "2b4b906c",
   "metadata": {},
   "source": [
    "Para acessar a aplicação, basta acessar o site https://alc-project-1.herokuapp.com/"
   ]
  },
  {
   "cell_type": "markdown",
   "id": "a971dbdd",
   "metadata": {},
   "source": [
    "A aplicação foi feita na linguagem Python, usando o framework Streamlit para criação da interface gráfica."
   ]
  },
  {
   "cell_type": "markdown",
   "id": "364cee71",
   "metadata": {},
   "source": [
    "Ao entrar na aplicação, basta navegar pelas implementações no menu localizado na direita."
   ]
  },
  {
   "cell_type": "markdown",
   "id": "7ff1ebce",
   "metadata": {},
   "source": [
    "<img src=\"img/pic_1.png\"/>"
   ]
  },
  {
   "cell_type": "markdown",
   "id": "9c7ec598",
   "metadata": {},
   "source": [
    "Selecionando a implementação, basta seguir as instruções, podendo baixar os exemplos de como deve ser o arquivo a ser enviado."
   ]
  },
  {
   "cell_type": "markdown",
   "id": "60483c72",
   "metadata": {},
   "source": [
    "<img src=\"img/pic_2.png\"/>"
   ]
  },
  {
   "cell_type": "markdown",
   "id": "d139d9fd",
   "metadata": {},
   "source": [
    "Após fazer upload dos arquivos necessários, se os arquivos estiverem de acordo com o solicitado, aparecerá um botão \"Calcular\". Sendo assim, aperte ele para executar o algoritmo da implementação."
   ]
  },
  {
   "cell_type": "markdown",
   "id": "5dd1eaa8",
   "metadata": {},
   "source": [
    "<img src=\"img/pic_3.png\"/>"
   ]
  },
  {
   "cell_type": "markdown",
   "id": "efa7fa80",
   "metadata": {},
   "source": [
    "Após isso, o aplicativo irá retornar os resultados na tela."
   ]
  },
  {
   "cell_type": "markdown",
   "id": "29025f17",
   "metadata": {},
   "source": [
    "<img src=\"img/pic_4.png\"/>"
   ]
  },
  {
   "cell_type": "markdown",
   "id": "f89a36cc",
   "metadata": {},
   "source": [
    "Qualquer outra dúvida, contatar henriquechaves@poli.ufrj.br"
   ]
  }
 ],
 "metadata": {
  "kernelspec": {
   "display_name": "Python 3",
   "language": "python",
   "name": "python3"
  },
  "language_info": {
   "codemirror_mode": {
    "name": "ipython",
    "version": 3
   },
   "file_extension": ".py",
   "mimetype": "text/x-python",
   "name": "python",
   "nbconvert_exporter": "python",
   "pygments_lexer": "ipython3",
   "version": "3.9.6"
  }
 },
 "nbformat": 4,
 "nbformat_minor": 5
}
