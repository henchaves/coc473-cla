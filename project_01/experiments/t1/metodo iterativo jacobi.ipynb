{
 "cells": [
  {
   "cell_type": "code",
   "execution_count": 1,
   "metadata": {},
   "outputs": [],
   "source": [
    "import numpy as np"
   ]
  },
  {
   "cell_type": "code",
   "execution_count": 2,
   "metadata": {},
   "outputs": [],
   "source": [
    "A = np.array([\n",
    "    [3, -1, -1],\n",
    "    [-1, 3, -1],\n",
    "    [-1, -1, 3]\n",
    "])"
   ]
  },
  {
   "cell_type": "code",
   "execution_count": 16,
   "metadata": {},
   "outputs": [
    {
     "data": {
      "text/plain": [
       "2.449489742783178"
      ]
     },
     "execution_count": 16,
     "metadata": {},
     "output_type": "execute_result"
    }
   ],
   "source": [
    "np.linalg.norm(b)"
   ]
  },
  {
   "cell_type": "code",
   "execution_count": 13,
   "metadata": {},
   "outputs": [],
   "source": [
    "b = np.array([1, 2, 1])\n",
    "b = b.reshape(-1, 1)"
   ]
  },
  {
   "cell_type": "code",
   "execution_count": null,
   "metadata": {},
   "outputs": [],
   "source": []
  },
  {
   "cell_type": "code",
   "execution_count": 14,
   "metadata": {},
   "outputs": [
    {
     "data": {
      "text/plain": [
       "array([[1.],\n",
       "       [1.],\n",
       "       [1.]])"
      ]
     },
     "execution_count": 14,
     "metadata": {},
     "output_type": "execute_result"
    }
   ],
   "source": [
    "np.ones(b.shape)"
   ]
  },
  {
   "cell_type": "code",
   "execution_count": null,
   "metadata": {},
   "outputs": [],
   "source": []
  },
  {
   "cell_type": "code",
   "execution_count": 41,
   "metadata": {},
   "outputs": [],
   "source": [
    "def resolve_jacobi(A, b, tol=10**-3):\n",
    "    \n",
    "    n = A.shape[0]\n",
    "    \n",
    "    R = np.inf\n",
    "    x_new = np.ones(b.shape)\n",
    "    \n",
    "    while (R > tol):\n",
    "        x_old = x_new\n",
    "        x_new = np.zeros(b.shape)\n",
    "        \n",
    "        for i in range(1, n+1):\n",
    "            x_new[i-1][0] = (b[i-1][0] - sum([A[i-1][j-1]*x_old[j-1][0] for j in range(1, n+1) if j is not i]))/A[i-1][i-1]\n",
    "            R = np.linalg.norm(x_new - x_old)/np.linalg.norm(x_new)\n",
    "            \n",
    "    return x_new\n",
    "        "
   ]
  },
  {
   "cell_type": "code",
   "execution_count": 46,
   "metadata": {},
   "outputs": [],
   "source": [
    "x = resolve_jacobi(A, b, tol=10**-3)"
   ]
  },
  {
   "cell_type": "code",
   "execution_count": 47,
   "metadata": {},
   "outputs": [
    {
     "data": {
      "text/plain": [
       "array([[1.24743104],\n",
       "       [1.49743057],\n",
       "       [1.24743104]])"
      ]
     },
     "execution_count": 47,
     "metadata": {},
     "output_type": "execute_result"
    }
   ],
   "source": [
    "x"
   ]
  },
  {
   "cell_type": "code",
   "execution_count": 48,
   "metadata": {},
   "outputs": [],
   "source": [
    "# Critério de convergência: A matriz A deve ser diagonal dominante"
   ]
  },
  {
   "cell_type": "code",
   "execution_count": 53,
   "metadata": {},
   "outputs": [],
   "source": [
    "def tem_diagonal_dominante(A):\n",
    "    D = np.diag(np.abs(A))\n",
    "    S = np.sum(np.abs(A), axis=1) - D\n",
    "    print(D)\n",
    "    print(S)\n",
    "    if np.all(D > S):\n",
    "        print(\"Matriz tem diagonal dominante\")\n",
    "    else:\n",
    "        print(\"Matriz não tem diagonal dominante\")"
   ]
  },
  {
   "cell_type": "code",
   "execution_count": 54,
   "metadata": {},
   "outputs": [
    {
     "name": "stdout",
     "output_type": "stream",
     "text": [
      "[3 3 3]\n",
      "[2 2 2]\n",
      "Matriz tem diagonal dominante\n"
     ]
    }
   ],
   "source": [
    "tem_diagonal_dominante(A)"
   ]
  },
  {
   "cell_type": "code",
   "execution_count": null,
   "metadata": {},
   "outputs": [],
   "source": []
  }
 ],
 "metadata": {
  "kernelspec": {
   "display_name": "Python 3",
   "language": "python",
   "name": "python3"
  },
  "language_info": {
   "codemirror_mode": {
    "name": "ipython",
    "version": 3
   },
   "file_extension": ".py",
   "mimetype": "text/x-python",
   "name": "python",
   "nbconvert_exporter": "python",
   "pygments_lexer": "ipython3",
   "version": "3.9.6"
  }
 },
 "nbformat": 4,
 "nbformat_minor": 4
}
