{
 "cells": [
  {
   "cell_type": "code",
   "execution_count": 1,
   "id": "8e00dc29",
   "metadata": {},
   "outputs": [],
   "source": [
    "#Decomposição LU\n",
    "#Decomposição de Cholesky\n",
    "#Procedimento iterativo de Jacobi\n",
    "#Procedimento iterativo de Gauss-Seidel"
   ]
  },
  {
   "cell_type": "code",
   "execution_count": 19,
   "id": "9f0f1254",
   "metadata": {},
   "outputs": [],
   "source": [
    "import numpy as np\n",
    "from scipy import linalg"
   ]
  },
  {
   "cell_type": "code",
   "execution_count": 20,
   "id": "3f962eb5",
   "metadata": {},
   "outputs": [],
   "source": [
    "A = np.array([[1, 2, 2],\n",
    "              [4, 4, 2],\n",
    "              [4, 6, 4]])"
   ]
  },
  {
   "cell_type": "code",
   "execution_count": 21,
   "id": "397a0d6d",
   "metadata": {},
   "outputs": [],
   "source": [
    "b = np.array([3, 6, 10]).reshape(-1, 1)"
   ]
  },
  {
   "cell_type": "code",
   "execution_count": 22,
   "id": "3dca1b5d",
   "metadata": {},
   "outputs": [],
   "source": [
    "def decomposicao_lu(A):\n",
    "    n = A.shape[0]\n",
    "\n",
    "    L = np.eye(n, dtype=np.double)\n",
    "    \n",
    "    for i in range(n):\n",
    "        factor = A[i+1:, i]/A[i, i]\n",
    "        L[i+1:, i] = factor\n",
    "        A[i+1:] = A[i+1:] - factor[:, np.newaxis] * A[i]\n",
    "    \n",
    "    return L, A"
   ]
  },
  {
   "cell_type": "code",
   "execution_count": 23,
   "id": "f86c1dfe",
   "metadata": {},
   "outputs": [],
   "source": [
    "L, U = decomposicao_lu(A)"
   ]
  },
  {
   "cell_type": "code",
   "execution_count": 24,
   "id": "056c5380",
   "metadata": {},
   "outputs": [
    {
     "name": "stdout",
     "output_type": "stream",
     "text": [
      "L:\n"
     ]
    },
    {
     "data": {
      "text/plain": [
       "array([[1. , 0. , 0. ],\n",
       "       [4. , 1. , 0. ],\n",
       "       [4. , 0.5, 1. ]])"
      ]
     },
     "metadata": {},
     "output_type": "display_data"
    },
    {
     "name": "stdout",
     "output_type": "stream",
     "text": [
      "\n",
      "----\n",
      "\n",
      "U:\n"
     ]
    },
    {
     "data": {
      "text/plain": [
       "array([[ 1,  2,  2],\n",
       "       [ 0, -4, -6],\n",
       "       [ 0,  0, -1]])"
      ]
     },
     "metadata": {},
     "output_type": "display_data"
    }
   ],
   "source": [
    "print(\"L:\")\n",
    "display(L)\n",
    "print(\"\\n----\\n\")\n",
    "print(\"U:\")\n",
    "display(U)"
   ]
  },
  {
   "cell_type": "code",
   "execution_count": 32,
   "id": "48e53369",
   "metadata": {},
   "outputs": [],
   "source": [
    "def resolve_lu(L, U, b):\n",
    "    n = b.shape[0]\n",
    "    y = np.zeros((n,1))\n",
    "    x = np.zeros((n,1))\n",
    "    \n",
    "    y[0][0] = b[0][0]/L[0, 0]\n",
    "    \n",
    "    for i in range(2, n+1):\n",
    "        y[i-1][0] = (b[i-1][0] - sum(L[i-1, j-1]*y[j-1][0] for j in range(1, i)))/L[i-1, i-1]\n",
    "\n",
    "    \n",
    "    x[n-1][0] = y[n-1][0]/U[n-1, n-1]\n",
    "    \n",
    "    for i in reversed(range(1, n)):\n",
    "        x[i-1][0] = (y[i-1][0] - sum(U[i-1, j-1]*x[j-1][0] for j in range(i+1, n+1)))/U[i-1, i-1] \n",
    "\n",
    "    \n",
    "    return x"
   ]
  },
  {
   "cell_type": "code",
   "execution_count": 33,
   "id": "d01f7e64",
   "metadata": {},
   "outputs": [],
   "source": [
    "x = resolve_lu(L, U, b)"
   ]
  },
  {
   "cell_type": "code",
   "execution_count": 34,
   "id": "cc08e759",
   "metadata": {},
   "outputs": [
    {
     "data": {
      "text/plain": [
       "array([[-1.],\n",
       "       [ 3.],\n",
       "       [-1.]])"
      ]
     },
     "execution_count": 34,
     "metadata": {},
     "output_type": "execute_result"
    }
   ],
   "source": [
    "x"
   ]
  },
  {
   "cell_type": "code",
   "execution_count": 19,
   "id": "b6bafb5f",
   "metadata": {},
   "outputs": [
    {
     "data": {
      "text/plain": [
       "array([10.,  6., -2.])"
      ]
     },
     "execution_count": 19,
     "metadata": {},
     "output_type": "execute_result"
    }
   ],
   "source": [
    "x"
   ]
  },
  {
   "cell_type": "code",
   "execution_count": null,
   "id": "7647d1d9",
   "metadata": {},
   "outputs": [],
   "source": [
    "A_new"
   ]
  },
  {
   "cell_type": "code",
   "execution_count": null,
   "id": "3aabc90f",
   "metadata": {},
   "outputs": [],
   "source": [
    "L"
   ]
  },
  {
   "cell_type": "code",
   "execution_count": null,
   "id": "80fba736",
   "metadata": {},
   "outputs": [],
   "source": [
    "U"
   ]
  },
  {
   "cell_type": "code",
   "execution_count": null,
   "id": "b5217e56",
   "metadata": {},
   "outputs": [],
   "source": [
    "np.zeros((4, 4))"
   ]
  },
  {
   "cell_type": "code",
   "execution_count": null,
   "id": "201f2da8",
   "metadata": {},
   "outputs": [],
   "source": [
    "i, j = A.shape"
   ]
  },
  {
   "cell_type": "code",
   "execution_count": null,
   "id": "3b640a8b",
   "metadata": {},
   "outputs": [],
   "source": [
    "j"
   ]
  },
  {
   "cell_type": "code",
   "execution_count": 2,
   "id": "bb0ac03c",
   "metadata": {},
   "outputs": [],
   "source": [
    "import pandas as pd"
   ]
  },
  {
   "cell_type": "code",
   "execution_count": 26,
   "id": "ab8beee7",
   "metadata": {},
   "outputs": [],
   "source": [
    "df = pd.read_table(\"../src/matrix_A_sample.txt\", header=None,sep=\" \")"
   ]
  },
  {
   "cell_type": "code",
   "execution_count": 27,
   "id": "b449f082",
   "metadata": {},
   "outputs": [
    {
     "data": {
      "text/plain": [
       "array([[1, 2, 2],\n",
       "       [4, 4, 2],\n",
       "       [4, 6, 4]])"
      ]
     },
     "execution_count": 27,
     "metadata": {},
     "output_type": "execute_result"
    }
   ],
   "source": [
    "df.to_numpy()"
   ]
  },
  {
   "cell_type": "code",
   "execution_count": 32,
   "id": "84472767",
   "metadata": {},
   "outputs": [],
   "source": [
    "with open('../src/matrix_A_sample.txt', 'r') as f:\n",
    "    a = f.read()"
   ]
  },
  {
   "cell_type": "code",
   "execution_count": 34,
   "id": "a7b88614",
   "metadata": {},
   "outputs": [
    {
     "data": {
      "text/plain": [
       "b'1 2 2\\n4 4 2\\n4 6 4'"
      ]
     },
     "execution_count": 34,
     "metadata": {},
     "output_type": "execute_result"
    }
   ],
   "source": [
    "a.encode()"
   ]
  },
  {
   "cell_type": "code",
   "execution_count": 8,
   "id": "b3fd4c2d",
   "metadata": {},
   "outputs": [],
   "source": [
    "latex_string = r\"\"\"\"\"\""
   ]
  },
  {
   "cell_type": "code",
   "execution_count": 9,
   "id": "5385195d",
   "metadata": {},
   "outputs": [],
   "source": [
    "latex_string += \"a\""
   ]
  },
  {
   "cell_type": "code",
   "execution_count": 5,
   "id": "32e98e39",
   "metadata": {},
   "outputs": [
    {
     "ename": "AttributeError",
     "evalue": "'str' object has no attribute 'append'",
     "output_type": "error",
     "traceback": [
      "\u001b[0;31m---------------------------------------------------------------------------\u001b[0m",
      "\u001b[0;31mAttributeError\u001b[0m                            Traceback (most recent call last)",
      "\u001b[0;32m<ipython-input-5-d146208eea92>\u001b[0m in \u001b[0;36m<module>\u001b[0;34m\u001b[0m\n\u001b[0;32m----> 1\u001b[0;31m \u001b[0mlatex_string\u001b[0m\u001b[0;34m.\u001b[0m\u001b[0mappend\u001b[0m\u001b[0;34m(\u001b[0m\u001b[0;34m\"a\"\u001b[0m\u001b[0;34m)\u001b[0m\u001b[0;34m\u001b[0m\u001b[0;34m\u001b[0m\u001b[0m\n\u001b[0m",
      "\u001b[0;31mAttributeError\u001b[0m: 'str' object has no attribute 'append'"
     ]
    }
   ],
   "source": [
    "latex_string.append(\"a\")"
   ]
  },
  {
   "cell_type": "code",
   "execution_count": 10,
   "id": "9529ff29",
   "metadata": {},
   "outputs": [
    {
     "data": {
      "text/plain": [
       "'a'"
      ]
     },
     "execution_count": 10,
     "metadata": {},
     "output_type": "execute_result"
    }
   ],
   "source": [
    "latex_string"
   ]
  }
 ],
 "metadata": {
  "kernelspec": {
   "display_name": "Python 3",
   "language": "python",
   "name": "python3"
  },
  "language_info": {
   "codemirror_mode": {
    "name": "ipython",
    "version": 3
   },
   "file_extension": ".py",
   "mimetype": "text/x-python",
   "name": "python",
   "nbconvert_exporter": "python",
   "pygments_lexer": "ipython3",
   "version": "3.9.6"
  }
 },
 "nbformat": 4,
 "nbformat_minor": 5
}
