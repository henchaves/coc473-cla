{
 "cells": [
  {
   "cell_type": "code",
   "execution_count": 1,
   "metadata": {},
   "outputs": [],
   "source": [
    "import numpy as np"
   ]
  },
  {
   "cell_type": "code",
   "execution_count": 2,
   "metadata": {},
   "outputs": [],
   "source": [
    "import pandas as pd"
   ]
  },
  {
   "cell_type": "code",
   "execution_count": 36,
   "metadata": {},
   "outputs": [
    {
     "data": {
      "text/plain": [
       "True"
      ]
     },
     "execution_count": 36,
     "metadata": {},
     "output_type": "execute_result"
    }
   ],
   "source": [
    "np.all(A)"
   ]
  },
  {
   "cell_type": "code",
   "execution_count": 41,
   "metadata": {},
   "outputs": [
    {
     "data": {
      "text/plain": [
       "True"
      ]
     },
     "execution_count": 41,
     "metadata": {},
     "output_type": "execute_result"
    }
   ],
   "source": []
  },
  {
   "cell_type": "code",
   "execution_count": 37,
   "metadata": {},
   "outputs": [],
   "source": [
    "A = np.array([\n",
    "    [3, -1, -1],\n",
    "    [-1, np.nan, -1],\n",
    "    [-1, -1, 3]\n",
    "])"
   ]
  },
  {
   "cell_type": "code",
   "execution_count": 42,
   "metadata": {},
   "outputs": [
    {
     "data": {
      "text/plain": [
       "array([[ 3., -1., -1.],\n",
       "       [-1., nan, -1.],\n",
       "       [-1., -1.,  3.]])"
      ]
     },
     "execution_count": 42,
     "metadata": {},
     "output_type": "execute_result"
    }
   ],
   "source": [
    "np.round(A, 3)"
   ]
  },
  {
   "cell_type": "code",
   "execution_count": 4,
   "metadata": {},
   "outputs": [],
   "source": [
    "b = np.array([1, 2, 1])\n",
    "b = b.reshape(-1, 1)"
   ]
  },
  {
   "cell_type": "code",
   "execution_count": 14,
   "metadata": {},
   "outputs": [
    {
     "data": {
      "text/plain": [
       "16.000000000000007"
      ]
     },
     "execution_count": 14,
     "metadata": {},
     "output_type": "execute_result"
    }
   ],
   "source": [
    "np.linalg.det(A)"
   ]
  },
  {
   "cell_type": "code",
   "execution_count": 9,
   "metadata": {},
   "outputs": [
    {
     "data": {
      "text/plain": [
       "array([[ 3, -1, -1],\n",
       "       [-1,  3, -1],\n",
       "       [-1, -1,  3]])"
      ]
     },
     "execution_count": 9,
     "metadata": {},
     "output_type": "execute_result"
    }
   ],
   "source": [
    "A"
   ]
  },
  {
   "cell_type": "code",
   "execution_count": 8,
   "metadata": {},
   "outputs": [
    {
     "data": {
      "text/plain": [
       "array([[1],\n",
       "       [2],\n",
       "       [1]])"
      ]
     },
     "execution_count": 8,
     "metadata": {},
     "output_type": "execute_result"
    }
   ],
   "source": [
    "b"
   ]
  },
  {
   "cell_type": "code",
   "execution_count": 10,
   "metadata": {},
   "outputs": [],
   "source": [
    "def tem_diagonal_dominante(A):\n",
    "    D = np.diag(np.abs(A))\n",
    "    S = np.sum(np.abs(A), axis=1) - D\n",
    "    if np.all(D > S):\n",
    "        return True\n",
    "    else:\n",
    "        return False"
   ]
  },
  {
   "cell_type": "code",
   "execution_count": 11,
   "metadata": {},
   "outputs": [],
   "source": [
    "def resolve_gauss_seidel(A, b, tol=10**-13):\n",
    "    if not tem_diagonal_dominante(A):\n",
    "        raise Exception(\"Matriz A não tem diagonal dominante.\")\n",
    "    \n",
    "    n = A.shape[0]\n",
    "    \n",
    "    R = np.inf\n",
    "    x_new = np.ones(b.shape)\n",
    "    while (R > tol):\n",
    "        x_old = x_new\n",
    "        x_new = np.zeros(b.shape)\n",
    "        \n",
    "        for i in range(1, n+1):\n",
    "            x_new[i-1][0] = (b[i-1][0]- sum([A[i-1][j-1]*x_new[j-1][0] for j in range(1, i)]) - sum([A[i-1][j-1]*x_old[j-1][0] for j in range(i+1, n+1)]))/A[i-1, i-1]\n",
    "            R = np.linalg.norm(x_new - x_old)/np.linalg.norm(x_new)\n",
    "            \n",
    "    return x_new"
   ]
  },
  {
   "cell_type": "code",
   "execution_count": 12,
   "metadata": {},
   "outputs": [],
   "source": [
    "x = resolve_gauss_seidel(A, b, tol=10**-3)"
   ]
  },
  {
   "cell_type": "code",
   "execution_count": 13,
   "metadata": {},
   "outputs": [
    {
     "data": {
      "text/plain": [
       "array([[1.24911369],\n",
       "       [1.49931968],\n",
       "       [1.24947779]])"
      ]
     },
     "execution_count": 13,
     "metadata": {},
     "output_type": "execute_result"
    }
   ],
   "source": [
    "x"
   ]
  },
  {
   "cell_type": "code",
   "execution_count": 14,
   "metadata": {},
   "outputs": [],
   "source": [
    "#Convergência: Mesmas condições do método de Jacobi, porém, se a matriz for simétrica e positiva definida \n",
    "# a convergência é sempre garantida"
   ]
  },
  {
   "cell_type": "code",
   "execution_count": 17,
   "metadata": {},
   "outputs": [],
   "source": [
    "def verificar_simetria(A):\n",
    "    if (A == A.T).all():\n",
    "        print(\"Matriz é simétrica\")\n",
    "    else:\n",
    "        print(\"Matriz não é simétrica\")"
   ]
  },
  {
   "cell_type": "code",
   "execution_count": 18,
   "metadata": {},
   "outputs": [
    {
     "name": "stdout",
     "output_type": "stream",
     "text": [
      "Matriz é simétrica\n"
     ]
    }
   ],
   "source": [
    "verificar_simetria(A)"
   ]
  },
  {
   "cell_type": "code",
   "execution_count": 19,
   "metadata": {},
   "outputs": [],
   "source": [
    "def verificar_positiva_definida(A):\n",
    "    if np.all(np.linalg.eigvals(A) > 0):\n",
    "        print(\"Matriz é positiva definida\")\n",
    "    else:\n",
    "        print(\"Matriz não é positiva definida\")"
   ]
  },
  {
   "cell_type": "code",
   "execution_count": 20,
   "metadata": {},
   "outputs": [
    {
     "name": "stdout",
     "output_type": "stream",
     "text": [
      "Matriz é positiva definida\n"
     ]
    }
   ],
   "source": [
    "verificar_positiva_definida(A)"
   ]
  },
  {
   "cell_type": "code",
   "execution_count": null,
   "metadata": {},
   "outputs": [],
   "source": []
  }
 ],
 "metadata": {
  "kernelspec": {
   "display_name": "Python 3",
   "language": "python",
   "name": "python3"
  },
  "language_info": {
   "codemirror_mode": {
    "name": "ipython",
    "version": 3
   },
   "file_extension": ".py",
   "mimetype": "text/x-python",
   "name": "python",
   "nbconvert_exporter": "python",
   "pygments_lexer": "ipython3",
   "version": "3.9.6"
  }
 },
 "nbformat": 4,
 "nbformat_minor": 4
}
