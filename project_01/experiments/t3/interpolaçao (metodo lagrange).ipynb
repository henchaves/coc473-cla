{
 "cells": [
  {
   "cell_type": "code",
   "execution_count": 10,
   "id": "9c597ad4",
   "metadata": {},
   "outputs": [],
   "source": [
    "import numpy as np\n",
    "from sympy import Symbol"
   ]
  },
  {
   "cell_type": "code",
   "execution_count": 11,
   "id": "43a885f3",
   "metadata": {},
   "outputs": [],
   "source": [
    "x = Symbol('x')"
   ]
  },
  {
   "cell_type": "code",
   "execution_count": 12,
   "id": "8e12f635",
   "metadata": {},
   "outputs": [],
   "source": [
    "x_arr = np.array([-2, 0, 1]).reshape(-1, 1)\n",
    "y_arr = np.array([-27, -1, 0]).reshape(-1, 1)"
   ]
  },
  {
   "cell_type": "code",
   "execution_count": 13,
   "id": "48e7d201",
   "metadata": {},
   "outputs": [],
   "source": [
    "def calcula_phi(x_arr, i, n):\n",
    "    \n",
    "    numerator = 1\n",
    "    denominator = 1\n",
    "    \n",
    "    for k in range(1, n+1):\n",
    "        if k != i:\n",
    "            numerator *= (x-x_arr[k-1][0])\n",
    "            denominator *= (x_arr[i-1][0] - x_arr[k-1][0])\n",
    "            \n",
    "    return numerator/denominator"
   ]
  },
  {
   "cell_type": "code",
   "execution_count": 14,
   "id": "f4ad12da",
   "metadata": {},
   "outputs": [],
   "source": [
    "def interpolacao_lagrange(x_arr, y_arr):\n",
    "    n = x_arr.shape[0]\n",
    "    phi_arr = np.zeros(n, dtype=\"object\")\n",
    "    fn = 0\n",
    "    \n",
    "    for i in range(1, n+1):\n",
    "        phi_arr[i-1] = calcula_phi(x_arr, i, n)\n",
    "        fn += phi_arr[i-1]*y_arr[i-1][0]\n",
    "        \n",
    "    return (fn, lambda x_value: float(fn.subs(x, x_value)))"
   ]
  },
  {
   "cell_type": "code",
   "execution_count": 15,
   "id": "d8fc514c",
   "metadata": {},
   "outputs": [],
   "source": [
    "expr, lagrange = interpolacao_lagrange(x_arr, y_arr)"
   ]
  },
  {
   "cell_type": "code",
   "execution_count": 7,
   "id": "324b37d2",
   "metadata": {},
   "outputs": [],
   "source": [
    "x_value = -2"
   ]
  },
  {
   "cell_type": "code",
   "execution_count": 8,
   "id": "da42e858",
   "metadata": {},
   "outputs": [
    {
     "data": {
      "text/plain": [
       "-27.0"
      ]
     },
     "execution_count": 8,
     "metadata": {},
     "output_type": "execute_result"
    }
   ],
   "source": [
    "lagrange(x_value)"
   ]
  },
  {
   "cell_type": "code",
   "execution_count": 9,
   "id": "ba0d95ae",
   "metadata": {},
   "outputs": [
    {
     "data": {
      "text/latex": [
       "$\\displaystyle - \\frac{9 x \\left(x - 1\\right)}{2} + \\frac{\\left(x - 1\\right) \\left(x + 2\\right)}{2}$"
      ],
      "text/plain": [
       "-9*x*(x - 1)/2 + (x - 1)*(x + 2)/2"
      ]
     },
     "execution_count": 9,
     "metadata": {},
     "output_type": "execute_result"
    }
   ],
   "source": [
    "expr"
   ]
  },
  {
   "cell_type": "code",
   "execution_count": null,
   "id": "b22516e5",
   "metadata": {},
   "outputs": [],
   "source": []
  }
 ],
 "metadata": {
  "kernelspec": {
   "display_name": "Python 3",
   "language": "python",
   "name": "python3"
  },
  "language_info": {
   "codemirror_mode": {
    "name": "ipython",
    "version": 3
   },
   "file_extension": ".py",
   "mimetype": "text/x-python",
   "name": "python",
   "nbconvert_exporter": "python",
   "pygments_lexer": "ipython3",
   "version": "3.9.6"
  }
 },
 "nbformat": 4,
 "nbformat_minor": 5
}
