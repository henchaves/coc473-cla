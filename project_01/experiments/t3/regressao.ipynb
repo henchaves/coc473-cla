{
 "cells": [
  {
   "cell_type": "code",
   "execution_count": 1,
   "id": "bae36050",
   "metadata": {},
   "outputs": [],
   "source": [
    "import numpy as np\n",
    "from sympy import Symbol"
   ]
  },
  {
   "cell_type": "code",
   "execution_count": 2,
   "id": "284efb8b",
   "metadata": {},
   "outputs": [],
   "source": [
    "x = Symbol('x')"
   ]
  },
  {
   "cell_type": "code",
   "execution_count": 3,
   "id": "7965fe0c",
   "metadata": {},
   "outputs": [],
   "source": [
    "x_arr = np.array([1, 2, 3]).reshape(-1, 1)\n",
    "y_arr = np.array([2, 3.5, 6.5]).reshape(-1, 1)"
   ]
  },
  {
   "cell_type": "code",
   "execution_count": 7,
   "id": "04825d23",
   "metadata": {},
   "outputs": [
    {
     "data": {
      "text/plain": [
       "array([1, 2, 3])"
      ]
     },
     "execution_count": 7,
     "metadata": {},
     "output_type": "execute_result"
    }
   ],
   "source": [
    "x_arr.ravel()"
   ]
  },
  {
   "cell_type": "code",
   "execution_count": 8,
   "id": "59d89ffd",
   "metadata": {},
   "outputs": [],
   "source": [
    "def regressao_multilinear(x_arr, y_arr, grau=1):\n",
    "    \n",
    "    n = x_arr.shape[0]\n",
    "    \n",
    "    P = np.empty((n, grau+1))\n",
    "\n",
    "    for i in range(grau+1):\n",
    "        P[:, i] =  np.power(x_arr.ravel(), i)\n",
    "    \n",
    "    A = np.matmul(P.T, P)\n",
    "    C = np.matmul(P.T, y_arr)\n",
    "    b = np.round(np.matmul(np.linalg.inv(A), C), 3)\n",
    "    \n",
    "    fn = 0\n",
    "    for i in range(b.shape[0]):\n",
    "        fn += x ** i * b[i][0]\n",
    "    \n",
    "    return (fn, lambda x_value: float(fn.subs(x, x_value)))"
   ]
  },
  {
   "cell_type": "code",
   "execution_count": 9,
   "id": "a2c688cf",
   "metadata": {},
   "outputs": [],
   "source": [
    "expr, regressao = regressao_multilinear(x_arr, y_arr, grau=1)"
   ]
  },
  {
   "cell_type": "code",
   "execution_count": 10,
   "id": "e2f25e74",
   "metadata": {},
   "outputs": [],
   "source": [
    "x_value = -2"
   ]
  },
  {
   "cell_type": "code",
   "execution_count": 11,
   "id": "919ae772",
   "metadata": {},
   "outputs": [
    {
     "data": {
      "text/plain": [
       "-5.0"
      ]
     },
     "execution_count": 11,
     "metadata": {},
     "output_type": "execute_result"
    }
   ],
   "source": [
    "regressao(x_value)"
   ]
  },
  {
   "cell_type": "code",
   "execution_count": 12,
   "id": "921313cb",
   "metadata": {},
   "outputs": [
    {
     "data": {
      "text/latex": [
       "$\\displaystyle 2.25 x - 0.5$"
      ],
      "text/plain": [
       "2.25*x - 0.5"
      ]
     },
     "execution_count": 12,
     "metadata": {},
     "output_type": "execute_result"
    }
   ],
   "source": [
    "expr"
   ]
  }
 ],
 "metadata": {
  "kernelspec": {
   "display_name": "Python 3",
   "language": "python",
   "name": "python3"
  },
  "language_info": {
   "codemirror_mode": {
    "name": "ipython",
    "version": 3
   },
   "file_extension": ".py",
   "mimetype": "text/x-python",
   "name": "python",
   "nbconvert_exporter": "python",
   "pygments_lexer": "ipython3",
   "version": "3.9.6"
  }
 },
 "nbformat": 4,
 "nbformat_minor": 5
}
