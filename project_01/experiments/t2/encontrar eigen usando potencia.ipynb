{
 "cells": [
  {
   "cell_type": "code",
   "execution_count": 1,
   "id": "a6ebf14e",
   "metadata": {},
   "outputs": [],
   "source": [
    "import numpy as np"
   ]
  },
  {
   "cell_type": "code",
   "execution_count": 2,
   "id": "05e10597",
   "metadata": {},
   "outputs": [],
   "source": [
    "# Calcula o maior autovalor e seu vetor associado"
   ]
  },
  {
   "cell_type": "code",
   "execution_count": 3,
   "id": "95309c01",
   "metadata": {},
   "outputs": [],
   "source": [
    "A = np.array([\n",
    "    [1, 0.2, 0],\n",
    "    [0.2, 1, 0.5],\n",
    "    [0, 0.5, 1]\n",
    "])"
   ]
  },
  {
   "cell_type": "code",
   "execution_count": 8,
   "id": "c5e66c1e",
   "metadata": {},
   "outputs": [
    {
     "data": {
      "text/plain": [
       "array([[1. , 0.2, 0. ],\n",
       "       [0.2, 1. , 0.5],\n",
       "       [0. , 0.5, 1. ]])"
      ]
     },
     "execution_count": 8,
     "metadata": {},
     "output_type": "execute_result"
    }
   ],
   "source": [
    "A"
   ]
  },
  {
   "cell_type": "code",
   "execution_count": 4,
   "id": "09d65e6e",
   "metadata": {},
   "outputs": [],
   "source": [
    "def power_method_eigen(A, tol=10**-3):\n",
    "    n = A.shape[0]\n",
    "    \n",
    "    R = np.inf\n",
    "    \n",
    "    x_new = np.ones((n, 1))\n",
    "    lambda_new = x_new[0][0]\n",
    "    \n",
    "    while (R > tol):\n",
    "        x_old = x_new\n",
    "        lambda_old = lambda_new\n",
    "        y = np.matmul(A, x_new)\n",
    "        lambda_new = y[0][0]\n",
    "        x_new = y/lambda_new\n",
    "        \n",
    "        R = np.abs(lambda_new-lambda_old)/np.abs(lambda_new)\n",
    "    \n",
    "    return lambda_new, x_new"
   ]
  },
  {
   "cell_type": "code",
   "execution_count": 5,
   "id": "16ee0531",
   "metadata": {},
   "outputs": [],
   "source": [
    "autovalor, autovetor = power_method_eigen(A, tol=10**-3)"
   ]
  },
  {
   "cell_type": "code",
   "execution_count": 6,
   "id": "df067406",
   "metadata": {},
   "outputs": [
    {
     "data": {
      "text/plain": [
       "1.536116956916174"
      ]
     },
     "execution_count": 6,
     "metadata": {},
     "output_type": "execute_result"
    }
   ],
   "source": [
    "autovalor"
   ]
  },
  {
   "cell_type": "code",
   "execution_count": 7,
   "id": "f95d3683",
   "metadata": {},
   "outputs": [
    {
     "data": {
      "text/plain": [
       "array([[1.   ],\n",
       "       [2.685],\n",
       "       [2.492]])"
      ]
     },
     "execution_count": 7,
     "metadata": {},
     "output_type": "execute_result"
    }
   ],
   "source": [
    "np.round(autovetor, 3)"
   ]
  },
  {
   "cell_type": "code",
   "execution_count": null,
   "id": "3170f9eb",
   "metadata": {},
   "outputs": [],
   "source": []
  }
 ],
 "metadata": {
  "kernelspec": {
   "display_name": "Python 3",
   "language": "python",
   "name": "python3"
  },
  "language_info": {
   "codemirror_mode": {
    "name": "ipython",
    "version": 3
   },
   "file_extension": ".py",
   "mimetype": "text/x-python",
   "name": "python",
   "nbconvert_exporter": "python",
   "pygments_lexer": "ipython3",
   "version": "3.9.6"
  }
 },
 "nbformat": 4,
 "nbformat_minor": 5
}
