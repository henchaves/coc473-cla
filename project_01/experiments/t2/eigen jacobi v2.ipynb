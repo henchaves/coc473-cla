{
 "cells": [
  {
   "cell_type": "code",
   "execution_count": 22,
   "id": "ea1905b7",
   "metadata": {},
   "outputs": [],
   "source": [
    "import numpy as np"
   ]
  },
  {
   "cell_type": "code",
   "execution_count": 74,
   "id": "d45447e1",
   "metadata": {},
   "outputs": [],
   "source": [
    "A = np.array([\n",
    "    [1, 0.2, 0],\n",
    "    [0.2, 1, 0.5],\n",
    "    [0, 0.5, 1]\n",
    "])"
   ]
  },
  {
   "cell_type": "code",
   "execution_count": 75,
   "id": "3bec63fb",
   "metadata": {},
   "outputs": [
    {
     "data": {
      "text/plain": [
       "array([[1., 0., 0.],\n",
       "       [0., 1., 0.],\n",
       "       [0., 0., 1.]])"
      ]
     },
     "execution_count": 75,
     "metadata": {},
     "output_type": "execute_result"
    }
   ],
   "source": [
    "X = np.eye(*A.shape)\n",
    "X"
   ]
  },
  {
   "cell_type": "code",
   "execution_count": 84,
   "id": "0fc37234",
   "metadata": {},
   "outputs": [],
   "source": [
    "def verificar_simetria(A):\n",
    "    if (A == A.T).all():\n",
    "        return True\n",
    "    else:\n",
    "        return False"
   ]
  },
  {
   "cell_type": "code",
   "execution_count": 10,
   "id": "883cc981",
   "metadata": {},
   "outputs": [],
   "source": [
    "def indices_maximo_valor(A):\n",
    "    n = A.shape[0]\n",
    "    \n",
    "    max_valor = np.NINF\n",
    "    p, q = (np.nan, np.nan)\n",
    "    \n",
    "    \n",
    "    for i in range(1, n+1):\n",
    "        for j in range(i+1, n+1):\n",
    "            if np.abs(A[i-1][j-1]) > max_valor:\n",
    "                max_valor = np.abs(A[i-1][j-1])\n",
    "                p, q = i, j\n",
    "    \n",
    "    return p, q"
   ]
  },
  {
   "cell_type": "code",
   "execution_count": 14,
   "id": "076e606e",
   "metadata": {},
   "outputs": [],
   "source": [
    "def calcula_phi(A, p, q):\n",
    "    if A[p-1][p-1] == A[q-1][q-1]:\n",
    "        phi = np.pi/4\n",
    "    else:\n",
    "        phi = np.arctan(2*A[p-1][q-1]/(A[p-1][p-1]-A[q-1][q-1]))/2\n",
    "    return phi"
   ]
  },
  {
   "cell_type": "code",
   "execution_count": 12,
   "id": "502ee6e3",
   "metadata": {},
   "outputs": [],
   "source": [
    "def cria_matriz_p(phi, n, p, q):\n",
    "    P = np.eye(n, n)\n",
    "    \n",
    "    P[p-1][p-1] = np.cos(phi)\n",
    "    P[p-1][q-1] = -np.sin(phi)\n",
    "    P[q-1][p-1] = np.sin(phi)\n",
    "    P[q-1][q-1] = np.cos(phi)\n",
    "    \n",
    "    return P"
   ]
  },
  {
   "cell_type": "code",
   "execution_count": 64,
   "id": "7b6a8460",
   "metadata": {},
   "outputs": [
    {
     "data": {
      "text/plain": [
       "False"
      ]
     },
     "execution_count": 64,
     "metadata": {},
     "output_type": "execute_result"
    }
   ],
   "source": [
    "np.all([True, False])"
   ]
  },
  {
   "cell_type": "code",
   "execution_count": 65,
   "id": "b628ac0b",
   "metadata": {},
   "outputs": [],
   "source": [
    "def checar_tol(A, tol):\n",
    "    return np.all([np.abs(A[i-1][j-1]) < tol for i in range(1, A.shape[0]+1) for j in range(1, A.shape[0]+1) if i != j])"
   ]
  },
  {
   "cell_type": "code",
   "execution_count": 70,
   "id": "d8b227b8",
   "metadata": {},
   "outputs": [],
   "source": [
    "z = np.array([[3, 3],\n",
    "              [1, 1]])"
   ]
  },
  {
   "cell_type": "code",
   "execution_count": 71,
   "id": "9f0f5fea",
   "metadata": {},
   "outputs": [
    {
     "data": {
      "text/plain": [
       "False"
      ]
     },
     "execution_count": 71,
     "metadata": {},
     "output_type": "execute_result"
    }
   ],
   "source": [
    "checar_tol(z, 2)"
   ]
  },
  {
   "cell_type": "code",
   "execution_count": 15,
   "id": "84c9ac14",
   "metadata": {},
   "outputs": [
    {
     "data": {
      "text/plain": [
       "(2, 3)"
      ]
     },
     "execution_count": 15,
     "metadata": {},
     "output_type": "execute_result"
    }
   ],
   "source": [
    "p, q = indices_maximo_valor(A)\n",
    "p, q"
   ]
  },
  {
   "cell_type": "code",
   "execution_count": 16,
   "id": "38be7309",
   "metadata": {},
   "outputs": [
    {
     "data": {
      "text/plain": [
       "0.7853981633974483"
      ]
     },
     "execution_count": 16,
     "metadata": {},
     "output_type": "execute_result"
    }
   ],
   "source": [
    "phi = calcula_phi(A, p, q)\n",
    "phi"
   ]
  },
  {
   "cell_type": "code",
   "execution_count": 41,
   "id": "f6cb61cc",
   "metadata": {},
   "outputs": [
    {
     "data": {
      "text/plain": [
       "array([[ 1.        ,  0.        ,  0.        ],\n",
       "       [ 0.        ,  0.70710678, -0.70710678],\n",
       "       [ 0.        ,  0.70710678,  0.70710678]])"
      ]
     },
     "execution_count": 41,
     "metadata": {},
     "output_type": "execute_result"
    }
   ],
   "source": [
    "P = cria_matriz_p(phi, A.shape[0], p, q)\n",
    "P"
   ]
  },
  {
   "cell_type": "code",
   "execution_count": 47,
   "id": "f4aaffcd",
   "metadata": {},
   "outputs": [
    {
     "data": {
      "text/plain": [
       "array([[ 1.00000000e+00,  1.41421356e-01, -1.41421356e-01],\n",
       "       [ 1.41421356e-01,  1.50000000e+00, -1.52198045e-17],\n",
       "       [-1.41421356e-01,  8.96901945e-17,  5.00000000e-01]])"
      ]
     },
     "execution_count": 47,
     "metadata": {},
     "output_type": "execute_result"
    }
   ],
   "source": [
    "A_2 = np.matmul(P.T, A)\n",
    "A_2 = np.matmul(A_2, P)\n",
    "A_2"
   ]
  },
  {
   "cell_type": "code",
   "execution_count": 43,
   "id": "562cd6ea",
   "metadata": {},
   "outputs": [
    {
     "data": {
      "text/plain": [
       "array([[ 1.        ,  0.        ,  0.        ],\n",
       "       [ 0.        ,  0.70710678, -0.70710678],\n",
       "       [ 0.        ,  0.70710678,  0.70710678]])"
      ]
     },
     "execution_count": 43,
     "metadata": {},
     "output_type": "execute_result"
    }
   ],
   "source": [
    "X_2 = np.matmul(X, P)\n",
    "X_2"
   ]
  },
  {
   "cell_type": "code",
   "execution_count": 49,
   "id": "42551d06",
   "metadata": {},
   "outputs": [
    {
     "data": {
      "text/plain": [
       "(1, 2)"
      ]
     },
     "execution_count": 49,
     "metadata": {},
     "output_type": "execute_result"
    }
   ],
   "source": [
    "p, q = indices_maximo_valor(A_2)\n",
    "p, q"
   ]
  },
  {
   "cell_type": "code",
   "execution_count": 50,
   "id": "4e23b566",
   "metadata": {},
   "outputs": [
    {
     "data": {
      "text/plain": [
       "-0.25740297755990543"
      ]
     },
     "execution_count": 50,
     "metadata": {},
     "output_type": "execute_result"
    }
   ],
   "source": [
    "phi = calcula_phi(A_2, p, q)\n",
    "phi"
   ]
  },
  {
   "cell_type": "code",
   "execution_count": 51,
   "id": "3bd58af1",
   "metadata": {},
   "outputs": [
    {
     "data": {
      "text/plain": [
       "array([[ 0.96705436,  0.25456995,  0.        ],\n",
       "       [-0.25456995,  0.96705436,  0.        ],\n",
       "       [ 0.        ,  0.        ,  1.        ]])"
      ]
     },
     "execution_count": 51,
     "metadata": {},
     "output_type": "execute_result"
    }
   ],
   "source": [
    "P = cria_matriz_p(phi, A_2.shape[0], p, q)\n",
    "P"
   ]
  },
  {
   "cell_type": "code",
   "execution_count": 52,
   "id": "5ccbe6cf",
   "metadata": {},
   "outputs": [
    {
     "data": {
      "text/plain": [
       "array([[ 9.62771868e-01,  1.80261375e-17, -1.36762139e-01],\n",
       "       [ 2.93125329e-17,  1.53722813e+00, -3.60016278e-02],\n",
       "       [-1.36762139e-01, -3.60016278e-02,  5.00000000e-01]])"
      ]
     },
     "execution_count": 52,
     "metadata": {},
     "output_type": "execute_result"
    }
   ],
   "source": [
    "A_3 = np.matmul(P.T, A_2)\n",
    "A_3 = np.matmul(A_3, P)\n",
    "A_3"
   ]
  },
  {
   "cell_type": "code",
   "execution_count": 89,
   "id": "862f8be1",
   "metadata": {},
   "outputs": [],
   "source": [
    "def jacob_eigen(A, tol=10**-8):\n",
    "    \n",
    "    if not verificar_simetria(A):\n",
    "        print(\"Não pode.\")\n",
    "    \n",
    "    n = A.shape[0]\n",
    "    \n",
    "    X = np.eye(*A.shape)\n",
    "    \n",
    "    while True:\n",
    "        p, q = indices_maximo_valor(A)\n",
    "        phi = calcula_phi(A, p, q)\n",
    "        P = cria_matriz_p(phi, n, p, q)\n",
    "        \n",
    "        A = np.matmul(P.T, A)\n",
    "        A = np.matmul(A, P)\n",
    "        \n",
    "        X = np.matmul(X, P)\n",
    "        \n",
    "        if checar_tol(A, tol):\n",
    "            return A, X"
   ]
  },
  {
   "cell_type": "code",
   "execution_count": 90,
   "id": "a9dcc6f3",
   "metadata": {},
   "outputs": [],
   "source": [
    "A_, X_ = jacob_eigen(A, tol=10**-8)"
   ]
  },
  {
   "cell_type": "code",
   "execution_count": 92,
   "id": "1f495855",
   "metadata": {},
   "outputs": [
    {
     "data": {
      "text/plain": [
       "array([[ 1.   ,  0.   , -0.   ],\n",
       "       [ 0.   ,  1.539, -0.   ],\n",
       "       [-0.   ,  0.   ,  0.461]])"
      ]
     },
     "execution_count": 92,
     "metadata": {},
     "output_type": "execute_result"
    }
   ],
   "source": [
    "np.round(A_, 3)"
   ]
  },
  {
   "cell_type": "code",
   "execution_count": 94,
   "id": "f93500ba",
   "metadata": {},
   "outputs": [
    {
     "data": {
      "text/plain": [
       "array([[ 0.928,  0.263,  0.263],\n",
       "       [ 0.   ,  0.707, -0.707],\n",
       "       [-0.371,  0.657,  0.657]])"
      ]
     },
     "execution_count": 94,
     "metadata": {},
     "output_type": "execute_result"
    }
   ],
   "source": [
    "np.round(X_, 3)"
   ]
  },
  {
   "cell_type": "code",
   "execution_count": 100,
   "id": "d67cbd46",
   "metadata": {},
   "outputs": [
    {
     "name": "stdout",
     "output_type": "stream",
     "text": [
      "Matriz não é simétrica\n"
     ]
    }
   ],
   "source": [
    "try:\n",
    "    raise Exception(\"Matriz não é simétrica\")\n",
    "    \n",
    "except Exception as err:\n",
    "    print(err)"
   ]
  },
  {
   "cell_type": "code",
   "execution_count": 88,
   "id": "185164c6",
   "metadata": {},
   "outputs": [
    {
     "data": {
      "text/plain": [
       "True"
      ]
     },
     "execution_count": 88,
     "metadata": {},
     "output_type": "execute_result"
    }
   ],
   "source": [
    "verificar_simetria(A)"
   ]
  }
 ],
 "metadata": {
  "kernelspec": {
   "display_name": "Python 3",
   "language": "python",
   "name": "python3"
  },
  "language_info": {
   "codemirror_mode": {
    "name": "ipython",
    "version": 3
   },
   "file_extension": ".py",
   "mimetype": "text/x-python",
   "name": "python",
   "nbconvert_exporter": "python",
   "pygments_lexer": "ipython3",
   "version": "3.9.6"
  }
 },
 "nbformat": 4,
 "nbformat_minor": 5
}
