{
 "cells": [
  {
   "cell_type": "code",
   "execution_count": 1,
   "id": "bf1c8cba",
   "metadata": {},
   "outputs": [],
   "source": [
    "import numpy as np"
   ]
  },
  {
   "cell_type": "code",
   "execution_count": null,
   "id": "6fac5786",
   "metadata": {},
   "outputs": [],
   "source": [
    "# Só funciona com matrizes simetricas\n",
    "# A == A.T"
   ]
  },
  {
   "cell_type": "code",
   "execution_count": 56,
   "id": "793684dd",
   "metadata": {},
   "outputs": [],
   "source": [
    "A = np.array([\n",
    "    [1, 0.2, 0],\n",
    "    [0.2, 1, 0.5],\n",
    "    [0, 0.5, 1]\n",
    "])"
   ]
  },
  {
   "cell_type": "code",
   "execution_count": 65,
   "id": "2ab4466f",
   "metadata": {},
   "outputs": [
    {
     "data": {
      "text/plain": [
       "1.2626272556789118"
      ]
     },
     "execution_count": 65,
     "metadata": {},
     "output_type": "execute_result"
    }
   ],
   "source": [
    "np.arctan(np.pi)"
   ]
  },
  {
   "cell_type": "code",
   "execution_count": 67,
   "id": "e01735a6",
   "metadata": {},
   "outputs": [],
   "source": [
    "def calcular_phi(A):\n",
    "    max_valor = A[(np.ones(A.shape) - np.eye(*A.shape)).astype(bool)].max()\n",
    "    indices = np.where(A == max_valor)\n",
    "    \n",
    "    for k in range(len(indices[0])):\n",
    "        i, j = indices[0][k], indices[1][k]\n",
    "        if i != j:\n",
    "            break\n",
    "            \n",
    "    if A[i][i] == A[j][j]:\n",
    "        phi = np.pi/4\n",
    "    else:\n",
    "        phi = np.arctan(2*A[i][j]/(A[i][i]-A[j][j]))/2\n",
    "    return phi"
   ]
  },
  {
   "cell_type": "code",
   "execution_count": 69,
   "id": "7a7ad6c9",
   "metadata": {},
   "outputs": [
    {
     "data": {
      "text/plain": [
       "0.7071067811865476"
      ]
     },
     "execution_count": 69,
     "metadata": {},
     "output_type": "execute_result"
    }
   ],
   "source": [
    "np.cos(calcular_phi(A))"
   ]
  },
  {
   "cell_type": "code",
   "execution_count": null,
   "id": "6a953b5c",
   "metadata": {},
   "outputs": [],
   "source": [
    "def jacob_eigen(A, tol=10**-9):\n",
    "    n = A.shape[0]\n",
    "    \n",
    "    R = np.inf\n",
    "    \n",
    "    A_new = A\n",
    "    X_new = np.eye(*A.shape)\n",
    "    \n",
    "    phi = calcular_phi(A)\n",
    "    \n",
    "    k = 1\n",
    "    \n",
    "    while True:\n",
    "        \n",
    "    \n",
    "    while (R > tol):\n",
    "        x_old = x_new\n",
    "        lambda_old = lambda_new\n",
    "        y = np.matmul(A, x_new)\n",
    "        lambda_new = y[0][0]\n",
    "        x_new = y/lambda_new\n",
    "        \n",
    "        R = np.abs(lambda_new-lambda_old)/np.abs(lambda_new)\n",
    "    \n",
    "    return lambda_new, x_new"
   ]
  }
 ],
 "metadata": {
  "kernelspec": {
   "display_name": "Python 3",
   "language": "python",
   "name": "python3"
  },
  "language_info": {
   "codemirror_mode": {
    "name": "ipython",
    "version": 3
   },
   "file_extension": ".py",
   "mimetype": "text/x-python",
   "name": "python",
   "nbconvert_exporter": "python",
   "pygments_lexer": "ipython3",
   "version": "3.9.6"
  }
 },
 "nbformat": 4,
 "nbformat_minor": 5
}
