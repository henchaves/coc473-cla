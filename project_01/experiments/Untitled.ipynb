{
 "cells": [
  {
   "cell_type": "code",
   "execution_count": 1,
   "id": "c5fecefb",
   "metadata": {},
   "outputs": [],
   "source": [
    "#Decomposição LU\n",
    "#Decomposição de Cholesky\n",
    "#Procedimento iterativo de Jacobi\n",
    "#Procedimento iterativo de Gauss-Seidel"
   ]
  },
  {
   "cell_type": "code",
   "execution_count": 2,
   "id": "e67b9b3d",
   "metadata": {},
   "outputs": [],
   "source": [
    "import numpy as np\n",
    "from scipy import linalg"
   ]
  },
  {
   "cell_type": "code",
   "execution_count": 3,
   "id": "c7719121",
   "metadata": {},
   "outputs": [],
   "source": [
    "A = np.array([[1, 2, 2],\n",
    "              [4, 4, 2],\n",
    "              [4, 6, 4]])"
   ]
  },
  {
   "cell_type": "code",
   "execution_count": 4,
   "id": "ce890131",
   "metadata": {},
   "outputs": [],
   "source": [
    "b = np.array([3, 6, 10])"
   ]
  },
  {
   "cell_type": "code",
   "execution_count": 5,
   "id": "15520005",
   "metadata": {},
   "outputs": [],
   "source": [
    "def decomposicao_lu(A):\n",
    "    n = A.shape[0]\n",
    "\n",
    "    L = np.eye(n, dtype=np.double)\n",
    "    \n",
    "    for i in range(n):\n",
    "        factor = A[i+1:, i]/A[i, i]\n",
    "        L[i+1:, i] = factor\n",
    "        A[i+1:] = A[i+1:] - factor[:, np.newaxis] * A[i]\n",
    "    \n",
    "    return L, A"
   ]
  },
  {
   "cell_type": "code",
   "execution_count": 6,
   "id": "cce0ff22",
   "metadata": {},
   "outputs": [],
   "source": [
    "L, U = decomposicao_lu(A)"
   ]
  },
  {
   "cell_type": "code",
   "execution_count": 7,
   "id": "3515180c",
   "metadata": {},
   "outputs": [
    {
     "name": "stdout",
     "output_type": "stream",
     "text": [
      "L:\n"
     ]
    },
    {
     "data": {
      "text/plain": [
       "array([[1. , 0. , 0. ],\n",
       "       [4. , 1. , 0. ],\n",
       "       [4. , 0.5, 1. ]])"
      ]
     },
     "metadata": {},
     "output_type": "display_data"
    },
    {
     "name": "stdout",
     "output_type": "stream",
     "text": [
      "\n",
      "----\n",
      "\n",
      "U:\n"
     ]
    },
    {
     "data": {
      "text/plain": [
       "array([[ 1,  2,  2],\n",
       "       [ 0, -4, -6],\n",
       "       [ 0,  0, -1]])"
      ]
     },
     "metadata": {},
     "output_type": "display_data"
    }
   ],
   "source": [
    "print(\"L:\")\n",
    "display(L)\n",
    "print(\"\\n----\\n\")\n",
    "print(\"U:\")\n",
    "display(U)"
   ]
  },
  {
   "cell_type": "code",
   "execution_count": 14,
   "id": "fa64d86d",
   "metadata": {},
   "outputs": [],
   "source": [
    "def resolve_lu(L, U, b):\n",
    "    n = len(b)\n",
    "    y = np.zeros(n)\n",
    "    x = np.zeros(n)\n",
    "    \n",
    "    y[0] = b[0]/L[0, 0]\n",
    "    \n",
    "    for i in range(2, n+1):\n",
    "        soma = 0\n",
    "        for j in range(1, i):\n",
    "            soma += L[i-1, j-1]*y[j-1]\n",
    "        y[i-1] = (b[i-1] - soma)/L[i-1, i-1]\n",
    "\n",
    "    \n",
    "    x[n-1] = y[n-1]/U[n-1, n-1]\n",
    "    print(x[n-1])\n",
    "    \n",
    "    for i in reversed(range(1, n)):\n",
    "        soma = 0\n",
    "        for j in range(i+1, n+1):\n",
    "            soma += U[i-1, j-1]*x[j-1]\n",
    "        x[i-1] = (y[i-1] - soma)/U[i-1, i-1] \n",
    "\n",
    "    \n",
    "    return x"
   ]
  },
  {
   "cell_type": "code",
   "execution_count": 15,
   "id": "38098eeb",
   "metadata": {},
   "outputs": [
    {
     "name": "stdout",
     "output_type": "stream",
     "text": [
      "-1.0\n"
     ]
    }
   ],
   "source": [
    "x = resolve_lu(L, U, b)"
   ]
  },
  {
   "cell_type": "code",
   "execution_count": 16,
   "id": "de27f326",
   "metadata": {},
   "outputs": [
    {
     "data": {
      "text/plain": [
       "array([-1.,  3., -1.])"
      ]
     },
     "execution_count": 16,
     "metadata": {},
     "output_type": "execute_result"
    }
   ],
   "source": [
    "x"
   ]
  },
  {
   "cell_type": "code",
   "execution_count": 19,
   "id": "522bc3fd",
   "metadata": {},
   "outputs": [
    {
     "data": {
      "text/plain": [
       "array([10.,  6., -2.])"
      ]
     },
     "execution_count": 19,
     "metadata": {},
     "output_type": "execute_result"
    }
   ],
   "source": [
    "x"
   ]
  },
  {
   "cell_type": "code",
   "execution_count": null,
   "id": "dfa575a5",
   "metadata": {},
   "outputs": [],
   "source": [
    "A_new"
   ]
  },
  {
   "cell_type": "code",
   "execution_count": null,
   "id": "1cd4afbc",
   "metadata": {},
   "outputs": [],
   "source": [
    "L"
   ]
  },
  {
   "cell_type": "code",
   "execution_count": null,
   "id": "b37a6bbd",
   "metadata": {},
   "outputs": [],
   "source": [
    "U"
   ]
  },
  {
   "cell_type": "code",
   "execution_count": null,
   "id": "00caf6a5",
   "metadata": {},
   "outputs": [],
   "source": [
    "np.zeros((4, 4))"
   ]
  },
  {
   "cell_type": "code",
   "execution_count": null,
   "id": "1bf7293d",
   "metadata": {},
   "outputs": [],
   "source": [
    "i, j = A.shape"
   ]
  },
  {
   "cell_type": "code",
   "execution_count": null,
   "id": "4e8af1dc",
   "metadata": {},
   "outputs": [],
   "source": [
    "j"
   ]
  },
  {
   "cell_type": "code",
   "execution_count": 17,
   "id": "0ef0e93d",
   "metadata": {},
   "outputs": [],
   "source": [
    "import pandas as pd"
   ]
  },
  {
   "cell_type": "code",
   "execution_count": 26,
   "id": "e8ba44ef",
   "metadata": {},
   "outputs": [],
   "source": [
    "df = pd.read_table(\"../src/matrix_A_sample.txt\", header=None,sep=\" \")"
   ]
  },
  {
   "cell_type": "code",
   "execution_count": 27,
   "id": "04ba9e2e",
   "metadata": {},
   "outputs": [
    {
     "data": {
      "text/plain": [
       "array([[1, 2, 2],\n",
       "       [4, 4, 2],\n",
       "       [4, 6, 4]])"
      ]
     },
     "execution_count": 27,
     "metadata": {},
     "output_type": "execute_result"
    }
   ],
   "source": [
    "df.to_numpy()"
   ]
  },
  {
   "cell_type": "code",
   "execution_count": 28,
   "id": "86369054",
   "metadata": {},
   "outputs": [
    {
     "data": {
      "text/html": [
       "<div>\n",
       "<style scoped>\n",
       "    .dataframe tbody tr th:only-of-type {\n",
       "        vertical-align: middle;\n",
       "    }\n",
       "\n",
       "    .dataframe tbody tr th {\n",
       "        vertical-align: top;\n",
       "    }\n",
       "\n",
       "    .dataframe thead th {\n",
       "        text-align: right;\n",
       "    }\n",
       "</style>\n",
       "<table border=\"1\" class=\"dataframe\">\n",
       "  <thead>\n",
       "    <tr style=\"text-align: right;\">\n",
       "      <th></th>\n",
       "      <th>1 2 2</th>\n",
       "    </tr>\n",
       "  </thead>\n",
       "  <tbody>\n",
       "    <tr>\n",
       "      <th>0</th>\n",
       "      <td>4 4 2</td>\n",
       "    </tr>\n",
       "    <tr>\n",
       "      <th>1</th>\n",
       "      <td>4 6 4</td>\n",
       "    </tr>\n",
       "  </tbody>\n",
       "</table>\n",
       "</div>"
      ],
      "text/plain": [
       "   1 2 2\n",
       "0  4 4 2\n",
       "1  4 6 4"
      ]
     },
     "execution_count": 28,
     "metadata": {},
     "output_type": "execute_result"
    }
   ],
   "source": [
    "pd.read_csv(\"../src/matrix_A_sample.txt\")"
   ]
  },
  {
   "cell_type": "code",
   "execution_count": 32,
   "id": "0f436e35",
   "metadata": {},
   "outputs": [],
   "source": [
    "with open('../src/matrix_A_sample.txt', 'r') as f:\n",
    "    a = f.read()"
   ]
  },
  {
   "cell_type": "code",
   "execution_count": 34,
   "id": "9e90210a",
   "metadata": {},
   "outputs": [
    {
     "data": {
      "text/plain": [
       "b'1 2 2\\n4 4 2\\n4 6 4'"
      ]
     },
     "execution_count": 34,
     "metadata": {},
     "output_type": "execute_result"
    }
   ],
   "source": [
    "a.encode()"
   ]
  }
 ],
 "metadata": {
  "kernelspec": {
   "display_name": "Python 3",
   "language": "python",
   "name": "python3"
  },
  "language_info": {
   "codemirror_mode": {
    "name": "ipython",
    "version": 3
   },
   "file_extension": ".py",
   "mimetype": "text/x-python",
   "name": "python",
   "nbconvert_exporter": "python",
   "pygments_lexer": "ipython3",
   "version": "3.9.6"
  }
 },
 "nbformat": 4,
 "nbformat_minor": 5
}
