{
 "cells": [
  {
   "cell_type": "code",
   "execution_count": 18,
   "id": "a82bdd6f",
   "metadata": {},
   "outputs": [],
   "source": [
    "from datetime import datetime\n",
    "import numpy as np\n",
    "import pandas as pd"
   ]
  },
  {
   "cell_type": "code",
   "execution_count": 16,
   "id": "7e11f3b8",
   "metadata": {},
   "outputs": [],
   "source": [
    "b = np.array([1, 2, 3]).reshape(-1, 1)"
   ]
  },
  {
   "cell_type": "code",
   "execution_count": 13,
   "id": "014b5bc7",
   "metadata": {},
   "outputs": [
    {
     "data": {
      "text/plain": [
       "'2021_08_25__15_56_24'"
      ]
     },
     "execution_count": 13,
     "metadata": {},
     "output_type": "execute_result"
    }
   ],
   "source": [
    "datetime.now().strftime(\"%Y_%m_%d__%H_%M_%S\")"
   ]
  },
  {
   "cell_type": "code",
   "execution_count": 20,
   "id": "3d50f322",
   "metadata": {},
   "outputs": [],
   "source": [
    "pd.DataFrame(b).to_csv(\"teste.txt\", header=False, index=False)"
   ]
  },
  {
   "cell_type": "code",
   "execution_count": 25,
   "id": "2d08f916",
   "metadata": {},
   "outputs": [
    {
     "data": {
      "text/plain": [
       "array([[0.]])"
      ]
     },
     "execution_count": 25,
     "metadata": {},
     "output_type": "execute_result"
    }
   ],
   "source": [
    "np.zeros((1,1))"
   ]
  }
 ],
 "metadata": {
  "kernelspec": {
   "display_name": "Python 3",
   "language": "python",
   "name": "python3"
  },
  "language_info": {
   "codemirror_mode": {
    "name": "ipython",
    "version": 3
   },
   "file_extension": ".py",
   "mimetype": "text/x-python",
   "name": "python",
   "nbconvert_exporter": "python",
   "pygments_lexer": "ipython3",
   "version": "3.9.6"
  }
 },
 "nbformat": 4,
 "nbformat_minor": 5
}
